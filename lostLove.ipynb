{
 "cells": [
  {
   "cell_type": "code",
   "execution_count": null,
   "id": "d7e76842",
   "metadata": {},
   "outputs": [],
   "source": [
    "import calcOneDay\n",
    "import getDays\n",
    "from datetime import datetime, timedelta\n",
    "import calcTimeNow\n",
    "import daysAndDates\n",
    "import os\n",
    "\n",
    "# Calculate the time and date for end of day calculations\n",
    "\n",
    "xy = calcOneDay.calcOneDay()\n",
    "start, end = (xy[0], xy[1])\n",
    "dayInfo = daysAndDates.daysAndDates()\n",
    "\n",
    "month, month_num, date, year = dayInfo[0], dayInfo[1], dayInfo[2], dayInfo[3]\n",
    "yesterday = int(dayInfo[4])\n",
    "nextDay = int(dayInfo[5])\n",
    "print(month, month_num, date, year)"
   ]
  },
  {
   "cell_type": "code",
   "execution_count": 22,
   "id": "7417b65d",
   "metadata": {},
   "outputs": [],
   "source": [
    "#\n",
    "# Get the data from the mySQL table for yesterday\n",
    "#\n",
    "\n",
    "import pandas as pd\n",
    "import pymysql as dbapi\n",
    "from pretty_html_table import build_table\n",
    "import os\n",
    "\n",
    "#\n",
    "# use environmental variables for the SQL query\n",
    "#\n",
    "\n",
    "db_user = os.environ.get('dbUser')\n",
    "db_password = os.environ.get('dbPass')\n",
    "\n",
    "QUERY2 = \"\"\"SELECT * FROM davisUpdate \n",
    "         WHERE Month = %s\"\"\" % (month_num)\n",
    "\n",
    "\n",
    "html_path = '/var/www/html/000/'\n",
    "#html_path = '/Users/jameshayes/'\n",
    "db = dbapi.connect(host='3.135.162.69', user='chuckwx', passwd='jfr716!!00', database = 'davisf6', port = 3306)\n",
    "\n",
    "cur = db.cursor()\n",
    "cur.execute(QUERY2)\n",
    "dateResult = cur.fetchall()\n",
    "\n",
    "colNames = (['index', 'Year', 'Month', 'Date', 'High', 'Low', 'Average', 'HDD', 'CDD', 'Rainfall', 'Max_Dew_Point']) \n",
    "pd.options.display.float_format = '{:,.2f}'.format\n",
    "df3 = pd.DataFrame(dateResult, columns = colNames) \n",
    "df3 = df3.drop(df3.columns[[0, 1]], axis = 1)\n",
    "df3 = df3.reindex(columns=['Date', 'High', 'Low', 'Average', 'HDD', 'CDD', 'Rainfall', 'Max_Dew_Point'])\n",
    "df3.to_html(f'{html_path}throttled.html', index = False)     \n",
    "\n",
    "html_table_blue_light = build_table(df3, 'blue_light', text_align='center', font_size ='32px')\n",
    "\n",
    "with open(f'{html_path}davisLocal.html', 'w') as f:\n",
    "          f.write(html_table_blue_light)   "
   ]
  }
 ],
 "metadata": {
  "kernelspec": {
   "display_name": "Python 3 (ipykernel)",
   "language": "python",
   "name": "python3"
  },
  "language_info": {
   "codemirror_mode": {
    "name": "ipython",
    "version": 3
   },
   "file_extension": ".py",
   "mimetype": "text/x-python",
   "name": "python",
   "nbconvert_exporter": "python",
   "pygments_lexer": "ipython3",
   "version": "3.10.9"
  }
 },
 "nbformat": 4,
 "nbformat_minor": 5
}
