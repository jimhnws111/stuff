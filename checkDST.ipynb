{
 "cells": [
  {
   "cell_type": "code",
   "execution_count": 1,
   "id": "19d28f3a",
   "metadata": {},
   "outputs": [],
   "source": [
    "from datetime import datetime\n",
    "import time\n",
    "\n",
    "def checkDST():\n",
    "\n",
    "    #\n",
    "    # Calculate the current time\n",
    "    # and convert to datetime\n",
    "    #\n",
    "\n",
    "    ts = time.time()\n",
    "    ts = (int(ts))\n",
    "    setTime = datetime.fromtimestamp(ts)\n",
    "   \n",
    "    #\n",
    "    # Set the time changes in datetime format\n",
    "    # and compare today to those dates\n",
    "    #\n",
    "\n",
    "    est2edt = '2024-03-10 06:00:00'\n",
    "    est2EDT = datetime.strptime(est2edt, '%Y-%m-%d %H:%M:%S')\n",
    "    edt2est = '2024-11-03 06:00:00'\n",
    "    edt2EST = datetime.strptime(edt2est, '%Y-%m-%d %H:%M:%S')\n",
    "\n",
    "    if est2EDT < setTime < edt2EST:\n",
    "        isDST = 1\n",
    "    else:\n",
    "        isDST = 0\n",
    "    \n",
    "    return(isDST)"
   ]
  },
  {
   "cell_type": "code",
   "execution_count": 2,
   "id": "418457b6",
   "metadata": {},
   "outputs": [
    {
     "name": "stdout",
     "output_type": "stream",
     "text": [
      "2024-03-26 22:42:53\n"
     ]
    },
    {
     "data": {
      "text/plain": [
       "1"
      ]
     },
     "execution_count": 2,
     "metadata": {},
     "output_type": "execute_result"
    }
   ],
   "source": [
    "checkDST()"
   ]
  },
  {
   "cell_type": "code",
   "execution_count": null,
   "id": "e2e66cc7",
   "metadata": {},
   "outputs": [],
   "source": []
  }
 ],
 "metadata": {
  "kernelspec": {
   "display_name": "Python 3 (ipykernel)",
   "language": "python",
   "name": "python3"
  },
  "language_info": {
   "codemirror_mode": {
    "name": "ipython",
    "version": 3
   },
   "file_extension": ".py",
   "mimetype": "text/x-python",
   "name": "python",
   "nbconvert_exporter": "python",
   "pygments_lexer": "ipython3",
   "version": "3.10.9"
  }
 },
 "nbformat": 4,
 "nbformat_minor": 5
}
