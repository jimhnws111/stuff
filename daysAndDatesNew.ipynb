{
 "cells": [
  {
   "cell_type": "code",
   "execution_count": 33,
   "id": "b67cdd5f",
   "metadata": {},
   "outputs": [],
   "source": [
    "from datetime import datetime, timedelta\n",
    "import calcOneDay\n",
    "import getDays\n",
    "import calendar\n",
    "\n",
    "def daysAndDatesNew():\n",
    "\n",
    "    # Calculate the time and date for end of day calculations\n",
    "\n",
    "    xy = calcOneDay.calcOneDay()\n",
    "    start, end = (xy[0], xy[1])\n",
    "\n",
    "    todayInfo = getDays.getToday()\n",
    "    day = int(todayInfo[2])\n",
    "    yesterdayInfo = getDays.getYesterday()\n",
    "    print(yesterdayInfo)\n",
    "    \n",
    "    tomorrowInfo = getDays.getTomorrow()  \n",
    "                    \n",
    "    if day == 1:\n",
    "        yesterday = int(yesterdayInfo[2])\n",
    "        nextDay = (int(tomorrowInfo[2]))\n",
    "        month, month_num, date, year = yesterdayInfo[0], yesterdayInfo[1], yesterdayInfo[2], yesterdayInfo[3]\n",
    "        month_num1 = int(month_num)\n",
    "        nextMonth_num = month_num1 + 1\n",
    "        nextMonth = (calendar.month_name[nextMonth_num])           \n",
    "        \n",
    "        return(month, month_num, date, year, yesterday, nextDay, nextMonth)             \n",
    "            \n",
    "    else:\n",
    "        yesterday = int(yesterdayInfo[2])\n",
    "        nextDay = int(tomorrowInfo[2])\n",
    "        month, month_num, date, year = todayInfo[0], todayInfo[1], todayInfo[2], todayInfo[3]   \n",
    "              \n",
    "        return(month, month_num, date, year, yesterday, nextDay)"
   ]
  },
  {
   "cell_type": "code",
   "execution_count": 34,
   "id": "be74a2d2",
   "metadata": {},
   "outputs": [
    {
     "name": "stdout",
     "output_type": "stream",
     "text": [
      "('March', '03', '11', '2024')\n"
     ]
    },
    {
     "data": {
      "text/plain": [
       "('March', '03', '11', '2024', 11, 13, 'April')"
      ]
     },
     "execution_count": 34,
     "metadata": {},
     "output_type": "execute_result"
    }
   ],
   "source": [
    "daysAndDatesNew()"
   ]
  },
  {
   "cell_type": "code",
   "execution_count": null,
   "id": "22058d42",
   "metadata": {},
   "outputs": [],
   "source": []
  },
  {
   "cell_type": "code",
   "execution_count": null,
   "id": "e58f7e6f",
   "metadata": {},
   "outputs": [],
   "source": []
  },
  {
   "cell_type": "code",
   "execution_count": null,
   "id": "1efde679",
   "metadata": {},
   "outputs": [],
   "source": []
  }
 ],
 "metadata": {
  "kernelspec": {
   "display_name": "Python 3 (ipykernel)",
   "language": "python",
   "name": "python3"
  },
  "language_info": {
   "codemirror_mode": {
    "name": "ipython",
    "version": 3
   },
   "file_extension": ".py",
   "mimetype": "text/x-python",
   "name": "python",
   "nbconvert_exporter": "python",
   "pygments_lexer": "ipython3",
   "version": "3.10.9"
  }
 },
 "nbformat": 4,
 "nbformat_minor": 5
}
