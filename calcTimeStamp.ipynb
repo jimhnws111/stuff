{
 "cells": [
  {
   "cell_type": "code",
   "execution_count": 32,
   "id": "7200c831",
   "metadata": {},
   "outputs": [],
   "source": [
    "import datetime\n",
    "import time\n",
    "from datetime import datetime\n",
    "\n",
    "def calcTimeStamp():\n",
    "    now = datetime.now()\n",
    "    dayOfMonth = int(now.strftime(\"%d\"))\n",
    "    month = int(now.strftime(\"%m\"))\n",
    "    year = int(now.strftime(\"%Y\"))\n",
    "    start = datetime(year, month, dayOfMonth).strftime(\"%s\") \n",
    "    end = round(time.time())\n",
    "    \n",
    "    return(start,end)"
   ]
  }
 ],
 "metadata": {
  "kernelspec": {
   "display_name": "Python 3 (ipykernel)",
   "language": "python",
   "name": "python3"
  },
  "language_info": {
   "codemirror_mode": {
    "name": "ipython",
    "version": 3
   },
   "file_extension": ".py",
   "mimetype": "text/x-python",
   "name": "python",
   "nbconvert_exporter": "python",
   "pygments_lexer": "ipython3",
   "version": "3.9.13"
  }
 },
 "nbformat": 4,
 "nbformat_minor": 5
}
