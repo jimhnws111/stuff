{
 "cells": [
  {
   "cell_type": "code",
   "execution_count": 198,
   "id": "7200c831",
   "metadata": {},
   "outputs": [],
   "source": [
    "import datetime\n",
    "import time\n",
    "from datetime import datetime, date\n",
    "from dateutil.tz import tzutc, tzlocal\n",
    "import pytz\n",
    "\n",
    "def calcTimeStamp():\n",
    "    timezone = pytz.timezone(\"America/New_York\")\n",
    "    now = int(time.time())\n",
    "    dt_object = datetime.fromtimestamp(now)\n",
    "    localT = dt_object.astimezone(timezone)\n",
    "    lastTime = localT.strftime('%I:%M %p');print(localT)\n",
    "    lastT = datetime.timestamp(localT)  \n",
    "    dayOfMonth = int(localT.strftime(\"%d\"))\n",
    "    month = int(dt_object.strftime(\"%-m\"))\n",
    "    year = int(dt_object.strftime(\"%Y\"))\n",
    "    \n",
    "        \n",
    "    end = round(time.time())\n",
    "    print(end)\n",
    "    \n",
    "    return(start,end)"
   ]
  },
  {
   "cell_type": "code",
   "execution_count": 199,
   "id": "8f81427f",
   "metadata": {},
   "outputs": [
    {
     "name": "stdout",
     "output_type": "stream",
     "text": [
      "2023-03-26 18:11:13-04:00\n",
      "1679868673\n"
     ]
    },
    {
     "ename": "NameError",
     "evalue": "name 'start' is not defined",
     "output_type": "error",
     "traceback": [
      "\u001b[0;31m---------------------------------------------------------------------------\u001b[0m",
      "\u001b[0;31mNameError\u001b[0m                                 Traceback (most recent call last)",
      "Cell \u001b[0;32mIn[199], line 1\u001b[0m\n\u001b[0;32m----> 1\u001b[0m \u001b[43mcalcTimeStamp\u001b[49m\u001b[43m(\u001b[49m\u001b[43m)\u001b[49m\n",
      "Cell \u001b[0;32mIn[198], line 22\u001b[0m, in \u001b[0;36mcalcTimeStamp\u001b[0;34m()\u001b[0m\n\u001b[1;32m     19\u001b[0m end \u001b[38;5;241m=\u001b[39m \u001b[38;5;28mround\u001b[39m(time\u001b[38;5;241m.\u001b[39mtime())\n\u001b[1;32m     20\u001b[0m \u001b[38;5;28mprint\u001b[39m(end)\n\u001b[0;32m---> 22\u001b[0m \u001b[38;5;28;01mreturn\u001b[39;00m(\u001b[43mstart\u001b[49m,end)\n",
      "\u001b[0;31mNameError\u001b[0m: name 'start' is not defined"
     ]
    }
   ],
   "source": [
    "calcTimeStamp()"
   ]
  },
  {
   "cell_type": "code",
   "execution_count": null,
   "id": "c0114f25",
   "metadata": {},
   "outputs": [],
   "source": []
  },
  {
   "cell_type": "code",
   "execution_count": null,
   "id": "3afd27f9",
   "metadata": {},
   "outputs": [],
   "source": []
  }
 ],
 "metadata": {
  "kernelspec": {
   "display_name": "Python 3 (ipykernel)",
   "language": "python",
   "name": "python3"
  },
  "language_info": {
   "codemirror_mode": {
    "name": "ipython",
    "version": 3
   },
   "file_extension": ".py",
   "mimetype": "text/x-python",
   "name": "python",
   "nbconvert_exporter": "python",
   "pygments_lexer": "ipython3",
   "version": "3.10.9"
  }
 },
 "nbformat": 4,
 "nbformat_minor": 5
}
