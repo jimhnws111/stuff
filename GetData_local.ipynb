{
 "cells": [
  {
   "cell_type": "code",
   "execution_count": 8,
   "metadata": {},
   "outputs": [],
   "source": [
    "import json\n",
    "import urllib\n",
    "import requests\n",
    "import csv\n",
    "import re"
   ]
  },
  {
   "cell_type": "code",
   "execution_count": 9,
   "metadata": {},
   "outputs": [],
   "source": [
    "#urltest = 'https://api.synopticdata.com/v2/stations/latest?token=146a1e25358f48f0a9d83a9a0d55e05c&state=ca&network=1,2&minmax=1&minmaxtype=local&units=english&within=60&vars=air_temp'\n",
    "#urltest = 'https://api.synopticdata.com/v2/stations/latest?token=demotoken&bbox=-125,24.5,-66.95,49.35&country=us&network=1,2&minmax=1&minmaxtype=utc&units=english&within=60&vars=air_temp'\n",
    "#urltest = 'https://api.synopticdata.com/v2/stations/latest?token=146a1e25358f48f0a9d83a9a0d55e05c&bbox=-125,24.5,-66.95,49.35&country=us&network=1,2&minmax=1&minmaxtype=utc&units=english&within=60&vars=air_temp'\n",
    "urltest = 'https://api.synopticdata.com/v2/stations/latest?token=146a1e25358f48f0a9d83a9a0d55e05c&bbox=-125,24.5,-66.95,49.35&country=us&network=1,2,26,123&minmax=1&minmaxtype=local&units=english&within=60&vars=air_temp&showemptystations=0'\n",
    "\n",
    "r =  requests.get(urltest)\n",
    "r.encoding = 'utf-8'\n",
    "#print (r.json())\n",
    "#print (r.encoding)\n",
    "#print (r.headers)\n",
    "\n",
    "with open('/Users/jameshayes/TEST996.json','w') as fd:\n",
    "     json.dump(r.json(), fd)"
   ]
  },
  {
   "cell_type": "code",
   "execution_count": null,
   "metadata": {},
   "outputs": [],
   "source": []
  }
 ],
 "metadata": {
  "kernelspec": {
   "display_name": "Python 3 (ipykernel)",
   "language": "python",
   "name": "python3"
  },
  "language_info": {
   "codemirror_mode": {
    "name": "ipython",
    "version": 3
   },
   "file_extension": ".py",
   "mimetype": "text/x-python",
   "name": "python",
   "nbconvert_exporter": "python",
   "pygments_lexer": "ipython3",
   "version": "3.9.13"
  }
 },
 "nbformat": 4,
 "nbformat_minor": 2
}
