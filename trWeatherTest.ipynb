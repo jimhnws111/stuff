{
 "cells": [
  {
   "cell_type": "code",
   "execution_count": null,
   "id": "558bbf84",
   "metadata": {},
   "outputs": [],
   "source": [
    "import pandas as pd\n",
    "import os\n",
    "\n",
    "path = '/tmp/'\n",
    "path1 = '/home/ec2-user/'\n",
    "path2 = '/var/www/html/000/'\n",
    "fileName = 'trw1.csv'\n",
    "dataFile = f'{path}{fileName}'\n",
    "\n",
    "df = pd.read_csv(dataFile, index_col = False, sep = '\\t', names = ['index', 'Rain', 'HiTemp', 'LowTemp', 'Year', 'Month', 'Day', 'timeGroup'])\n",
    "newDate = df['Month'] + df['Day']\n",
    "df = df.drop(columns = ['index','HiTemp', 'LowTemp', 'timeGroup'], axis = 1)\n",
    "\n",
    "df.to_html(path2 + 'Rain30' + '.html', index = False, justify = 'center')"
   ]
  },
  {
   "cell_type": "raw",
   "id": "f7be8600",
   "metadata": {},
   "source": []
  },
  {
   "cell_type": "code",
   "execution_count": 1,
   "id": "07ae151d",
   "metadata": {},
   "outputs": [
    {
     "ename": "NameError",
     "evalue": "name 'df' is not defined",
     "output_type": "error",
     "traceback": [
      "\u001b[0;31m---------------------------------------------------------------------------\u001b[0m",
      "\u001b[0;31mNameError\u001b[0m                                 Traceback (most recent call last)",
      "Cell \u001b[0;32mIn[1], line 14\u001b[0m\n\u001b[1;32m      6\u001b[0m \u001b[38;5;28;01mimport\u001b[39;00m \u001b[38;5;21;01mseaborn\u001b[39;00m \u001b[38;5;28;01mas\u001b[39;00m \u001b[38;5;21;01msns\u001b[39;00m\n\u001b[1;32m      8\u001b[0m \u001b[38;5;66;03m#t = df['Rain']\u001b[39;00m\n\u001b[1;32m      9\u001b[0m \u001b[38;5;66;03m#y = t.to_numpy()\u001b[39;00m\n\u001b[1;32m     10\u001b[0m \u001b[38;5;66;03m#date = df['Day']\u001b[39;00m\n\u001b[1;32m     11\u001b[0m \u001b[38;5;66;03m#x = date.to_numpy()\u001b[39;00m\n\u001b[1;32m     12\u001b[0m \u001b[38;5;66;03m#print(x)\u001b[39;00m\n\u001b[0;32m---> 14\u001b[0m year \u001b[38;5;241m=\u001b[39m (\u001b[43mdf\u001b[49m[\u001b[38;5;124m'\u001b[39m\u001b[38;5;124mYear\u001b[39m\u001b[38;5;124m'\u001b[39m])\u001b[38;5;241m.\u001b[39mastype(\u001b[38;5;28mstr\u001b[39m)\n\u001b[1;32m     15\u001b[0m month \u001b[38;5;241m=\u001b[39m (df[\u001b[38;5;124m'\u001b[39m\u001b[38;5;124mMonth\u001b[39m\u001b[38;5;124m'\u001b[39m])\u001b[38;5;241m.\u001b[39mastype(\u001b[38;5;28mstr\u001b[39m)\n\u001b[1;32m     16\u001b[0m day \u001b[38;5;241m=\u001b[39m (df[\u001b[38;5;124m'\u001b[39m\u001b[38;5;124mDay\u001b[39m\u001b[38;5;124m'\u001b[39m])\u001b[38;5;241m.\u001b[39mastype(\u001b[38;5;28mstr\u001b[39m)\n",
      "\u001b[0;31mNameError\u001b[0m: name 'df' is not defined"
     ]
    }
   ],
   "source": [
    "import pandas as pd\n",
    "import matplotlib.pyplot as plt\n",
    "import matplotlib.colors as mcolors\n",
    "import matplotlib.dates as mdates\n",
    "import numpy as np\n",
    "import seaborn as sns\n",
    "\n",
    "path = '/tmp/'\n",
    "path1 = '/home/ec2-user/'\n",
    "path2 = '/var/www/html/000/'\n",
    "fileName = 'trw1.csv'\n",
    "dataFile = f'{path}{fileName}'\n",
    "\n",
    "df = pd.read_csv(dataFile, index_col = False, sep = '\\t', names = ['index', 'Rain', 'HiTemp', 'LowTemp', 'Year', 'Month', 'Day', 'timeGroup'])\n",
    "\n",
    "year = (df['Year']).astype(str)\n",
    "month = (df['Month']).astype(str)\n",
    "day = (df['Day']).astype(str)\n",
    "\n",
    "df['newDate'] = pd.to_datetime(df[['Year', 'Month', 'Day']])\n",
    "df['new_date'] = df['newDate'].dt.date\n",
    "df['new_date'].astype('str')\n",
    "df['new_date'] = df['new_date'].apply(str).str.replace('2023-', '');print(df['new_date'])\n",
    "print(df)\n",
    "\n",
    "plt.figure(figsize= (10,6))\n",
    "plt.yticks(fontsize = 12)\n",
    "plt.xticks(fontsize = 8, rotation = 45, fontweight = 'bold')\n",
    "plt.title('Rainfall over the last 30 days', fontsize = 12, fontweight = 'bold')\n",
    "sns.barplot(data = df, x = 'new_date' , y = 'Rain', color = 'g', width=0.8)\n",
    "plt.xlabel('Date',fontsize = 12, fontweight = 'bold')\n",
    "plt.ylabel('Rainfall (inches)', fontsize = 12, fontweight = 'bold')\n",
    "plt.grid(True)\n",
    "plt.autoscale(enable = True, axis = 'both', tight = True)\n",
    "plt.savefig(f'{path2}Rain30.png')  "
   ]
  },
  {
   "cell_type": "code",
   "execution_count": null,
   "id": "7fdb698b",
   "metadata": {},
   "outputs": [],
   "source": []
  },
  {
   "cell_type": "code",
   "execution_count": null,
   "id": "e07adbf2",
   "metadata": {},
   "outputs": [],
   "source": []
  }
 ],
 "metadata": {
  "kernelspec": {
   "display_name": "Python 3 (ipykernel)",
   "language": "python",
   "name": "python3"
  },
  "language_info": {
   "codemirror_mode": {
    "name": "ipython",
    "version": 3
   },
   "file_extension": ".py",
   "mimetype": "text/x-python",
   "name": "python",
   "nbconvert_exporter": "python",
   "pygments_lexer": "ipython3",
   "version": "3.10.9"
  }
 },
 "nbformat": 4,
 "nbformat_minor": 5
}
