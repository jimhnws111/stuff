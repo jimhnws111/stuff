{
 "cells": [
  {
   "cell_type": "code",
   "execution_count": 17,
   "id": "574d11f5",
   "metadata": {},
   "outputs": [],
   "source": [
    "import calcOneDay\n",
    "import getDays\n",
    "from datetime import datetime, timedelta\n",
    "import calcTimeNow\n",
    "import daysAndDates\n",
    "import logging\n",
    "import checkDST\n",
    "\n",
    "def logdV3():\n",
    "    \n",
    "    \"\"\"Set up logging for this script\"\"\"\n",
    "    \n",
    "    logger = logging.getLogger(__name__)\n",
    "    logger.setLevel(logging.DEBUG)\n",
    "    formatter = logging.Formatter('%(levelname)s:%(name)s:%(message)s')\n",
    "    #file_handler = logging.FileHandler('/home/ec2-user/t3VUp.log')\n",
    "    file_handler = logging.FileHandler('/Users/jameshayes/Sites/t3VUp.log')\n",
    "    file_handler.setFormatter(formatter)\n",
    "    logger.addHandler(file_handler)  "
   ]
  },
  {
   "cell_type": "code",
   "execution_count": 18,
   "id": "e2a59d08",
   "metadata": {},
   "outputs": [
    {
     "name": "stdout",
     "output_type": "stream",
     "text": [
      "('March', '03', '26', '2024')\n"
     ]
    },
    {
     "data": {
      "text/plain": [
       "('1711498846', '1711585246', 'March', '03', '27', '2024')"
      ]
     },
     "execution_count": 18,
     "metadata": {},
     "output_type": "execute_result"
    }
   ],
   "source": [
    "import calcOneDay\n",
    "import getDays\n",
    "import daysAndDatesNew\n",
    "from datetime import datetime, timedelta\n",
    "import datetime\n",
    "import dataFile\n",
    "import getNameNumbers\n",
    "import requests\n",
    "import getData\n",
    "from dataFromTempest import dataFromTempest\n",
    "\n",
    "def getUpDateInfo():\n",
    "    \n",
    "    \"\"\"Calculating some date/time information to retrieve and process data\"\"\"\n",
    "\n",
    "    xy = calcOneDay.calcOneDay()\n",
    "    start, end = (xy[0], xy[1])\n",
    "    dayInfo = daysAndDatesNew.daysAndDatesNew()\n",
    "    #logger.info('Start time: {}'.format(start)) \n",
    "    #logger.info('End time: {}'.format(end))\n",
    "    \n",
    "    month, month_num, date, year = dayInfo[0], dayInfo[1], dayInfo[2], dayInfo[3]\n",
    "    #logger.info('Month, MonthNumber, Date, Year: {} {} {} {}'.format(month, month_num, date, year))\n",
    "\n",
    "    yesterday = int(dayInfo[4])\n",
    "    nextDay = int(dayInfo[5])\n",
    "    \n",
    "    return(start, end, month, month_num, date, year)\n",
    "\n",
    "getUpDateInfo()"
   ]
  },
  {
   "cell_type": "code",
   "execution_count": 19,
   "id": "95d0a620",
   "metadata": {},
   "outputs": [
    {
     "name": "stdout",
     "output_type": "stream",
     "text": [
      "This script started at: 2024-03-27 20:20:46.711736\n"
     ]
    },
    {
     "data": {
      "text/plain": [
       "(47, 41, 1019.4, 1015.3, 0.02, 0.04, 'No', 'No', 44, 21, 0)"
      ]
     },
     "execution_count": 19,
     "metadata": {},
     "output_type": "execute_result"
    }
   ],
   "source": [
    "import datetime\n",
    "from datetime import datetime\n",
    "import dataFile\n",
    "import getNameNumbers\n",
    "import requests\n",
    "import getData\n",
    "from dataFromTempest import dataFromTempest\n",
    "\n",
    "#\n",
    "# Get the start and end times, depending on product\n",
    "#\n",
    "\n",
    "def reckonTime():\n",
    "    \n",
    "    \"\"\"Make sure the proper version of dataFromTempest\n",
    "    is executed at the proper time\"\"\"\n",
    "\n",
    "    now = datetime.now()\n",
    "    x = now.strftime(\"%Y-%m-%d\")\n",
    "    print(\"This script started at:\", now)\n",
    "\n",
    "    t1 = ' 20:00'\n",
    "    t2 = ' 21:00'\n",
    "    time1 = x + t1\n",
    "    time2 = x + t2\n",
    "    val1 = datetime.strptime(time1, \"%Y-%m-%d %H:%M\")\n",
    "    val2 = datetime.strptime(time2, \"%Y-%m-%d %H:%M\")\n",
    "\n",
    "    if val1 < now < val2:\n",
    "        end = int(datetime.timestamp(now))\n",
    "        start = (end - 55800)\n",
    "        start = str(start)\n",
    "        end = str(end)    \n",
    "        \n",
    "    else:\n",
    "        startEnd = getData.getData()\n",
    "        start, end = startEnd[0], startEnd[1]   \n",
    "        \n",
    "reckonTime()    \n",
    "dataFromTempest()\n",
    "createF6Tempest()"
   ]
  },
  {
   "cell_type": "code",
   "execution_count": 20,
   "id": "9b580623",
   "metadata": {},
   "outputs": [
    {
     "name": "stdout",
     "output_type": "stream",
     "text": [
      "('March', '03', '26', '2024')\n",
      "1\n",
      "2002\n",
      "\n"
     ]
    }
   ],
   "source": [
    "import sandbox1\n",
    "import sandbox2\n",
    "import daysAndDatesNew\n",
    "from createF6Tempest import createF6Tempest\n",
    "\n",
    "#\n",
    "# Import data for use in the alamanc\n",
    "#\n",
    "\n",
    "dayInfo = daysAndDatesNew.daysAndDatesNew()\n",
    "month, month_num, date, year = dayInfo[0], dayInfo[1], dayInfo[2], dayInfo[3]\n",
    "yesterday = int(dayInfo[4])\n",
    "nextDay = int(dayInfo[5])\n",
    "\n",
    "sdf = createF6Tempest()\n",
    "maxT, minT, maxP, minP, corR, totR, q, r1, avgTemp, hdd, cdd = sdf[0], sdf[1], sdf[2], sdf[3], sdf[4], sdf[5], \\\n",
    "                                                               sdf[6], sdf[7], sdf[8], sdf[9], sdf[10],\n",
    "nmlData = sandbox2.sandbox2()\n",
    "nmlHi = nmlData[3]\n",
    "nmlLo = nmlData[4]\n",
    "\n",
    "highData = sandbox1.recordHigh()\n",
    "lowData = sandbox1.recordLow()\n",
    "rainData = sandbox1.recordRain()\n",
    "\n",
    "highPhrase = highData[2]\n",
    "lowPhrase = lowData[2]\n",
    "rainPhrase = rainData[2]\n",
    "\n",
    "#filePath = '/var/www/html/000/climoDavisTest111.txt'\n",
    "filePath = '/Users/jameshayes/Sites/climoDavis998.txt'\n",
    "\n",
    "def almanacUpT():\n",
    "    \n",
    "    \"\"\"Set and and write the daily almanac\"\"\"\n",
    "\n",
    "    with open(f'{filePath}','w') as outfile1: \n",
    "        print(f'Daily almanac for {month} {date}, {year}', file = outfile1)\n",
    "        print('\\n', file = outfile1)\n",
    "        print(f'The high so far today is {maxT} degrees', file = outfile1)\n",
    "        print(f'The low so far today is {minT} degrees', file = outfile1)\n",
    "        print(f'The average temperature is {avgTemp} degrees', file = outfile1)\n",
    "        print(f'The rainfall so far today is {(\"%.2f\" % corR)} inches', file = outfile1)\n",
    "        if hdd == 0:\n",
    "            print('')\n",
    "        else:\n",
    "            print(f'There were {hdd} heating degree days', file = outfile1)\n",
    "        if cdd == 0:\n",
    "            print('')\n",
    "        else:\n",
    "            print(f'There were {cdd} cooling degree days', file = outfile1)\n",
    "            \n",
    "        print('\\n', file = outfile1)        \n",
    "    \n",
    "    \n",
    "        if date == 1:\n",
    "            print(f'Normal and Record information for {nextMonth} {nextDay}, {year}', file = outfile1)\n",
    "            print('\\n', file = outfile1)\n",
    "            print(f'The normal high for today is {nmlHi} degrees', file = outfile1)\n",
    "            print(f'The normal low for today is {nmlLo} degrees' , file = outfile1)\n",
    "            print('\\n', file = outfile1)\n",
    "            print(highPhrase, file = outfile1)\n",
    "            print(lowPhrase, file = outfile1)\n",
    "            print(rainPhrase, file = outfile1)  \n",
    "        \n",
    "        else:\n",
    "            print(f'Normal and Record information for {month} {date}, {year}', file = outfile1)\n",
    "            print('\\n', file = outfile1)\n",
    "            print(f'The normal high for today is {nmlHi} degrees', file = outfile1)\n",
    "            print(f'The normal low for today is {nmlLo} degrees' , file = outfile1)\n",
    "            print('\\n', file = outfile1)\n",
    "            print(highPhrase, file = outfile1)\n",
    "            print(lowPhrase, file = outfile1)\n",
    "            print(rainPhrase, file = outfile1)  \n",
    "            \n",
    "almanacUpT()            "
   ]
  },
  {
   "cell_type": "code",
   "execution_count": null,
   "id": "e665e58b",
   "metadata": {},
   "outputs": [],
   "source": []
  }
 ],
 "metadata": {
  "kernelspec": {
   "display_name": "Python 3 (ipykernel)",
   "language": "python",
   "name": "python3"
  },
  "language_info": {
   "codemirror_mode": {
    "name": "ipython",
    "version": 3
   },
   "file_extension": ".py",
   "mimetype": "text/x-python",
   "name": "python",
   "nbconvert_exporter": "python",
   "pygments_lexer": "ipython3",
   "version": "3.10.9"
  }
 },
 "nbformat": 4,
 "nbformat_minor": 5
}
