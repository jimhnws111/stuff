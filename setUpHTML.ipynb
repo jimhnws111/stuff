{
 "cells": [
  {
   "cell_type": "code",
   "execution_count": 5,
   "metadata": {},
   "outputs": [],
   "source": [
    "import excelFilename\n",
    "\n",
    "def setUpHTML_mac():\n",
    "    html_path = '/Users/jameshayes/Sites/'\n",
    "    kw = excelFilename.wxflow()\n",
    "    xls_filename, path_to_file = (kw[0],kw[1])\n",
    "    new_file = f'{path_to_file}{xls_filename}'\n",
    "    \n",
    "    return(new_file, html_path)\n",
    "\n",
    "def setUpHTML_davis():\n",
    "    html_path = '/var/www/html/000/'\n",
    "    ky = excelFilename.davis()\n",
    "    xls_filename, path_to_file = (ky[0],ky[1])\n",
    "    new_file = f'{path_to_file}{xls_filename}'\n",
    "    print(new_file)\n",
    "    \n",
    "    return(new_file, html_path)\n",
    "\n",
    "def setUpHTML_tempest_ec2():\n",
    "    html_path = '/var/www/html/000/'\n",
    "    kw = excelFilename.tempest_ec2()\n",
    "    xls_filename, path_to_file = (kw[0],kw[1])\n",
    "    new_file = f'{path_to_file}{xls_filename}'\n",
    "    \n",
    "    return(new_file, html_path)"
   ]
  },
  {
   "cell_type": "code",
   "execution_count": 6,
   "metadata": {},
   "outputs": [
    {
     "data": {
      "text/plain": [
       "('/home/ec2-user/March_2023_Tempest.xlsx', '/var/www/html/000/')"
      ]
     },
     "execution_count": 6,
     "metadata": {},
     "output_type": "execute_result"
    }
   ],
   "source": [
    "setUpHTML_tempest_ec2()"
   ]
  },
  {
   "cell_type": "code",
   "execution_count": null,
   "metadata": {},
   "outputs": [],
   "source": []
  }
 ],
 "metadata": {
  "kernelspec": {
   "display_name": "Python 3 (ipykernel)",
   "language": "python",
   "name": "python3"
  },
  "language_info": {
   "codemirror_mode": {
    "name": "ipython",
    "version": 3
   },
   "file_extension": ".py",
   "mimetype": "text/x-python",
   "name": "python",
   "nbconvert_exporter": "python",
   "pygments_lexer": "ipython3",
   "version": "3.9.13"
  }
 },
 "nbformat": 4,
 "nbformat_minor": 4
}
