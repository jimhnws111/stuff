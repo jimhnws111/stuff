{
 "cells": [
  {
   "cell_type": "code",
   "execution_count": 1,
   "id": "0a65021c",
   "metadata": {},
   "outputs": [
    {
     "ename": "NameError",
     "evalue": "name 'path_to_file' is not defined",
     "output_type": "error",
     "traceback": [
      "\u001b[0;31m---------------------------------------------------------------------------\u001b[0m",
      "\u001b[0;31mNameError\u001b[0m                                 Traceback (most recent call last)",
      "Cell \u001b[0;32mIn[1], line 12\u001b[0m\n\u001b[1;32m      6\u001b[0m \u001b[38;5;28;01mimport\u001b[39;00m \u001b[38;5;21;01mpytz\u001b[39;00m\n\u001b[1;32m      8\u001b[0m \u001b[38;5;66;03m#\u001b[39;00m\n\u001b[1;32m      9\u001b[0m \u001b[38;5;66;03m# Read in the CSV file for processing in pandas\u001b[39;00m\n\u001b[1;32m     10\u001b[0m \u001b[38;5;66;03m#\u001b[39;00m\n\u001b[0;32m---> 12\u001b[0m full_file \u001b[38;5;241m=\u001b[39m(\u001b[38;5;124mf\u001b[39m\u001b[38;5;124m'\u001b[39m\u001b[38;5;132;01m{\u001b[39;00mpath_to_file\u001b[38;5;132;01m}\u001b[39;00m\u001b[38;5;124mlatestTempestinfo.csv\u001b[39m\u001b[38;5;124m'\u001b[39m)\n\u001b[1;32m     13\u001b[0m df \u001b[38;5;241m=\u001b[39m pd\u001b[38;5;241m.\u001b[39mread_csv(full_file, index_col\u001b[38;5;241m=\u001b[39m\u001b[38;5;28;01mFalse\u001b[39;00m)\n\u001b[1;32m     15\u001b[0m pd\u001b[38;5;241m.\u001b[39mset_option(\u001b[38;5;124m'\u001b[39m\u001b[38;5;124mdisplay.max_rows\u001b[39m\u001b[38;5;124m'\u001b[39m, \u001b[38;5;241m1440\u001b[39m)\n",
      "\u001b[0;31mNameError\u001b[0m: name 'path_to_file' is not defined"
     ]
    }
   ],
   "source": [
    "import pandas as pd\n",
    "import dataFile\n",
    "import datetime\n",
    "from datetime import datetime\n",
    "from dateutil.tz import tzutc, tzlocal\n",
    "import pytz\n",
    "import sqlalchemy\n",
    "import mysql.connector\n",
    "import sqlite3\n",
    "import os\n",
    "\n",
    "#\n",
    "# Read in the CSV file for processing in pandas\n",
    "#\n",
    "\n",
    "path_to_file = '/home/ec2-user/'\n",
    "full_file =(f'{path_to_file}latestTempestinfo.csv')\n",
    "df = pd.read_csv(full_file, index_col=False)\n",
    "\n",
    "pd.set_option('display.max_rows', 1440)\n",
    "pd.set_option('display.max_columns', 35)\n",
    "pd.set_option('display.width', 1500)\n",
    "pd.set_option('display.colheader_justify', 'center')\n",
    "pd.set_option('display.precision', 2)\n",
    "\n",
    "latestT = (df['temperature'].iloc[-1]) \n",
    "lastT = round((latestT*1.8) + 32)\n",
    "\n",
    "timezone = pytz.timezone(\"America/New_York\")\n",
    "recentT = (df['timestamp'].iloc[-1])\n",
    "dt_object = datetime.fromtimestamp(recentT)\n",
    "localT = dt_object.astimezone(timezone)\n",
    "lastTime = localT.strftime('%-I:%M %p')  \n",
    "#time24 = localT.strftime('%-I')  \n",
    "#time24 = int(time24)\n",
    "\n",
    "year = localT.strftime('%Y')\n",
    "month = localT.strftime('%B')\n",
    "date = localT.strftime('%-d')\n",
    "hour = localT.strftime('%-H')\n",
    "minute = localT.strftime('%-M')\n",
    "\n",
    "df2 = pd.DataFrame(columns = ['Year', 'Month', 'Date', 'Hour', 'Minute', 'Temperature'])\n",
    "newRow = pd.DataFrame({'Year': year, 'Month': month, 'Date': date, 'Hour': hour, 'Minute': minute, 'Temperature' : lastT}, index = [0])\n",
    "df2 = pd.concat([newRow, df2[:]]).reset_index(drop = True)\n",
    "\n",
    "#\n",
    "# use environmental variables for the SQL query\n",
    "#\n",
    "\n",
    "db_user = os.environ.get('dbUser')\n",
    "db_password = os.environ.get('dbPass')\n",
    "\n",
    "database_username = db_user\n",
    "database_password = db_password\n",
    "database_ip       = '3.135.162.69'\n",
    "database_name     = 'hourlyt'\n",
    "database_connection = sqlalchemy.create_engine('mysql+mysqlconnector://{0}:{1}@{2}/{3}'.\n",
    "                                               format(database_username, database_password, \n",
    "                                                      database_ip, database_name), connect_args={'connect_timeout': 30})\n",
    "df2.to_sql(con=database_connection, name='hourlyt', if_exists='append')"
   ]
  },
  {
   "cell_type": "code",
   "execution_count": null,
   "id": "269ddc70",
   "metadata": {},
   "outputs": [],
   "source": []
  }
 ],
 "metadata": {
  "kernelspec": {
   "display_name": "Python 3 (ipykernel)",
   "language": "python",
   "name": "python3"
  },
  "language_info": {
   "codemirror_mode": {
    "name": "ipython",
    "version": 3
   },
   "file_extension": ".py",
   "mimetype": "text/x-python",
   "name": "python",
   "nbconvert_exporter": "python",
   "pygments_lexer": "ipython3",
   "version": "3.10.9"
  }
 },
 "nbformat": 4,
 "nbformat_minor": 5
}
