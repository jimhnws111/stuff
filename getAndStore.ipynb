{
 "cells": [
  {
   "cell_type": "code",
   "execution_count": 1,
   "id": "68851c9b",
   "metadata": {},
   "outputs": [
    {
     "name": "stdout",
     "output_type": "stream",
     "text": [
      "('March', '03', '25', '2024')\n",
      "This script started at: 2024-03-26 20:51:26.180128\n",
      "2024-03-26 20:00:00 2024-03-26 21:00:00\n",
      "Chose this one\n",
      "1711441286 1711500686\n"
     ]
    }
   ],
   "source": [
    "import numpy as np\n",
    "import pandas as pd\n",
    "from pandas import DataFrame, Series\n",
    "import matplotlib.pyplot as plt\n",
    "import sqlalchemy\n",
    "from dateutil.tz import tzutc, tzlocal\n",
    "import pytz\n",
    "import os\n",
    "import dataFromDavis\n",
    "import numpy as np\n",
    "import matplotlib.pyplot as plt\n",
    "import pandas as pd\n",
    "from pandas import DataFrame, Series\n",
    "import math\n",
    "\n",
    "#\n",
    "# Create some F6 data from the API data and write to a Pandas dataFrame \n",
    "#\n",
    "\n",
    "def getAndStore():\n",
    "    \n",
    "    davisAPI = dataFromDavis.dataFromDavis()\n",
    "    a = davisAPI['sensors']    \n",
    "    b = a[1]\n",
    "    c = (b['data'])\n",
    "\n",
    "    df = pd.DataFrame(c) \n",
    "    df.rename(columns = {'ts':'timestamp'}, inplace = True)\n",
    "   \n",
    "    timezone = pytz.timezone(\"America/New_York\")\n",
    "    df['timeGroup'] = pd.to_datetime(df['timestamp'], unit='s')\n",
    "    df['timeGroup'] = df['timeGroup'].dt.tz_localize('UTC').dt.tz_convert('US/Eastern')\n",
    "    df['localTime'] = df['timeGroup'].dt.strftime('%I:%M %p')\n",
    "\n",
    "    df = df.loc[:,['timestamp', 'temp_hi', 'temp_hi_at','temp_lo', 'temp_lo_at', 'rainfall_in', 'dew_point_hi', 'dew_point_lo',  'rain_rate_hi_in', 'rain_rate_hi_at', 'timeGroup', 'localTime']]   \n",
    "    \n",
    "    return(df)\n",
    "\n",
    "\n",
    "#\n",
    "# Calculate more variables from the dataFrame\n",
    "#\n",
    "\n",
    "import pandas as pd\n",
    "from pandas import DataFrame, Series\n",
    "import math\n",
    "\n",
    "def createF6(df):\n",
    "    max_temp  = (df.sort_values(by='temp_hi', ascending=False))\n",
    "    max_T = max_temp.iloc[:1]\n",
    "    max_T_time = int(max_T['temp_hi_at'])\n",
    "    maxT = max_T['temp_hi'].values[0]\n",
    "    maxT = round(maxT)\n",
    "\n",
    "    min_temp  = (df.sort_values(by='temp_lo', ascending=True))\n",
    "    min_T = min_temp.iloc[:1]\n",
    "    min_T_time = int(min_T['temp_lo_at'])\n",
    "    minT = min_T['temp_lo'].values[0]\n",
    "    minT = round(minT)\n",
    "\n",
    "    dew_max = (df.sort_values(by='dew_point_hi', ascending=False))\n",
    "    dew_max1 = dew_max.iloc[:1]\n",
    "    dewMax = dew_max1['dew_point_hi'].values[0]\n",
    "    dewMaxT = round(dewMax)\n",
    "\n",
    "    dew_min = (df.sort_values(by='dew_point_lo', ascending=True))\n",
    "    dew_min1 = dew_min.iloc[:1]\n",
    "    dewMin = dew_min1['dew_point_lo'].values[0]\n",
    "    dewMinT = round(dewMin)\n",
    "\n",
    "    rain = df['rainfall_in'].sum()\n",
    "    avgTemp = math.ceil((int(maxT + minT)/2))\n",
    "\n",
    "    hdd = (65 - avgTemp)\n",
    "    if hdd < 0:\n",
    "        hdd = 0\n",
    "    cdd = (avgTemp - 65)\n",
    "    if cdd < 0:\n",
    "        cdd = 0          \n",
    " \n",
    "    return(maxT, minT, dewMaxT, dewMinT, rain, avgTemp, hdd, cdd)\n",
    "    "
   ]
  },
  {
   "cell_type": "code",
   "execution_count": 2,
   "id": "c610e4a4",
   "metadata": {},
   "outputs": [
    {
     "data": {
      "text/plain": [
       "(46, 39, 39, 30, 0, 43, 22, 0)"
      ]
     },
     "execution_count": 2,
     "metadata": {},
     "output_type": "execute_result"
    }
   ],
   "source": [
    "df = getAndStore()\n",
    "createF6(df)"
   ]
  },
  {
   "cell_type": "code",
   "execution_count": null,
   "id": "5ee21372",
   "metadata": {},
   "outputs": [],
   "source": []
  }
 ],
 "metadata": {
  "kernelspec": {
   "display_name": "Python 3 (ipykernel)",
   "language": "python",
   "name": "python3"
  },
  "language_info": {
   "codemirror_mode": {
    "name": "ipython",
    "version": 3
   },
   "file_extension": ".py",
   "mimetype": "text/x-python",
   "name": "python",
   "nbconvert_exporter": "python",
   "pygments_lexer": "ipython3",
   "version": "3.10.9"
  }
 },
 "nbformat": 4,
 "nbformat_minor": 5
}
