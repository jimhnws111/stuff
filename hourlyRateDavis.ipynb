{
 "cells": [
  {
   "cell_type": "code",
   "execution_count": null,
   "id": "bd1e7b91",
   "metadata": {},
   "outputs": [],
   "source": [
    "import pandas as pd\n",
    "import datetime\n",
    "from datetime import datetime\n",
    "from dateutil.tz import tzutc, tzlocal\n",
    "import pytz\n",
    "\n",
    "path_name = '/home/ec2-user/'\n",
    "file_name = 'testout.csv'\n",
    "full_file = (path_name + file_name)\n",
    "\n",
    "df = pd.read_csv(full_file, index_col=False,names=['temp_hi', 'temp_lo', 'rainfall','time'])\n",
    "\n",
    "pd.set_option('display.max_rows', 1440)\n",
    "pd.set_option('display.max_columns', 35)\n",
    "pd.set_option('display.width', 1500)\n",
    "pd.set_option('display.colheader_justify', 'center')\n",
    "pd.set_option('display.precision', 2)\n",
    "\n",
    "max_temp  = (df.sort_values(by='temp_hi', ascending=False))\n",
    "max_T = max_temp.iloc[:1]\n",
    "maxT = max_T['temp_hi'].values[0]\n",
    "maxT = round(maxT)\n",
    "\n",
    "min_temp  = (df.sort_values(by='temp_lo', ascending=True))\n",
    "min_T = min_temp.iloc[:1]\n",
    "minT = min_T['temp_lo'].values[0]\n",
    "minT = round(minT)\n",
    "minT = str(minT)\n",
    "minT = minT.strip()\n",
    "\n",
    "totR = df['rainfall'].sum()\n",
    "totR = float(round(totR,2))\n",
    "ncR = \"None\"\n",
    "storm = \"None\"\n",
    "\n",
    "latestRain = df.tail(60)\n",
    "hourlyRate = latestRain['rainfall'].sum()\n",
    "print(\"%.2f\" % hourlyRate)\n",
    "\n",
    "timezone = pytz.timezone(\"America/New_York\")\n",
    "recentT = (df['time'].iloc[-1])\n",
    "datetime_obj = datetime.strptime(recentT, '%Y-%m-%d %H:%M:%S')\n",
    "localT = datetime_obj.astimezone(timezone)\n",
    "#lastTime = datetime_obj.strftime('%I:%M %p')\n",
    "lastTime = localT.strftime('%I:%M %p')\n",
    "#lastTime = datetime_obj.strftime('%I:%M %p')\n",
    "\n",
    "# write the data to a csv file with an html suffix\n",
    "#\n",
    "#with open('/home/ec2-user/HiLoRain.csv', 'w') as outfile:\n",
    "#    print(f'{maxT},{minT},{(\"%.2f\" % totR)},{ncR},{storm},{lastTime}', file = outfile)      "
   ]
  }
 ],
 "metadata": {
  "kernelspec": {
   "display_name": "Python 3 (ipykernel)",
   "language": "python",
   "name": "python3"
  },
  "language_info": {
   "codemirror_mode": {
    "name": "ipython",
    "version": 3
   },
   "file_extension": ".py",
   "mimetype": "text/x-python",
   "name": "python",
   "nbconvert_exporter": "python",
   "pygments_lexer": "ipython3",
   "version": "3.10.9"
  }
 },
 "nbformat": 4,
 "nbformat_minor": 5
}
