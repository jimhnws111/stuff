{
 "cells": [
  {
   "cell_type": "code",
   "execution_count": 310,
   "metadata": {},
   "outputs": [
    {
     "name": "stdout",
     "output_type": "stream",
     "text": [
      "Parameter name: \"api-key\" has value \"vy8jbrjsxlbwgojepq3vfyfqfywyhvbd\"\n",
      "Parameter name: \"api-secret\" has value \"sdqfm6wdfy9w0pqp2vdka38o6b4vcsvc\"\n",
      "Parameter name: \"station-id\" has value \"81211\"\n",
      "Parameter name: \"t\" has value \"1675650599\"\n",
      "Data string to hash is: \"api-keyvy8jbrjsxlbwgojepq3vfyfqfywyhvbdstation-id81211t1675650599\"\n",
      "\n",
      "\n",
      "https://api.weatherlink.com/v2/current/81211?api-key=vy8jbrjsxlbwgojepq3vfyfqfywyhvbd&t=1675650599&api-signature=903fc7492a95542418d43108e7842fefdedb6cb584ad671164de3a9e76f257f8\n",
      "<Response [200]>\n"
     ]
    }
   ],
   "source": [
    "import collections\n",
    "import hashlib\n",
    "import hmac\n",
    "import time\n",
    "from datetime import datetime\n",
    "import requests\n",
    "import json\n",
    "import pprint\n",
    "\n",
    "parameters = {\n",
    "  \"api-key\": \"vy8jbrjsxlbwgojepq3vfyfqfywyhvbd\", \n",
    "  \"api-secret\": \"sdqfm6wdfy9w0pqp2vdka38o6b4vcsvc\",\n",
    "  \"station-id\": \"81211\", \n",
    "  \"t\": int(time.time())\n",
    "}\n",
    "\n",
    "parameters = collections.OrderedDict(sorted(parameters.items()))\n",
    "\n",
    "for key in parameters:\n",
    "    print(\"Parameter name: \\\"{}\\\" has value \\\"{}\\\"\".format(key, parameters[key]))\n",
    "\n",
    "apiSecret = parameters[\"api-secret\"];\n",
    "parameters.pop(\"api-secret\", None);\n",
    "\n",
    "data = \"\"\n",
    "for key in parameters:\n",
    "    data = data + key + str(parameters[key])\n",
    "\n",
    "print(\"Data string to hash is: \\\"{}\\\"\".format(data))\n",
    "print('\\n')\n",
    "\n",
    "\"\"\"\n",
    "Calculate the HMAC SHA-256 hash that will be used as the API Signature.\n",
    "\"\"\"\n",
    "apiSignature = hmac.new(\n",
    "  apiSecret.encode('utf-8'),\n",
    "  data.encode('utf-8'),\n",
    "  hashlib.sha256\n",
    ").hexdigest()\n",
    "\n",
    "\"\"\"\n",
    "Let's see what the final API Signature looks like.\n",
    "\"\"\"\n",
    "#print(\"API Signature is: \\\"{}\\\"\".format(apiSignature))\n",
    "#print('\\n')\n",
    "\n",
    "# Building the URL to get the station\n",
    "\n",
    "first_part = ('https://api.weatherlink.com/v2/current/81211?')\n",
    "api_key = ('api-key=vy8jbrjsxlbwgojepq3vfyfqfywyhvbd')\n",
    "add_apisig = ('&api-signature=')\n",
    "add_t = ('&t='+ str(int(time.time())))\n",
    "\n",
    "#\n",
    "URLfinal = (first_part + api_key + add_t + (add_apisig + apiSignature))\n",
    "print(URLfinal)\n",
    "\n",
    "r =  requests.get(URLfinal)\n",
    "print(r)\n",
    "dataAPI = r.json()"
   ]
  },
  {
   "cell_type": "code",
   "execution_count": 275,
   "metadata": {},
   "outputs": [
    {
     "name": "stdout",
     "output_type": "stream",
     "text": [
      "38.8 35.1 0\n"
     ]
    }
   ],
   "source": [
    "# Construct the API call\n",
    "#\n",
    "\n",
    "pp = pprint.PrettyPrinter(indent=2)\n",
    "#pp.pprint(dataAPI)     \n",
    "\n",
    "x = dataAPI['sensors'] # This is a list\n",
    "#for i in x:\n",
    "#   pass #print(i)\n",
    "    \n",
    "x.pop(0)\n",
    "q = x[0];q1 = q['data'];q2 = q1[0]\n",
    "\n",
    "dp = q2['dew_point'];tmp = q2['temp'];rain = q2['rainfall_daily_in']\n",
    "\n",
    "print(tmp,dp,rain)"
   ]
  },
  {
   "cell_type": "code",
   "execution_count": 276,
   "metadata": {},
   "outputs": [
    {
     "name": "stdout",
     "output_type": "stream",
     "text": [
      "The local time and date is 09:08 PM Sun Feb 05 2023\n",
      "The current temperature is 39 degree\n",
      "The current dew point is 35 degrees\n",
      "Rainfall so far today is 0 inches\n"
     ]
    }
   ],
   "source": [
    "tmp = round(tmp)\n",
    "dp = round(dp)\n",
    "\n",
    "now = datetime.now()\n",
    "\n",
    "current_time = now.strftime(\"%I:%M %p %a %b %d %Y\")\n",
    "\n",
    "print(f\"The local time and date is {current_time}\")\n",
    "print(f\"The current temperature is {tmp} degree\")\n",
    "print(f\"The current dew point is {dp} degrees\")\n",
    "print(f\"Rainfall so far today is {rain} inches\")"
   ]
  },
  {
   "cell_type": "code",
   "execution_count": 306,
   "metadata": {},
   "outputs": [
    {
     "name": "stdout",
     "output_type": "stream",
     "text": [
      "Get going with: 2023-02-05 21:23:00 1675650180\n",
      "2023-02-04 21:23:27.976337\n",
      "&t=1675650180\n"
     ]
    }
   ],
   "source": [
    "# Calculate the time and date for end of day calculations\n",
    "\n",
    "import datetime\n",
    "import time\n",
    "from datetime import timezone\n",
    "from datetime import datetime, timedelta\n",
    "\n",
    "\n",
    "now = datetime.now()\n",
    "year = now.strftime(\"%Y\") \n",
    "month = now.strftime(\"%m\") \n",
    "myMonth = now.strftime(\"%B\")\n",
    "myYear = now.strftime(\"%Y\")\n",
    "date = now.strftime(\"%d\") \n",
    "hourN = now.strftime(\"%H\")\n",
    "minN = now.strftime(\"%M\")\n",
    "its_now = (f'{year},{month},{date},{hourN},{minN}')\n",
    "its_nower = datetime.strptime(its_now, '%Y,%m,%d,%H,%M')\n",
    "tNow = int(its_nower.timestamp())\n",
    "print(f'Get going with: {its_nower} {tNow}')\n",
    "tNow = str(tNow)\n",
    "add_tNow = (\"&t=\" + tNow)\n",
    "\n",
    "tt =  int(time.time())\n",
    "tt = str(tt)\n",
    "add_ttNow = \"&t=\" + tt\n",
    "\n",
    "end_it = (f'{year},{month},{date},0,0')\n",
    "end = datetime.strptime(end_it, '%Y,%m,%d,%H,%M')\n",
    "end = int(round(end.timestamp()))\n",
    "end = str(end)\n",
    "end1 = \"&end-timestamp=\" + end\n",
    "\n",
    "current_day = datetime.now()\n",
    "previous_day = datetime.now() - (timedelta(days = 1))\n",
    "print(previous_day)\n",
    "prev_year = previous_day.strftime(\"%Y\")\n",
    "prev_month = previous_day.strftime(\"%m\")\n",
    "prev_date = previous_day.strftime(\"%d\")\n",
    "start_it = (f'{prev_year},{prev_month},{prev_date},5,0')\n",
    "start = datetime.strptime(start_it, '%Y,%m,%d,%H,%M')\n",
    "start = int(round(start.timestamp()))\n",
    "start = str(start)\n",
    "start1 = \"&start-timestamp=\" + start\n",
    "\n",
    "print(add_tNow)\n"
   ]
  },
  {
   "cell_type": "code",
   "execution_count": 312,
   "metadata": {
    "scrolled": true
   },
   "outputs": [
    {
     "name": "stdout",
     "output_type": "stream",
     "text": [
      "API Signature is: \"903fc7492a95542418d43108e7842fefdedb6cb584ad671164de3a9e76f257f8\"\n",
      "\n",
      "\n",
      "\n",
      "The current time is: 1675650207\n",
      "The OTHER current time is 1675650180\n",
      "The Start time is:  1675504800\n",
      "The Stop time is:  1675573200\n",
      "\n",
      "The API signature is: 903fc7492a95542418d43108e7842fefdedb6cb584ad671164de3a9e76f257f8\n",
      "\n",
      "https://api.weatherlink.com/v2/historic/81211?api-key=vy8jbrjsxlbwgojepq3vfyfqfywyhvbd&t=1675650180&api-signature=903fc7492a95542418d43108e7842fefdedb6cb584ad671164de3a9e76f257f8&start-timestamp=1675504800&end-timestamp=1675573200\n"
     ]
    }
   ],
   "source": [
    "# Get a days worth of day from Davis via an API call\n",
    "\n",
    "first_Part = ('https://api.weatherlink.com/v2/historic/81211?')\n",
    "\n",
    "\n",
    "\n",
    "\"\"\"\n",
    "Calculate the HMAC SHA-256 hash that will be used as the API Signature.\n",
    "\"\"\"\n",
    "apiSignature = hmac.new(\n",
    "  apiSecret.encode('utf-8'),\n",
    "  data.encode('utf-8'),\n",
    "  hashlib.sha256\n",
    ").hexdigest()\n",
    "\n",
    "\"\"\"\n",
    "Let's see what the final API Signature looks like.\n",
    "\"\"\"\n",
    "print(\"API Signature is: \\\"{}\\\"\".format(apiSignature))\n",
    "print('\\n')\n",
    "\n",
    "print()\n",
    "print(f'The current time is: {tt}')\n",
    "print(f'The OTHER current time is {tNow}')\n",
    "print(f'The Start time is:  {start}')\n",
    "print(f'The Stop time is:  {end}')\n",
    "print()\n",
    "print(f'The API signature is: {apiSignature}')\n",
    "print()\n",
    "\n",
    "\n",
    "URLlast = (first_Part + api_key +  add_tNow + (add_apisig + apiSignature) + start1 + end1)\n",
    "print(URLlast)"
   ]
  },
  {
   "cell_type": "code",
   "execution_count": null,
   "metadata": {},
   "outputs": [],
   "source": []
  },
  {
   "cell_type": "code",
   "execution_count": null,
   "metadata": {},
   "outputs": [],
   "source": []
  },
  {
   "cell_type": "code",
   "execution_count": null,
   "metadata": {},
   "outputs": [],
   "source": []
  },
  {
   "cell_type": "code",
   "execution_count": null,
   "metadata": {},
   "outputs": [],
   "source": []
  },
  {
   "cell_type": "code",
   "execution_count": null,
   "metadata": {},
   "outputs": [],
   "source": []
  },
  {
   "cell_type": "code",
   "execution_count": null,
   "metadata": {},
   "outputs": [],
   "source": []
  }
 ],
 "metadata": {
  "kernelspec": {
   "display_name": "Python 3 (ipykernel)",
   "language": "python",
   "name": "python3"
  },
  "language_info": {
   "codemirror_mode": {
    "name": "ipython",
    "version": 3
   },
   "file_extension": ".py",
   "mimetype": "text/x-python",
   "name": "python",
   "nbconvert_exporter": "python",
   "pygments_lexer": "ipython3",
   "version": "3.8.5"
  }
 },
 "nbformat": 4,
 "nbformat_minor": 4
}
