{
 "cells": [
  {
   "cell_type": "code",
   "execution_count": 99,
   "metadata": {},
   "outputs": [],
   "source": [
    "import datetime\n",
    "import time\n",
    "import calcTimeStamp\n",
    "from datetime import timezone\n",
    "from datetime import datetime, timedelta\n",
    "\n",
    "# Calculate the time and date for calculations so far\n",
    "\n",
    "xy = calcTimeStamp.calcTimeStamp()\n",
    "start, end = (xy[0], xy[1])\n",
    "start = str(start)\n",
    "end = str(end)"
   ]
  },
  {
   "cell_type": "code",
   "execution_count": 100,
   "metadata": {},
   "outputs": [
    {
     "name": "stdout",
     "output_type": "stream",
     "text": [
      "Parameter name: \"api-key\" has value \"vy8jbrjsxlbwgojepq3vfyfqfywyhvbd\"\n",
      "Parameter name: \"api-secret\" has value \"sdqfm6wdfy9w0pqp2vdka38o6b4vcsvc\"\n",
      "Parameter name: \"end-timestamp\" has value \"1679877205\"\n",
      "Parameter name: \"start-timestamp\" has value \"1679803200\"\n",
      "Parameter name: \"station-id\" has value \"81211\"\n",
      "Parameter name: \"t\" has value \"1679877205\"\n",
      "Data string to hash is: \"api-keyvy8jbrjsxlbwgojepq3vfyfqfywyhvbdend-timestamp1679877205start-timestamp1679803200station-id81211t1679877205\"\n",
      "\n",
      "\n",
      "API Signature is: \"d3da1ea64098d1b9f17daf61e2169c152cc299f19a0ae5a36697055d72dc1685\"\n",
      "\n",
      "\n",
      "https://api.weatherlink.com/v2/historic/81211?api-key=vy8jbrjsxlbwgojepq3vfyfqfywyhvbd&t=1679877205&start-timestamp=1679803200&end-timestamp=1679877205&api-signature=d3da1ea64098d1b9f17daf61e2169c152cc299f19a0ae5a36697055d72dc1685\n"
     ]
    }
   ],
   "source": [
    "import collections\n",
    "import hashlib\n",
    "import hmac\n",
    "import time\n",
    "from datetime import datetime\n",
    "import requests\n",
    "import json\n",
    "import pprint\n",
    "\n",
    "parameters = {\n",
    "  \"api-key\": \"vy8jbrjsxlbwgojepq3vfyfqfywyhvbd\", \n",
    "  \"api-secret\": \"sdqfm6wdfy9w0pqp2vdka38o6b4vcsvc\",\n",
    "  \"station-id\": 81211, \n",
    "  \"end-timestamp\": end,\n",
    "  \"start-timestamp\": start,\n",
    "  \"t\": int(time.time())\n",
    "}\n",
    "\n",
    "parameters = collections.OrderedDict(sorted(parameters.items()))\n",
    "\n",
    "for key in parameters:\n",
    "    print(\"Parameter name: \\\"{}\\\" has value \\\"{}\\\"\".format(key, parameters[key]))\n",
    "\n",
    "apiSecret = parameters[\"api-secret\"];\n",
    "parameters.pop(\"api-secret\", None);\n",
    "\n",
    "data = \"\"\n",
    "for key in parameters:\n",
    "    data = data + key + str(parameters[key])\n",
    "\n",
    "print(\"Data string to hash is: \\\"{}\\\"\".format(data))\n",
    "print('\\n')\n",
    "\n",
    "\"\"\"\n",
    "Calculate the HMAC SHA-256 hash that will be used as the API Signature.\n",
    "\"\"\"\n",
    "apiSignature = hmac.new(\n",
    "  apiSecret.encode('utf-8'),\n",
    "  data.encode('utf-8'),\n",
    "  hashlib.sha256\n",
    ").hexdigest()\n",
    "\n",
    "\"\"\"\n",
    "Let's see what the final API Signature looks like.\n",
    "\"\"\"\n",
    "print(\"API Signature is: \\\"{}\\\"\".format(apiSignature))\n",
    "print('\\n')\n",
    "\n",
    "# Building the URL to get the station\n",
    "\n",
    "first_part = ('https://api.weatherlink.com/v2/historic/81211?')\n",
    "api_key = ('api-key=vy8jbrjsxlbwgojepq3vfyfqfywyhvbd')\n",
    "add_apisig = ('&api-signature=')\n",
    "add_t = ('&t='+ str(int(time.time())))\n",
    "start1 = \"&start-timestamp=\" + start\n",
    "end1 = \"&end-timestamp=\" + end\n",
    "\n",
    "#\n",
    "URLfinal = (first_part + api_key + add_t + start1 + end1 + add_apisig + apiSignature)\n",
    "print(URLfinal)\n",
    "\n",
    "r =  requests.get(URLfinal)\n",
    "r.encoding = 'utf-8'\n",
    "\n",
    "r =  requests.get(URLfinal)\n",
    "\n",
    "data_dir_file = '/Users/jameshayes/davis.json' \n",
    "with open(data_dir_file, \"w\") as fd:   \n",
    "     json.dump(r.json(), fd)"
   ]
  },
  {
   "cell_type": "code",
   "execution_count": 101,
   "metadata": {},
   "outputs": [
    {
     "name": "stdout",
     "output_type": "stream",
     "text": [
      "246\n"
     ]
    }
   ],
   "source": [
    "import collections\n",
    "import hashlib\n",
    "import hmac\n",
    "import time\n",
    "from datetime import datetime\n",
    "import requests\n",
    "import json\n",
    "import pprint\n",
    "import pytz\n",
    "from dateutil.tz import tzutc,tzlocal\n",
    "\n",
    "with open(data_dir_file) as fr:\n",
    "    davisAPI = json.load(fr)\n",
    "    \n",
    "  \n",
    "a = davisAPI['sensors']    \n",
    "b = a[1]\n",
    "c = (b['data'])\n",
    "cLen = len(c)\n",
    "print(cLen)\n",
    "\n",
    "with open('/Users/jameshayes/testout.csv', 'w') as outfile: \n",
    "    i = 0\n",
    "    while i < cLen:\n",
    "        d = c[i]\n",
    "        hi_temp = (d['temp_hi'])\n",
    "        lo_temp = (d['temp_lo'])\n",
    "        rainfall = (d['rainfall_in'])\n",
    "        time = (d['ts'])\n",
    "        ncR = 'None'\n",
    "        \n",
    "        date_time = datetime.fromtimestamp(time)\n",
    "                        \n",
    "        print(f'{hi_temp},{lo_temp},{rainfall},{ncR},{date_time}', file = outfile)\n",
    "        i += 1"
   ]
  },
  {
   "cell_type": "code",
   "execution_count": 102,
   "metadata": {},
   "outputs": [],
   "source": [
    "import pandas as pd\n",
    "\n",
    "path_name = '/Users/jameshayes/'\n",
    "file_name = 'testout.csv'\n",
    "full_file = (f'{path_name}{file_name}')\n",
    "\n",
    "df = pd.read_csv(full_file, index_col=False,names=['temp_hi', 'temp_lo', 'rainfall', 'fake_rain','time'])"
   ]
  },
  {
   "cell_type": "code",
   "execution_count": 103,
   "metadata": {},
   "outputs": [
    {
     "name": "stdout",
     "output_type": "stream",
     "text": [
      "08:30 PM\n"
     ]
    }
   ],
   "source": [
    "import pandas as pd\n",
    "from datetime import datetime\n",
    "from dateutil.tz import tzutc, tzlocal\n",
    "\n",
    "pd.set_option('display.max_rows', 1440)\n",
    "pd.set_option('display.max_columns', 35)\n",
    "pd.set_option('display.width', 1500)\n",
    "pd.set_option('display.colheader_justify', 'center')\n",
    "pd.set_option('display.precision', 2)\n",
    "\n",
    "max_temp  = (df.sort_values(by='temp_hi', ascending=False))\n",
    "max_T = max_temp.iloc[:1]\n",
    "maxT = max_T['temp_hi'].values[0]\n",
    "maxT = round(maxT)\n",
    "\n",
    "min_temp  = (df.sort_values(by='temp_lo', ascending=True))\n",
    "min_T = min_temp.iloc[:1]\n",
    "minT = min_T['temp_lo'].values[0]\n",
    "minT = round(minT)\n",
    "minT = str(minT)\n",
    "minT = minT.strip()\n",
    "\n",
    "totR = df['rainfall'].sum()\n",
    "totR = round(totR,2)\n",
    "ncR = 'None'\n",
    "\n",
    "recentT = (df['time'].iloc[-1])\n",
    "datetime_obj = datetime.strptime(recentT, '%Y-%m-%d %H:%M:%S')\n",
    "localT = datetime_obj.astimezone(tzlocal())\n",
    "#lastTime = datetime_obj.strftime('%I:%M %p')\n",
    "lastTime = localT.strftime('%I:%M %p')\n",
    "print(lastTime)\n",
    "\n",
    "# write the data to a csv file with an html suffix\n",
    "\n",
    "with open('/Users/jameshayes/HiLoRain.csv', 'w') as outfile:\n",
    "    print(f'{maxT},{minT},{totR},{ncR},{lastTime}',file = outfile)"
   ]
  },
  {
   "cell_type": "code",
   "execution_count": null,
   "metadata": {},
   "outputs": [],
   "source": []
  },
  {
   "cell_type": "code",
   "execution_count": null,
   "metadata": {},
   "outputs": [],
   "source": []
  }
 ],
 "metadata": {
  "kernelspec": {
   "display_name": "Python 3 (ipykernel)",
   "language": "python",
   "name": "python3"
  },
  "language_info": {
   "codemirror_mode": {
    "name": "ipython",
    "version": 3
   },
   "file_extension": ".py",
   "mimetype": "text/x-python",
   "name": "python",
   "nbconvert_exporter": "python",
   "pygments_lexer": "ipython3",
   "version": "3.10.9"
  }
 },
 "nbformat": 4,
 "nbformat_minor": 4
}
