{
 "cells": [
  {
   "cell_type": "code",
   "execution_count": null,
   "id": "dea67962",
   "metadata": {},
   "outputs": [],
   "source": [
    "import datetime\n",
    "from datetime import datetime\n",
    "import dataFile\n",
    "import getNameNumbers\n",
    "import requests\n",
    "import getData\n",
    "\n",
    "#\n",
    "# Get the start and end times, depending on product\n",
    "#\n",
    "\n",
    "def reckonTime():\n",
    "    \n",
    "    \"\"\"Make sure the proper version of dataFromTempest\n",
    "    is executed at the proper time\"\"\"\n",
    "\n",
    "    now = datetime.now()\n",
    "    x = now.strftime(\"%Y-%m-%d\")\n",
    "    print(\"This script started at:\", now)\n",
    "\n",
    "    t1 = ' 21:00'\n",
    "    t2 = ' 22:00'\n",
    "    time1 = x + t1\n",
    "    time2 = x + t2\n",
    "    val1 = datetime.strptime(time1, \"%Y-%m-%d %H:%M\")\n",
    "    val2 = datetime.strptime(time2, \"%Y-%m-%d %H:%M\")\n",
    "\n",
    "    if val1 < now < val2:\n",
    "        end = int(datetime.timestamp(now))\n",
    "        start = (end - 55800)\n",
    "        st = datetime.fromtimestamp(start)\n",
    "        en = datetime.fromtimestamp(end)\n",
    "        start = str(start)\n",
    "        end = str(end)   \n",
    "        \n",
    "        return(start, end, st, en)    \n",
    "        \n",
    "    else:\n",
    "        startEnd = getData.getData()\n",
    "        start, end = startEnd[0], startEnd[1]  \n",
    "        print(\"Made it here imstead\")\n",
    "    \n",
    "        return(start, end)\n",
    "    \n",
    "reckonTime()  "
   ]
  }
 ],
 "metadata": {
  "kernelspec": {
   "display_name": "Python 3 (ipykernel)",
   "language": "python",
   "name": "python3"
  },
  "language_info": {
   "codemirror_mode": {
    "name": "ipython",
    "version": 3
   },
   "file_extension": ".py",
   "mimetype": "text/x-python",
   "name": "python",
   "nbconvert_exporter": "python",
   "pygments_lexer": "ipython3",
   "version": "3.10.9"
  }
 },
 "nbformat": 4,
 "nbformat_minor": 5
}
