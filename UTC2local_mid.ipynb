{
 "cells": [
  {
   "cell_type": "code",
   "execution_count": 13,
   "id": "a28d208c",
   "metadata": {},
   "outputs": [],
   "source": [
    "import datetime\n",
    "import time\n",
    "from datetime import datetime, date\n",
    "from dateutil.tz import tzutc, tzlocal\n",
    "import pytz\n",
    "\n",
    "def UTC2local():\n",
    "    timezone = pytz.timezone(\"America/New_York\")\n",
    "    now = int(time.time())\n",
    "    dt_object = datetime.fromtimestamp(now)\n",
    "    localT = dt_object.astimezone(timezone)\n",
    "    mm,ss = 0,0\n",
    "    start = int(datetime(localT.year, localT.month, localT.day, mm, ss).strftime(\"%s\"))\n",
    "    #end = round(time.time())\n",
    "    end = start + 86400 \n",
    "    \n",
    "    return(start,end)"
   ]
  },
  {
   "cell_type": "code",
   "execution_count": 14,
   "id": "5f3c1d23",
   "metadata": {},
   "outputs": [
    {
     "data": {
      "text/plain": [
       "(1689825600, 1689912000)"
      ]
     },
     "execution_count": 14,
     "metadata": {},
     "output_type": "execute_result"
    }
   ],
   "source": [
    "UTC2local()"
   ]
  },
  {
   "cell_type": "code",
   "execution_count": null,
   "id": "cb954083",
   "metadata": {},
   "outputs": [],
   "source": []
  }
 ],
 "metadata": {
  "kernelspec": {
   "display_name": "Python 3 (ipykernel)",
   "language": "python",
   "name": "python3"
  },
  "language_info": {
   "codemirror_mode": {
    "name": "ipython",
    "version": 3
   },
   "file_extension": ".py",
   "mimetype": "text/x-python",
   "name": "python",
   "nbconvert_exporter": "python",
   "pygments_lexer": "ipython3",
   "version": "3.10.9"
  }
 },
 "nbformat": 4,
 "nbformat_minor": 5
}
