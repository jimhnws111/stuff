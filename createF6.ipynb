{
 "cells": [
  {
   "cell_type": "code",
   "execution_count": 94,
   "id": "04952db2",
   "metadata": {},
   "outputs": [],
   "source": [
    "import pandas as pd\n",
    "import math\n",
    "\n",
    "def createF6(df):\n",
    "    \n",
    "    \"\"\"Create FG data from the newly created and passed dataframe\"\"\"\n",
    "    \n",
    "    max_temp  = (df.sort_values(by='temp_hi', ascending=False))\n",
    "    max_T = max_temp.iloc[:1]\n",
    "    max_T_time = int(max_T['temp_hi_at'])\n",
    "    maxT = max_T['temp_hi'].values[0]\n",
    "    maxT = round(maxT)\n",
    "\n",
    "    min_temp  = (df.sort_values(by='temp_lo', ascending=True))\n",
    "    min_T = min_temp.iloc[:1]\n",
    "    min_T_time = int(min_T['temp_lo_at'])\n",
    "    minT = min_T['temp_lo'].values[0]\n",
    "    minT = round(minT)\n",
    "\n",
    "    dew_max = (df.sort_values(by='dew_point_hi', ascending=False))\n",
    "    dew_max1 = dew_max.iloc[:1]\n",
    "    dewMax = dew_max1['dew_point_hi'].values[0]\n",
    "    dewMaxT = round(dewMax)\n",
    "\n",
    "    dew_min = (df.sort_values(by='dew_point_lo', ascending=True))\n",
    "    dew_min1 = dew_min.iloc[:1]\n",
    "    dewMin = dew_min1['dew_point_lo'].values[0]\n",
    "    dewMinT = round(dewMin)\n",
    "\n",
    "    rain = df['rainfall_in'].sum()\n",
    "    avgTemp = math.ceil((int(maxT + minT)/2))\n",
    "\n",
    "    hdd = (65 - avgTemp)\n",
    "    if hdd < 0:\n",
    "        hdd = 0\n",
    "    cdd = (avgTemp - 65)\n",
    "    if cdd < 0:\n",
    "        cdd = 0          \n",
    " \n",
    "    return(maxT, minT, dewMaxT, dewMinT, rain, avgTemp, hdd, cdd)"
   ]
  }
 ],
 "metadata": {
  "kernelspec": {
   "display_name": "Python 3 (ipykernel)",
   "language": "python",
   "name": "python3"
  },
  "language_info": {
   "codemirror_mode": {
    "name": "ipython",
    "version": 3
   },
   "file_extension": ".py",
   "mimetype": "text/x-python",
   "name": "python",
   "nbconvert_exporter": "python",
   "pygments_lexer": "ipython3",
   "version": "3.10.9"
  }
 },
 "nbformat": 4,
 "nbformat_minor": 5
}
