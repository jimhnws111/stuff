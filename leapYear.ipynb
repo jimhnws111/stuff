{
 "cells": [
  {
   "cell_type": "code",
   "execution_count": 44,
   "metadata": {},
   "outputs": [],
   "source": [
    "def leapYear(year):\n",
    "    \n",
    "    if (year % 400 == 0):\n",
    "        leap_year = True\n",
    "    elif (year % 100 == 0):\n",
    "        leap_year = False\n",
    "    elif (year % 4 == 0):\n",
    "        leap_year = True\n",
    "    else:\n",
    "        leap_year = False\n",
    "           \n",
    "    return leap_year\n"
   ]
  },
  {
   "cell_type": "code",
   "execution_count": null,
   "metadata": {},
   "outputs": [],
   "source": []
  },
  {
   "cell_type": "code",
   "execution_count": null,
   "metadata": {},
   "outputs": [],
   "source": []
  }
 ],
 "metadata": {
  "kernelspec": {
   "display_name": "Python 3 (ipykernel)",
   "language": "python",
   "name": "python3"
  },
  "language_info": {
   "codemirror_mode": {
    "name": "ipython",
    "version": 3
   },
   "file_extension": ".py",
   "mimetype": "text/x-python",
   "name": "python",
   "nbconvert_exporter": "python",
   "pygments_lexer": "ipython3",
   "version": "3.8.5"
  }
 },
 "nbformat": 4,
 "nbformat_minor": 4
}
