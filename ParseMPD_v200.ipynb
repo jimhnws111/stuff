{
 "cells": [
  {
   "cell_type": "code",
   "execution_count": 1,
   "metadata": {},
   "outputs": [],
   "source": [
    "import csv\n",
    "import openpyxl\n",
    "import re\n",
    "import types\n",
    "import time\n",
    "import datetime\n",
    "import sys\n",
    "#from types import NoneType\n",
    "from datetime import date\n",
    "from datetime import timezone\n",
    "from datetime import timedelta\n",
    "from leapYear import leapYear\n",
    "from getFloodType import getFloodType\n",
    "from getLatLon import getLatLon\n",
    "from getWFOs import getWFOs"
   ]
  },
  {
   "cell_type": "code",
   "execution_count": 2,
   "metadata": {},
   "outputs": [
    {
     "name": "stdout",
     "output_type": "stream",
     "text": [
      "MPD number?: 1100\n",
      "1100\n",
      "/Users/jameshayes/2022_mpd_1100.txt\n"
     ]
    }
   ],
   "source": [
    "##########################\n",
    "# Read in a file\n",
    "##########################\n",
    "while True:\n",
    "    try:\n",
    "        file_load = int(input(\"MPD number?: \"))\n",
    "        break\n",
    "    except ValueError as e:\n",
    "        print(\"Not a valid MPD number\")\n",
    "        \n",
    "print(file_load)        \n",
    "\n",
    "#\n",
    "# Construct a file name from user input\n",
    "#\n",
    "\n",
    "path_to_file = '/Users/jameshayes/'\n",
    "today = date.today()\n",
    "yy = today.strftime(\"%Y\")\n",
    "\n",
    "file_name = f'{path_to_file}{yy}_mpd_{file_load}.txt'\n",
    "print(file_name)"
   ]
  },
  {
   "cell_type": "code",
   "execution_count": 3,
   "metadata": {},
   "outputs": [
    {
     "name": "stdout",
     "output_type": "stream",
     "text": [
      "Mesoscale Precipitation Discussion 1100\n",
      "NWS Weather Prediction Center College Park MD\n",
      "810 PM EDT Sun Oct 16 2022\n",
      "\n",
      "Areas affected...Southwest TX\n",
      "\n",
      "Concerning...Heavy rainfall...Flash flooding possible\n",
      "\n",
      "Valid 170009Z - 170609Z\n",
      "\n",
      "Summary...Intense supercell and multicell clusters persist\n",
      "across portions of South Central-Texas this evening along a cold\n",
      "front, with upstream thunderstorm development noted over Northeast\n",
      "Mexico. Flash flood chances are expected to increase tonight over\n",
      "Southwest Texas as the activity over Mexico translates eastward\n",
      "while the storms along the cold front propagate south.\n",
      "\n",
      "Discussion...Latest GOES-16 IR imagery depicts an intense\n",
      "rightward deviating supercell propagating eastward over the TX\n",
      "Hill Country with downstream multi-cell clusters along a cold\n",
      "front. Meanwhile, convection to the south in Northeast Mexico is\n",
      "exhibhiting rapid cooling cloud tops as it moves eastward off the\n",
      "terrain. The uptick in coverage is in response to increasing upper\n",
      "divergence evident in WV imagery east of an upper-low over\n",
      "Southeast Arizona, subtle forcing provided by a lead shortwave\n",
      "impulse analyzed over Western Texas, and strengthening low-level\n",
      "convergence along the front.\n",
      "\n",
      "The prefrontal airmass remains unstable through the surface, as\n",
      "23Z SPC Mesoanalysis estimates 1500-2000 J/KG SBCAPE over Central\n",
      "Texas. An Eastern Pacific/Gulf of Mexico moisture feed is\n",
      "supporting PWATs of 1.7-1.8\". The relatively shallow post-frontal\n",
      "airmass will support periods of elevated instability ~ 750-1000\n",
      "J/KG MUCAPE as it surges southward. Strong upper-flow will support\n",
      "effective bulk shear values potentially reaching 45-50 kts over\n",
      "the next several hours, supporting initial supercellular storm\n",
      "modes that could grow upscale given the multitude of forcing.\n",
      "\n",
      "An increase in flash flood potential is anticipated this evening\n",
      "as the storms in the Hill Country eventually merge and press south\n",
      "with the front, while the developing convection over Mexico moves\n",
      "east off the terrain. Recent runs of the HRRR have underinitalized\n",
      "the cluster of thunderstorms that have developed over the Hill\n",
      "country which lowers confidence in short-term impacts there.\n",
      "However, the persistient and slow moving band could allow for\n",
      "storm mergers to produce locally excessive rates over 1.5 in/hr.\n",
      "The highest confidence for flash flooding tonight exists further\n",
      "south where the HREF highlights 3-6 hour rainfall totals of 3-5\n",
      "inches (with increasing chances of 5-10 yr ARI exceedence through\n",
      "6Z tonight).\n",
      "\n",
      "Asherman\n",
      "\n",
      "ATTN...WFO...CRP...EWX...MAF...SJT...\n",
      "\n",
      "ATTN...RFC...WGRFC...NWC...\n",
      "\n",
      "LAT...LON   31990083 31869913 30549868 27829901 27520015\n",
      "            29390114 29250311 29340390 29690457 30340490\n",
      "            31200457 31700320\n"
     ]
    }
   ],
   "source": [
    "#read in the MPD\n",
    "with open (file_name) as f:\n",
    "    bx2 = f.readlines()\n",
    "    str1 =''.join(bx2)\n",
    "    #print(str1)"
   ]
  },
  {
   "cell_type": "code",
   "execution_count": 4,
   "metadata": {},
   "outputs": [
    {
     "name": "stdout",
     "output_type": "stream",
     "text": [
      "Valid 170009Z - 170609Z\n"
     ]
    }
   ],
   "source": [
    "#############################################\n",
    "# Get the valid times of the MPD\n",
    "#############################################\n",
    "ValidTime = re.search('Valid.*', str1)\n",
    "if ValidTime:\n",
    "    print(ValidTime.group(0))\n",
    "    ValidValid = ValidTime.group(0)\n",
    "        \n",
    "ValidSplice = ValidValid[6:]\n",
    "ValidStart = ValidSplice[2:6]\n",
    "ValidEnd = ValidSplice[12:16]\n",
    "ValidDay = ValidSplice[0:2]\n",
    "ValidDay = int(ValidDay)"
   ]
  },
  {
   "cell_type": "code",
   "execution_count": 5,
   "metadata": {},
   "outputs": [],
   "source": [
    "#########################################\n",
    "# Set up the discussion number and date\n",
    "#########################################\n",
    "import pytz\n",
    "import datetime\n",
    "\n",
    "#\n",
    "# Parsing needed time and dat elements\n",
    "#\n",
    "\n",
    "meso1 = bx2[0]\n",
    "meso2 = meso1[-5:]\n",
    "date1 = bx2[2]\n",
    "timeSpace = date1[-30:]\n",
    "timeSpace = timeSpace.strip()\n",
    "year = date1[-5:]\n",
    "year1 = str(year[:4])\n",
    "month = date1[15:19]\n",
    "month = month.strip()\n",
    "day1 = date1[19:22]\n",
    "day1 = int((day1.strip()))\n",
    "tod = date1[4:7]\n",
    "tod = tod.strip()\n",
    "\n",
    "#\n",
    "# Set up a fix for times that are not four digits\n",
    "#\n",
    "\n",
    "timeFix = int(date1[:4])\n",
    "if timeFix < 1000:\n",
    "    timeFix = str(timeFix)\n",
    "    timeFix = (\"0\" + timeFix)\n",
    "    hh = int(timeFix[:2])\n",
    "    mm = int(timeFix[2:4])\n",
    "                \n",
    "if tod == 'PM' and hh != 12:\n",
    "    hh = hh + 12\n",
    "elif tod == 'AM' and hh == 12:\n",
    "    hh = 0\n",
    "\n",
    "    \n",
    "#\n",
    "# Convert issuance time to UTC\n",
    "#\n",
    "\n",
    "dt_str = (f'{year1},{month},{day1},{hh},{mm}')\n",
    "dt_obj = datetime.datetime.strptime(dt_str,'%Y,%b,%d,%H,%M')\n",
    "dt_utc = str(dt_obj.astimezone(pytz.UTC))\n",
    "dt_utc_month = (dt_str[5:8])\n",
    "\n",
    "year_UTC = int(dt_utc[:4])\n",
    "month_UTC = (dt_utc[5:7])\n",
    "month_number_UTC = int(dt_utc[5:7])\n",
    "day_UTC = int(dt_utc[8:11])\n",
    "hour_UTC = int(dt_utc[11:13])\n",
    "minute_UTC = int(dt_utc[14:16])\n",
    "monthDay = (f'{dt_utc_month} {day_UTC}').strip()\n",
    "\n",
    "#\n",
    "# Set up datestring to convert to timestamp\n",
    "#\n",
    "\n",
    "startHour = ValidStart[0:2]\n",
    "startMinute = ValidStart[2:4]\n",
    "stopHour = ValidEnd[0:2]\n",
    "stopMinute = ValidEnd[2:4]"
   ]
  },
  {
   "cell_type": "code",
   "execution_count": 6,
   "metadata": {},
   "outputs": [
    {
     "name": "stdout",
     "output_type": "stream",
     "text": [
      "possible\n",
      "The flood type is possible\n"
     ]
    }
   ],
   "source": [
    "floodtype = getFloodType(str1)"
   ]
  },
  {
   "cell_type": "code",
   "execution_count": 7,
   "metadata": {},
   "outputs": [
    {
     "name": "stdout",
     "output_type": "stream",
     "text": [
      "LAT...LON   31990083 31869913 30549868 27829901 27520015\n",
      "            29390114 29250311 29340390 29690457 30340490\n",
      "            31200457 31700320\n"
     ]
    }
   ],
   "source": [
    "LatLon1 = getLatLon(str1)"
   ]
  },
  {
   "cell_type": "code",
   "execution_count": 8,
   "metadata": {},
   "outputs": [
    {
     "name": "stdout",
     "output_type": "stream",
     "text": [
      "The final WFO list is  CRP EWX MAF SJT\n"
     ]
    }
   ],
   "source": [
    "FinalWFO = getWFOs(str1)"
   ]
  },
  {
   "cell_type": "code",
   "execution_count": 9,
   "metadata": {},
   "outputs": [
    {
     "name": "stdout",
     "output_type": "stream",
     "text": [
      "2 31.86 -99.13\n",
      "3 30.54 -98.68\n",
      "4 27.82 -99.01\n"
     ]
    }
   ],
   "source": [
    "##############################################\n",
    "# Extract and process the Lat/Lon information\n",
    "##############################################\n",
    "\n",
    "LatLon2 = LatLon1[10:]\n",
    "interim = LatLon2.strip('\\n')\n",
    "interim2 = re.split(r'\\s{1,}', interim)\n",
    "\n",
    "latlat = [None] * len(interim2)\n",
    "lonlon = [None] * len(interim2)\n",
    "\n",
    "latlatX = [None] * len(interim2)\n",
    "lonlonX = [None] * len(interim2)\n",
    "lonlonFinal = [None] * len(interim2)\n",
    "\n",
    "lat = [len(interim2)]\n",
    "lon = [len(interim2)]  \n",
    "\n",
    "i =  1\n",
    "while i < len(interim2):\n",
    "    latlat[i] = interim2[i][:4]\n",
    "    lonlon[i] = interim2[i][4:]\n",
    "    latlatX[i] = (float(latlat[i])/100)\n",
    "    lonlonX[i] = (float(lonlon[i])/100)\n",
    "    if lonlonX[i] < 30:\n",
    "       lonlonFinal[i] = ((lonlonX[i] + 100)*-1)\n",
    "    else:\n",
    "       lonlonFinal[i] = ((lonlonX[i])*-1)\n",
    "    \n",
    "       print(i, latlatX[i], lonlonFinal[i])       \n",
    "    i = i + 1"
   ]
  },
  {
   "cell_type": "code",
   "execution_count": 10,
   "metadata": {},
   "outputs": [
    {
     "name": "stdout",
     "output_type": "stream",
     "text": [
      "False\n",
      "The stop hour is 0 and the start hour is 6\n",
      "10/17/2022 0:09\n",
      "10/17/2022 6:09\n"
     ]
    }
   ],
   "source": [
    "#\n",
    "# Is this a leap year?\n",
    "#\n",
    "\n",
    "leap_year = leapYear(year_UTC)\n",
    "print(leap_year)\n",
    "\n",
    "#\n",
    "# Determining the number of days in the month\n",
    "# \n",
    "\n",
    "if month_number_UTC in (1, 3, 5, 7, 8, 10, 12):\n",
    "    month_length = 31\n",
    "elif month_number_UTC == 2:\n",
    "    if leap_year:\n",
    "        month_length = 29\n",
    "    else:\n",
    "        month_length = 28\n",
    "else:\n",
    "    month_length = 30\n",
    "   \n",
    "#\n",
    "# Calculating beginning and end of the MPD\n",
    "#\n",
    "\n",
    "stopHour = int(stopHour) \n",
    "startHour = int(startHour)\n",
    "print(f'The stop hour is {startHour} and the start hour is {stopHour}')\n",
    "\n",
    "if stopHour < startHour:\n",
    "    day_UTC += 1    \n",
    "\n",
    "if day_UTC == month_length and startHour < 3:  \n",
    "    day_UTC = 1 \n",
    "            \n",
    "if day_UTC == 1:\n",
    "    if month_number == 12:\n",
    "        month_number = 1\n",
    "        year_UTC += 1\n",
    "    else:\n",
    "        month_number += 1\n",
    "  \n",
    "\n",
    "#\n",
    "# Create the date string to compute the datestamp\n",
    "#\n",
    "\n",
    "dateStringStart = (f'{month_number_UTC}/{day_UTC}/{year_UTC} {startHour}:{startMinute}');print(dateStringStart)\n",
    "dateStringEnd = (f'{month_number_UTC}/{day_UTC}/{year_UTC} {stopHour}:{stopMinute}');print(dateStringEnd)"
   ]
  },
  {
   "cell_type": "code",
   "execution_count": 11,
   "metadata": {},
   "outputs": [
    {
     "name": "stdout",
     "output_type": "stream",
     "text": [
      "10/17/2022 0:09\n",
      "1665979740.0\n",
      "1666001340.0\n",
      "360.0\n"
     ]
    }
   ],
   "source": [
    "#\n",
    "# setup the time stamps\n",
    "#\n",
    "\n",
    "import time\n",
    "import datetime\n",
    "from datetime import datetime\n",
    "\n",
    "print(dateStringStart)\n",
    "objStart = time.strptime(dateStringStart, \"%m/%d/%Y %H:%M\")\n",
    "objStop = time.strptime(dateStringEnd,\"%m/%d/%Y %H:%M\")\n",
    "\n",
    "\n",
    "tStampStart = time.mktime(objStart);print(tStampStart)\n",
    "tStampStop = time.mktime(objStop);print(tStampStop)\n",
    "\n",
    "diffTime = ((tStampStop - tStampStart)/60);print(diffTime)\n",
    "diffTime = int(diffTime)"
   ]
  },
  {
   "cell_type": "code",
   "execution_count": 12,
   "metadata": {},
   "outputs": [
    {
     "name": "stdout",
     "output_type": "stream",
     "text": [
      "CRP EWX MAF SJT\n",
      "1100\n",
      "1101\n",
      "/Users/jameshayes/MPD2022.xlsx\n",
      "<openpyxl.workbook.workbook.Workbook object at 0x7f98b8ace100>\n",
      "Writing out the header to the Excel file...\n",
      "Writing the MPD info to the file...\n"
     ]
    }
   ],
   "source": [
    "######x###########################################\n",
    "# Write the other information to an Excel file\n",
    "##################################################\n",
    "print(FinalWFO)\n",
    "\n",
    "from openpyxl import load_workbook\n",
    "qb22 = int(file_load)\n",
    "print(qb22)\n",
    "qb33 = qb22 + 1\n",
    "print(qb33)\n",
    "\n",
    "\n",
    "file_path_xls = f'{path_to_file}MPD{yy}.xlsx'\n",
    "print(file_path_xls)\n",
    "\n",
    "\n",
    "wb = load_workbook(file_path_xls)\n",
    "print(wb)\n",
    "sheet = wb.active\n",
    "\n",
    "# write out the header\n",
    "\n",
    "print(\"Writing out the header to the Excel file...\")\n",
    "\n",
    "a1 = sheet['A1']\n",
    "a1.value = \"MPD#\"\n",
    "b1 = sheet['B1']\n",
    "b1.value = \"Date\"\n",
    "c1 = sheet['C1']\n",
    "c1.value = \"Cat\"\n",
    "d1 = sheet['D1']\n",
    "d1.value = \"Start\"\n",
    "e1 = sheet['E1']\n",
    "e1.value = \"Stop\"\n",
    "f1 = sheet['F1']\n",
    "f1.value = \"Time\"\n",
    "g1 = sheet['G1']\n",
    "g1.value = \"Area\"\n",
    "h1 = sheet['H1']\n",
    "h1.value = \"WFO\"\n",
    "\n",
    "# Write the data to the correct locations\n",
    "\n",
    "print\n",
    "print(\"Writing the MPD info to the file...\")\n",
    "\n",
    "# First the MPD#\n",
    "aNext = sheet.cell(row = qb33, column = 1)\n",
    "aNext.value = qb22\n",
    "\n",
    "#Next the date\n",
    "bNext = sheet.cell(row = qb33, column = 2)\n",
    "bNext.value = monthDay\n",
    "\n",
    "#Next the category of flooding\n",
    "cNext = sheet.cell(row = qb33, column = 3)\n",
    "cNext.value = floodtype\n",
    "\n",
    "# Start time of the MPD\n",
    "dNext = sheet.cell(row = qb33, column = 4)\n",
    "dNext.value = ValidStart\n",
    "\n",
    "# End of the MPD\n",
    "eNext = sheet.cell(row = qb33, column = 5)\n",
    "eNext.value = ValidEnd\n",
    "\n",
    "# Get the time length of the MPD (under construction)\n",
    "fNext = sheet.cell(row = qb33, column = 6)\n",
    "fNext.value = diffTime\n",
    "\n",
    "# Get the Area (under construction)\n",
    "#gNext sheet.cell(row = qb33, column = 7)\n",
    "#gNext.value = Area\n",
    "\n",
    "# WFOs in the MPD\n",
    "hNext = sheet.cell(row = qb33, column = 8)\n",
    "hNext.value = FinalWFO\n",
    "\n",
    "\n",
    "wb.save(file_path_xls)"
   ]
  },
  {
   "cell_type": "code",
   "execution_count": null,
   "metadata": {},
   "outputs": [],
   "source": []
  }
 ],
 "metadata": {
  "kernelspec": {
   "display_name": "Python 3 (ipykernel)",
   "language": "python",
   "name": "python3"
  },
  "language_info": {
   "codemirror_mode": {
    "name": "ipython",
    "version": 3
   },
   "file_extension": ".py",
   "mimetype": "text/x-python",
   "name": "python",
   "nbconvert_exporter": "python",
   "pygments_lexer": "ipython3",
   "version": "3.8.5"
  }
 },
 "nbformat": 4,
 "nbformat_minor": 4
}
