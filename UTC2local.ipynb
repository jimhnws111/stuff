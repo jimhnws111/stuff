{
 "cells": [
  {
   "cell_type": "code",
   "execution_count": 11,
   "id": "e8f70528",
   "metadata": {},
   "outputs": [],
   "source": [
    "import datetime\n",
    "import time\n",
    "from datetime import datetime, date\n",
    "from dateutil.tz import tzutc, tzlocal\n",
    "import pytz\n",
    "import checkDST\n",
    "\n",
    "def UTC2local():\n",
    "    timezone = pytz.timezone(\"America/New_York\")\n",
    "    now = int(time.time())\n",
    "    dt_object = datetime.fromtimestamp(now)\n",
    "    localT = dt_object.astimezone(timezone)\n",
    "    mm,ss = 0,0\n",
    "    \n",
    "    # Check DST setting\n",
    "    #isDST = checkDST.checkDST()\n",
    "    \n",
    "    #if isDST == 1:\n",
    "    start = int(datetime(localT.year, localT.month, localT.day, mm, ss).strftime(\"%s\"))\n",
    "    start = start + 14400 # DST time offset\n",
    "    end = round(time.time())\n",
    "        \n",
    "    return(start,end)\n",
    "    \n",
    "    #else:\n",
    "    #    start = int(datetime(localT.year, localT.month, localT.day, mm, ss).strftime(\"%s\"))\n",
    "    #    start = start + 18000 #standard time offset\n",
    "    #    end = round(time.time())\n",
    "        \n",
    "    #    return(start,end)"
   ]
  },
  {
   "cell_type": "code",
   "execution_count": 12,
   "id": "71c88b49",
   "metadata": {},
   "outputs": [
    {
     "data": {
      "text/plain": [
       "(1710144000, 1710208707)"
      ]
     },
     "execution_count": 12,
     "metadata": {},
     "output_type": "execute_result"
    }
   ],
   "source": [
    "UTC2local()"
   ]
  },
  {
   "cell_type": "code",
   "execution_count": null,
   "id": "150b811f",
   "metadata": {},
   "outputs": [],
   "source": []
  }
 ],
 "metadata": {
  "kernelspec": {
   "display_name": "Python 3 (ipykernel)",
   "language": "python",
   "name": "python3"
  },
  "language_info": {
   "codemirror_mode": {
    "name": "ipython",
    "version": 3
   },
   "file_extension": ".py",
   "mimetype": "text/x-python",
   "name": "python",
   "nbconvert_exporter": "python",
   "pygments_lexer": "ipython3",
   "version": "3.10.9"
  }
 },
 "nbformat": 4,
 "nbformat_minor": 5
}
