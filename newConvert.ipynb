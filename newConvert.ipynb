{
 "cells": [
  {
   "cell_type": "code",
   "execution_count": 3,
   "id": "63f23a97",
   "metadata": {},
   "outputs": [
    {
     "name": "stdout",
     "output_type": "stream",
     "text": [
      "This script started at: 2024-03-28 21:22:55.963264\n",
      "2024-03-28 05:52:55 2024-03-28 21:22:55\n"
     ]
    },
    {
     "data": {
      "text/plain": [
       "('1711619575',\n",
       " '1711675375',\n",
       " datetime.datetime(2024, 3, 28, 5, 52, 55),\n",
       " datetime.datetime(2024, 3, 28, 21, 22, 55))"
      ]
     },
     "execution_count": 3,
     "metadata": {},
     "output_type": "execute_result"
    }
   ],
   "source": [
    "import datetime\n",
    "from datetime import datetime\n",
    "import dataFile\n",
    "import getNameNumbers\n",
    "import requests\n",
    "import getData\n",
    "\n",
    "#\n",
    "# Get the start and end times, depending on product\n",
    "#\n",
    "\n",
    "def newConvert():\n",
    "    \n",
    "    \"\"\"Make sure the proper version of dataFromTempest\n",
    "    is executed at the proper time\"\"\"\n",
    "\n",
    "    now = datetime.now()\n",
    "    x = now.strftime(\"%Y-%m-%d\")\n",
    "    print(\"This script started at:\", now)\n",
    "\n",
    "    t1 = ' 21:00'\n",
    "    t2 = ' 22:00'\n",
    "    time1 = x + t1\n",
    "    time2 = x + t2\n",
    "    val1 = datetime.strptime(time1, \"%Y-%m-%d %H:%M\")\n",
    "    val2 = datetime.strptime(time2, \"%Y-%m-%d %H:%M\")\n",
    "\n",
    "    if val1 < now < val2:\n",
    "        end = int(datetime.timestamp(now))\n",
    "        start = (end - 55800)\n",
    "        st = datetime.fromtimestamp(start)\n",
    "        en = datetime.fromtimestamp(end)\n",
    "        start = str(start)\n",
    "        end = str(end)   \n",
    "        \n",
    "        print(st, en)\n",
    "        \n",
    "        return(start, end, st, en)    \n",
    "        \n",
    "    else:\n",
    "        startEnd = getData.getData()\n",
    "        start, end = startEnd[0], startEnd[1]  \n",
    "        print(\"Made it here imstead\")\n",
    "    \n",
    "        return(start, end)\n",
    "    \n",
    "newConvert()  "
   ]
  },
  {
   "cell_type": "code",
   "execution_count": null,
   "id": "1e13e977",
   "metadata": {},
   "outputs": [],
   "source": []
  }
 ],
 "metadata": {
  "kernelspec": {
   "display_name": "Python 3 (ipykernel)",
   "language": "python",
   "name": "python3"
  },
  "language_info": {
   "codemirror_mode": {
    "name": "ipython",
    "version": 3
   },
   "file_extension": ".py",
   "mimetype": "text/x-python",
   "name": "python",
   "nbconvert_exporter": "python",
   "pygments_lexer": "ipython3",
   "version": "3.10.9"
  }
 },
 "nbformat": 4,
 "nbformat_minor": 5
}
