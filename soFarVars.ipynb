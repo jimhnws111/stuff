{
 "cells": [
  {
   "cell_type": "code",
   "execution_count": null,
   "id": "10522e2d",
   "metadata": {},
   "outputs": [],
   "source": [
    "def soFarVars():\n",
    "    home_dir = '/home/ec2-user/'\n",
    "    json_fileName = 'davis.json'\n",
    "    data_out = 'data_out.csv'\n",
    "    html_dir = '/var/www/html/000/'   \n",
    "    \n",
    "    return(home_dir,json_fileName,data_out,html_dir)"
   ]
  }
 ],
 "metadata": {
  "kernelspec": {
   "display_name": "Python 3 (ipykernel)",
   "language": "python",
   "name": "python3"
  },
  "language_info": {
   "codemirror_mode": {
    "name": "ipython",
    "version": 3
   },
   "file_extension": ".py",
   "mimetype": "text/x-python",
   "name": "python",
   "nbconvert_exporter": "python",
   "pygments_lexer": "ipython3",
   "version": "3.9.13"
  }
 },
 "nbformat": 4,
 "nbformat_minor": 5
}
