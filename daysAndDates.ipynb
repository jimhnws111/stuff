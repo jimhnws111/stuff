{
 "cells": [
  {
   "cell_type": "code",
   "execution_count": 41,
   "id": "ccd90fd9",
   "metadata": {},
   "outputs": [],
   "source": [
    "from datetime import datetime, timedelta\n",
    "import calcOneDay\n",
    "import getDays\n",
    "\n",
    "def daysAndDates():\n",
    "\n",
    "    # Calculate the time and date for end of day calculations\n",
    "\n",
    "    xy = calcOneDay.calcOneDay()\n",
    "    start, end = (xy[0], xy[1])\n",
    "\n",
    "    todayInfo = getDays.getToday()\n",
    "    day = int(todayInfo[2])\n",
    "    yesterdayInfo = getDays.getYesterday()\n",
    "    tomorrowInfo = getDays.getTomorrow()\n",
    "        \n",
    "    if day == 1:\n",
    "        month, month_num, date, year = yesterdayInfo[0], yesterdayInfo[1], yesterdayInfo[2], yesterdayInfo[3]\n",
    "    else:\n",
    "        month, month_num, date, year = todayInfo[0], todayInfo[1], todayInfo[2], todayInfo[3]        \n",
    "      \n",
    "    yesterday = int(yesterdayInfo[2])\n",
    "    nextDay = int(tomorrowInfo[2])\n",
    "        \n",
    "    return(month, month_num, date, year, yesterday, nextDay)\n"
   ]
  },
  {
   "cell_type": "code",
   "execution_count": null,
   "id": "486dae9f",
   "metadata": {},
   "outputs": [],
   "source": [
    "daysAndDates()"
   ]
  }
 ],
 "metadata": {
  "kernelspec": {
   "display_name": "Python 3 (ipykernel)",
   "language": "python",
   "name": "python3"
  },
  "language_info": {
   "codemirror_mode": {
    "name": "ipython",
    "version": 3
   },
   "file_extension": ".py",
   "mimetype": "text/x-python",
   "name": "python",
   "nbconvert_exporter": "python",
   "pygments_lexer": "ipython3",
   "version": "3.10.9"
  }
 },
 "nbformat": 4,
 "nbformat_minor": 5
}
