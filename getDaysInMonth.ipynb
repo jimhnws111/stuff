{
 "cells": [
  {
   "cell_type": "code",
   "execution_count": 11,
   "id": "59b7e79b",
   "metadata": {},
   "outputs": [],
   "source": [
    "import calcTimeNow\n",
    "\n",
    "def getDaysInMonth():\n",
    "    \n",
    "    xr = calcTimeNow.calcTimeNow()\n",
    "    month_name = calcTimeNow.calcMonthNow()\n",
    "    year, date = xr[2],xr[3]\n",
    "    year = int(year)\n",
    "\n",
    "    months = ['January','February', 'March','April','May','June','July','August','September','October','November','December']\n",
    "\n",
    "    if (year % 400 == 0):\n",
    "        leap_year = True\n",
    "    elif (year % 100 == 0):\n",
    "        leap_year = False\n",
    "    elif (year % 4 == 0):\n",
    "        leap_year = True\n",
    "    else:\n",
    "        leap_year = False\n",
    "\n",
    "    month31 = ['January','March', 'May', 'July', 'August', 'October', 'December']\n",
    "    month30 = ['April', 'June', 'September', 'November']\n",
    "    month28 = ['February']\n",
    " \n",
    "    if month_name in month31:\n",
    "        r = 31\n",
    "    elif month_name in month30:\n",
    "        r = 30 \n",
    "    elif month_name in month28:\n",
    "        if leap_year:\n",
    "            r = 29\n",
    "        else:\n",
    "            r = 28\n",
    "    else:\n",
    "        r = 31           \n",
    "        \n",
    "    return(r)    "
   ]
  }
 ],
 "metadata": {
  "kernelspec": {
   "display_name": "Python 3 (ipykernel)",
   "language": "python",
   "name": "python3"
  },
  "language_info": {
   "codemirror_mode": {
    "name": "ipython",
    "version": 3
   },
   "file_extension": ".py",
   "mimetype": "text/x-python",
   "name": "python",
   "nbconvert_exporter": "python",
   "pygments_lexer": "ipython3",
   "version": "3.10.9"
  }
 },
 "nbformat": 4,
 "nbformat_minor": 5
}
