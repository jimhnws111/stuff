{
 "cells": [
  {
   "cell_type": "code",
   "execution_count": null,
   "id": "ff9296ac",
   "metadata": {},
   "outputs": [],
   "source": [
    "import logging\n",
    "import os\n",
    "\n",
    "#\n",
    "# Set up some logging\n",
    "#\n",
    "\n",
    "def logIt():\n",
    "    \"\"\" Setting up logging for the script\"\"\"\n",
    "\n",
    "    logger = logging.getLogger(__name__)\n",
    "    logger.setLevel(logging.INFO)\n",
    "\n",
    "    formatter = logging.Formatter('%(levelname)s:%(name)s:%(message)s')\n",
    "\n",
    "    file_handler = logging.FileHandler('/home/ec2-user/davisCompleteTest.log')\n",
    "    file_handler.setFormatter(formatter)\n",
    "\n",
    "    logger.addHandler(file_handler)"
   ]
  }
 ],
 "metadata": {
  "kernelspec": {
   "display_name": "Python 3 (ipykernel)",
   "language": "python",
   "name": "python3"
  },
  "language_info": {
   "codemirror_mode": {
    "name": "ipython",
    "version": 3
   },
   "file_extension": ".py",
   "mimetype": "text/x-python",
   "name": "python",
   "nbconvert_exporter": "python",
   "pygments_lexer": "ipython3",
   "version": "3.10.9"
  }
 },
 "nbformat": 4,
 "nbformat_minor": 5
}
