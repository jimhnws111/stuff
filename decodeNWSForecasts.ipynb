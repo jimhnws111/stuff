{
 "cells": [
  {
   "cell_type": "code",
   "execution_count": 2,
   "id": "5a93658e",
   "metadata": {},
   "outputs": [],
   "source": [
    "import json\n",
    "import urllib\n",
    "import requests\n",
    "import os\n",
    "import datetime\n",
    "from datetime import datetime\n",
    "import time"
   ]
  },
  {
   "cell_type": "code",
   "execution_count": 3,
   "id": "0dd8bd0a",
   "metadata": {},
   "outputs": [
    {
     "name": "stdout",
     "output_type": "stream",
     "text": [
      "{'@context': ['https://geojson.org/geojson-ld/geojson-context.jsonld', {'@version': '1.1', 'wx': 'https://api.weather.gov/ontology#', 's': 'https://schema.org/', 'geo': 'http://www.opengis.net/ont/geosparql#', 'unit': 'http://codes.wmo.int/common/unit/', '@vocab': 'https://api.weather.gov/ontology#', 'geometry': {'@id': 's:GeoCoordinates', '@type': 'geo:wktLiteral'}, 'city': 's:addressLocality', 'state': 's:addressRegion', 'distance': {'@id': 's:Distance', '@type': 's:QuantitativeValue'}, 'bearing': {'@type': 's:QuantitativeValue'}, 'value': {'@id': 's:value'}, 'unitCode': {'@id': 's:unitCode', '@type': '@id'}, 'forecastOffice': {'@type': '@id'}, 'forecastGridData': {'@type': '@id'}, 'publicZone': {'@type': '@id'}, 'county': {'@type': '@id'}}], 'id': 'https://api.weather.gov/points/40.3422,-76.7151', 'type': 'Feature', 'geometry': {'type': 'Point', 'coordinates': [-76.7151, 40.3422]}, 'properties': {'@id': 'https://api.weather.gov/points/40.3422,-76.7151', '@type': 'wx:Point', 'cwa': 'CTP', 'forecastOffice': 'https://api.weather.gov/offices/CTP', 'gridId': 'CTP', 'gridX': 111, 'gridY': 42, 'forecast': 'https://api.weather.gov/gridpoints/CTP/111,42/forecast', 'forecastHourly': 'https://api.weather.gov/gridpoints/CTP/111,42/forecast/hourly', 'forecastGridData': 'https://api.weather.gov/gridpoints/CTP/111,42', 'observationStations': 'https://api.weather.gov/gridpoints/CTP/111,42/stations', 'relativeLocation': {'type': 'Feature', 'geometry': {'type': 'Point', 'coordinates': [-76.725558, 40.337621]}, 'properties': {'city': 'Skyline View', 'state': 'PA', 'distance': {'unitCode': 'wmoUnit:m', 'value': 1022.1992618536}, 'bearing': {'unitCode': 'wmoUnit:degree_(angle)', 'value': 60}}}, 'forecastZone': 'https://api.weather.gov/zones/forecast/PAZ057', 'county': 'https://api.weather.gov/zones/county/PAC043', 'fireWeatherZone': 'https://api.weather.gov/zones/fire/PAZ057', 'timeZone': 'America/New_York', 'radarStation': 'KCCX'}}\n"
     ]
    },
    {
     "data": {
      "text/plain": [
       "\"\\nsecondHack = x1['properties']['forecast']\\nw = len(secondHack)\\nj = 0\\nprint('Here is the forecast for Skyline View, PA','\\n')\\n\\nwith open(full_file, 'w') as outfile: \\n    print('Here is the forecast for Skyline View, PA','\\n', file = outfile)\\n\\n    while j < w:\\n        dse = (secondHack[j])\\n        dayOfWeek = dse['name']\\n        detailedFcst = dse['detailedForecast']\\n        dayFcst = (f'{dayOfWeek}...{detailedFcst}')\\n        print(dayFcst)\\n    \\n        print(f'{dayFcst}', file = outfile)\\n    \\n        j+= 1\\n\""
      ]
     },
     "execution_count": 3,
     "metadata": {},
     "output_type": "execute_result"
    }
   ],
   "source": [
    "# Get the first part of the gridded forecast...\n",
    "\n",
    "file_path = '/var/www/html/000/' \n",
    "file_name = 'skylinefcst.txt'\n",
    "full_file = file_path + file_name\n",
    "\n",
    "urlTest1 = 'https://api.weather.gov/points/40.3422,-76.7151' # here\n",
    "\n",
    "r =  requests.get(urlTest1)\n",
    "r.encoding = 'utf-8'\n",
    "x = r.json()\n",
    "\n",
    "firstHack = x['properties']['forecast']\n",
    "r1 = requests.get(firstHack)\n",
    "x1 = r1.json()\n",
    "\n",
    "secondHack = x1['properties']['periods']\n",
    "w = len(secondHack)\n",
    "j = 0\n",
    "\n",
    "print('Here is the forecast for Skyline View, PA','\\n')\n",
    "\n",
    "with open(full_file, 'w') as outfile: \n",
    "    print('Here is the forecast for Skyline View, PA','\\n', file = outfile)\n",
    "\n",
    "    while j < w:\n",
    "        dse = (secondHack[j])\n",
    "        dayOfWeek = dse['name']\n",
    "        detailedFcst = dse['detailedForecast']\n",
    "        dayFcst = (f'{dayOfWeek}...{detailedFcst}')\n",
    "        print(dayFcst)\n",
    "    \n",
    "        print(f'{dayFcst}', file = outfile)\n",
    "    \n",
    "        j+= 1"
   ]
  },
  {
   "cell_type": "code",
   "execution_count": 6,
   "id": "2a98089f",
   "metadata": {},
   "outputs": [
    {
     "name": "stdout",
     "output_type": "stream",
     "text": [
      "Here is the forecast for Toms River, NJ \n",
      "\n",
      "Tonight...Clear, with a low around 47. Northeast wind 5 to 10 mph.\n",
      "Thursday...Sunny, with a high near 59. East wind 5 to 15 mph.\n",
      "Thursday Night...Mostly clear, with a low around 50. Southeast wind 10 to 15 mph.\n",
      "Friday...Partly sunny, with a high near 67. Southeast wind around 10 mph.\n",
      "Friday Night...A chance of rain showers after 8pm. Mostly cloudy, with a low around 56. Southeast wind 5 to 10 mph. Chance of precipitation is 50%. New rainfall amounts less than a tenth of an inch possible.\n",
      "Saturday...Rain showers likely before 2pm, then a chance of showers and thunderstorms. Mostly cloudy, with a high near 71. Chance of precipitation is 60%. New rainfall amounts between a quarter and half of an inch possible.\n",
      "Saturday Night...A chance of showers and thunderstorms. Mostly cloudy, with a low around 58. Chance of precipitation is 50%.\n",
      "Sunday...A chance of rain showers before 2pm. Mostly sunny, with a high near 74. Chance of precipitation is 40%.\n",
      "Sunday Night...Partly cloudy, with a low around 57.\n",
      "Monday...Mostly sunny, with a high near 72.\n",
      "Monday Night...Partly cloudy, with a low around 54.\n",
      "Tuesday...Mostly sunny, with a high near 66.\n",
      "Tuesday Night...Partly cloudy, with a low around 50.\n",
      "Wednesday...Mostly sunny, with a high near 72.\n"
     ]
    }
   ],
   "source": [
    "# Get the first part of the gridded forecast...\n",
    "\n",
    "file_path = '/var/www/html/000/' \n",
    "file_name = 'tomsriverfcst.txt'\n",
    "full_file = file_path + file_name\n",
    "\n",
    "urlTest2 = 'https://api.weather.gov/points/39.9752,-74.1298' # home   \n",
    "\n",
    "r = requests.get(urlTest2)\n",
    "r.encoding = 'utf-8'\n",
    "x = r.json()\n",
    "\n",
    "firstHack = x['properties']['forecast']\n",
    "r1 = requests.get(firstHack)\n",
    "x1 = r1.json()\n",
    "\n",
    "secondHack = x1['properties']['periods']\n",
    "w = len(secondHack)\n",
    "j = 0\n",
    "print(f'Here is the forecast for Toms River, NJ','\\n')\n",
    "\n",
    "\n",
    "with open(full_file, 'w') as outfile: \n",
    "    print('Here is the forecast for Toms River NJ','\\n', file = outfile)\n",
    "\n",
    "    while j < w:\n",
    "        dse = (secondHack[j])\n",
    "        dayOfWeek = dse['name']\n",
    "        detailedFcst = dse['detailedForecast']\n",
    "        dayFcst = (f'{dayOfWeek}...{detailedFcst}')\n",
    "        print(dayFcst)\n",
    "    \n",
    "        print(f'{dayFcst}', file = outfile)\n",
    "    \n",
    "        j+= 1       "
   ]
  },
  {
   "cell_type": "code",
   "execution_count": null,
   "id": "10777f92",
   "metadata": {},
   "outputs": [],
   "source": []
  },
  {
   "cell_type": "code",
   "execution_count": null,
   "id": "d47c783f",
   "metadata": {},
   "outputs": [],
   "source": []
  }
 ],
 "metadata": {
  "kernelspec": {
   "display_name": "Python 3 (ipykernel)",
   "language": "python",
   "name": "python3"
  },
  "language_info": {
   "codemirror_mode": {
    "name": "ipython",
    "version": 3
   },
   "file_extension": ".py",
   "mimetype": "text/x-python",
   "name": "python",
   "nbconvert_exporter": "python",
   "pygments_lexer": "ipython3",
   "version": "3.10.9"
  }
 },
 "nbformat": 4,
 "nbformat_minor": 5
}
