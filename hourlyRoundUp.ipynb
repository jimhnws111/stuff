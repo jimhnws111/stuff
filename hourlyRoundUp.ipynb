{
 "cells": [
  {
   "cell_type": "code",
   "execution_count": 95,
   "id": "e5d073dc",
   "metadata": {},
   "outputs": [
    {
     "name": "stdout",
     "output_type": "stream",
     "text": [
      "{'air_density': 1.14793, 'air_temperature': 33.9, 'barometric_pressure': 1011.8, 'brightness': 7926, 'delta_t': 7.2, 'dew_point': 24.2, 'feels_like': 40.7, 'heat_index': 40.7, 'lightning_strike_count': 0, 'lightning_strike_count_last_1hr': 0, 'lightning_strike_count_last_3hr': 0, 'lightning_strike_last_distance': 42, 'lightning_strike_last_epoch': 1690325197, 'precip': 0.0, 'precip_accum_last_1hr': 0.0, 'precip_accum_local_day': 0.0, 'precip_accum_local_day_final': 0.0, 'precip_accum_local_yesterday': 0.0, 'precip_accum_local_yesterday_final': 0.0, 'precip_analysis_type_yesterday': 0, 'precip_minutes_local_day': 0, 'precip_minutes_local_yesterday': 0, 'precip_minutes_local_yesterday_final': 0, 'pressure_trend': 'steady', 'relative_humidity': 57, 'sea_level_pressure': 1012.7, 'solar_radiation': 66, 'station_pressure': 1011.8, 'timestamp': 1690496384, 'uv': 0.62, 'wet_bulb_globe_temperature': 29.2, 'wet_bulb_temperature': 26.7, 'wind_avg': 0.8, 'wind_chill': 33.9, 'wind_direction': 249, 'wind_gust': 1.8, 'wind_lull': 0.3}\n",
      "105\n"
     ]
    },
    {
     "ename": "FileNotFoundError",
     "evalue": "[Errno 2] No such file or directory: '/var/www/html/000/text975.txt'",
     "output_type": "error",
     "traceback": [
      "\u001b[0;31m---------------------------------------------------------------------------\u001b[0m",
      "\u001b[0;31mFileNotFoundError\u001b[0m                         Traceback (most recent call last)",
      "Cell \u001b[0;32mIn[95], line 64\u001b[0m\n\u001b[1;32m     61\u001b[0m \u001b[38;5;28;01mif\u001b[39;00m feels_like \u001b[38;5;241m<\u001b[39m \u001b[38;5;241m100\u001b[39m:\n\u001b[1;32m     62\u001b[0m     feels_like \u001b[38;5;241m=\u001b[39m \u001b[38;5;124m'\u001b[39m\u001b[38;5;124m'\u001b[39m\n\u001b[0;32m---> 64\u001b[0m \u001b[38;5;28;01mwith\u001b[39;00m \u001b[38;5;28;43mopen\u001b[39;49m\u001b[43m(\u001b[49m\u001b[38;5;124;43m'\u001b[39;49m\u001b[38;5;124;43m/var/www/html/000/text975.txt\u001b[39;49m\u001b[38;5;124;43m'\u001b[39;49m\u001b[43m,\u001b[49m\u001b[38;5;124;43m'\u001b[39;49m\u001b[38;5;124;43mw\u001b[39;49m\u001b[38;5;124;43m'\u001b[39;49m\u001b[43m)\u001b[49m \u001b[38;5;28;01mas\u001b[39;00m fd:\n\u001b[1;32m     65\u001b[0m     \u001b[38;5;28mprint\u001b[39m(\u001b[38;5;124mf\u001b[39m\u001b[38;5;124m'\u001b[39m\u001b[38;5;124mIn Toms River, NJ at \u001b[39m\u001b[38;5;132;01m{\u001b[39;00mlastTime\u001b[38;5;132;01m}\u001b[39;00m\u001b[38;5;124m'\u001b[39m,\u001b[38;5;124m'\u001b[39m\u001b[38;5;130;01m\\n\u001b[39;00m\u001b[38;5;124m'\u001b[39m, file \u001b[38;5;241m=\u001b[39m fd)\n\u001b[1;32m     66\u001b[0m     \u001b[38;5;28mprint\u001b[39m(\u001b[38;5;124mf\u001b[39m\u001b[38;5;124m'\u001b[39m\u001b[38;5;124mThe temperature was \u001b[39m\u001b[38;5;132;01m{\u001b[39;00mtemp\u001b[38;5;132;01m}\u001b[39;00m\u001b[38;5;124m degrees (feels like \u001b[39m\u001b[38;5;132;01m{\u001b[39;00mfeels_like\u001b[38;5;132;01m}\u001b[39;00m\u001b[38;5;124m degrees)\u001b[39m\u001b[38;5;124m'\u001b[39m, file \u001b[38;5;241m=\u001b[39mfd)\n",
      "File \u001b[0;32m~/anaconda3/lib/python3.10/site-packages/IPython/core/interactiveshell.py:282\u001b[0m, in \u001b[0;36m_modified_open\u001b[0;34m(file, *args, **kwargs)\u001b[0m\n\u001b[1;32m    275\u001b[0m \u001b[38;5;28;01mif\u001b[39;00m file \u001b[38;5;129;01min\u001b[39;00m {\u001b[38;5;241m0\u001b[39m, \u001b[38;5;241m1\u001b[39m, \u001b[38;5;241m2\u001b[39m}:\n\u001b[1;32m    276\u001b[0m     \u001b[38;5;28;01mraise\u001b[39;00m \u001b[38;5;167;01mValueError\u001b[39;00m(\n\u001b[1;32m    277\u001b[0m         \u001b[38;5;124mf\u001b[39m\u001b[38;5;124m\"\u001b[39m\u001b[38;5;124mIPython won\u001b[39m\u001b[38;5;124m'\u001b[39m\u001b[38;5;124mt let you open fd=\u001b[39m\u001b[38;5;132;01m{\u001b[39;00mfile\u001b[38;5;132;01m}\u001b[39;00m\u001b[38;5;124m by default \u001b[39m\u001b[38;5;124m\"\u001b[39m\n\u001b[1;32m    278\u001b[0m         \u001b[38;5;124m\"\u001b[39m\u001b[38;5;124mas it is likely to crash IPython. If you know what you are doing, \u001b[39m\u001b[38;5;124m\"\u001b[39m\n\u001b[1;32m    279\u001b[0m         \u001b[38;5;124m\"\u001b[39m\u001b[38;5;124myou can use builtins\u001b[39m\u001b[38;5;124m'\u001b[39m\u001b[38;5;124m open.\u001b[39m\u001b[38;5;124m\"\u001b[39m\n\u001b[1;32m    280\u001b[0m     )\n\u001b[0;32m--> 282\u001b[0m \u001b[38;5;28;01mreturn\u001b[39;00m \u001b[43mio_open\u001b[49m\u001b[43m(\u001b[49m\u001b[43mfile\u001b[49m\u001b[43m,\u001b[49m\u001b[43m \u001b[49m\u001b[38;5;241;43m*\u001b[39;49m\u001b[43margs\u001b[49m\u001b[43m,\u001b[49m\u001b[43m \u001b[49m\u001b[38;5;241;43m*\u001b[39;49m\u001b[38;5;241;43m*\u001b[39;49m\u001b[43mkwargs\u001b[49m\u001b[43m)\u001b[49m\n",
      "\u001b[0;31mFileNotFoundError\u001b[0m: [Errno 2] No such file or directory: '/var/www/html/000/text975.txt'"
     ]
    }
   ],
   "source": [
    "import json\n",
    "import urllib\n",
    "import requests\n",
    "import csv\n",
    "import re\n",
    "from datetime import datetime\n",
    "from dateutil.tz import tzutc, tzlocal\n",
    "import pytz\n",
    "\n",
    "token = '877f6425-04a5-4f33-86e7-7123b7ef53d9'\n",
    "getData = 'https://swd.weatherflow.com/swd/rest/observations/station/95775?token=877f6425-04a5-4f33-86e7-7123b7ef53d9'\n",
    "r =  requests.get(getData)\n",
    "y = (r.json())\n",
    "obs_data = y['obs']\n",
    "rsqd = obs_data[0]\n",
    "\n",
    "temp = round((rsqd['air_temperature']) * 1.8 + 32)\n",
    "dew_point = round((rsqd['dew_point']) * 1.8 + 32)\n",
    "sea_press = round((rsqd['sea_level_pressure']) * 0.0295301, 2)\n",
    "press_trend = rsqd['pressure_trend']\n",
    "wind_spd = round((rsqd['wind_avg']) * 2.23694)\n",
    "feels_like = round((rsqd['feels_like']) * 1.8 + 32)\n",
    "\n",
    "wind_card = round(rsqd['wind_direction'])\n",
    "if wind_card == 0:\n",
    "    wind_dir = 'north'\n",
    "if wind_card > 0 and wind_card < 23:\n",
    "    wind_dir = 'north'\n",
    "if wind_card > 22 and wind_card < 68: \n",
    "    wind_dir = 'northeast'\n",
    "if wind_card > 68 and wind_card < 113:\n",
    "    wind_dir = 'east'\n",
    "if wind_card > 112 and wind_card < 158:\n",
    "    wind_dir = 'southeast'  \n",
    "if wind_card > 157 and wind_card < 203:\n",
    "    wind_dir = 'south'\n",
    "if wind_card > 203 and wind_card < 248: \n",
    "    wind_dir = 'southwest'\n",
    "if wind_card > 247 and wind_card < 293:\n",
    "    wind_dir = 'west'\n",
    "if wind_card > 292 and wind_card < 348:\n",
    "    wind_dir = 'northwest'   \n",
    "if wind_card > 348 and wind_card < 361:\n",
    "    wind_dir = 'north' \n",
    "\n",
    "wind = f'{wind_dir} at {wind_spd} miles per hour'    \n",
    "if wind_spd < 1.5:\n",
    "    wind = 'calm'\n",
    "\n",
    "pcpn_1hr = round((rsqd['precip_accum_last_1hr'] * 0.03937), 2)\n",
    "rh = rsqd['relative_humidity']\n",
    "timestamp = rsqd['timestamp']\n",
    "\n",
    "timezone = pytz.timezone(\"America/New_York\")\n",
    "dt_object = datetime.fromtimestamp(timestamp)\n",
    "localT = dt_object.astimezone(timezone)\n",
    "lastTime = localT.strftime('%I:%M %p')\n",
    "\n",
    "heat_desc = f'(Feels like {feels_like} degrees)'\n",
    "if feels_like < 100:\n",
    "    heat_desc = '' \n",
    "\n",
    "with open('/var/www/html/000/text975.txt','w') as fd:\n",
    "    print(f'In Toms River, NJ at {lastTime}','\\n', file = fd)\n",
    "    print(f'The temperature was {temp} degrees {heat_desc}', file = fd)\n",
    "    print(f'The relative humidity was {rh}%', file = fd)\n",
    "    print(f'The wind was {wind}', file = fd)\n",
    "    print(f'The barometric pressure was {sea_press:.2f} inches and {press_trend}', file = fd)   "
   ]
  },
  {
   "cell_type": "code",
   "execution_count": null,
   "id": "73469556",
   "metadata": {},
   "outputs": [],
   "source": []
  }
 ],
 "metadata": {
  "kernelspec": {
   "display_name": "Python 3 (ipykernel)",
   "language": "python",
   "name": "python3"
  },
  "language_info": {
   "codemirror_mode": {
    "name": "ipython",
    "version": 3
   },
   "file_extension": ".py",
   "mimetype": "text/x-python",
   "name": "python",
   "nbconvert_exporter": "python",
   "pygments_lexer": "ipython3",
   "version": "3.10.9"
  }
 },
 "nbformat": 4,
 "nbformat_minor": 5
}
