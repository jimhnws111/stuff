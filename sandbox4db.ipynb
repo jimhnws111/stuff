{
 "cells": [
  {
   "cell_type": "code",
   "execution_count": 48,
   "id": "0a1af75e",
   "metadata": {},
   "outputs": [],
   "source": [
    "import sandbox2\n",
    "import sqlGet\n",
    "import logging\n",
    "\n",
    "'''\n",
    "logger = logging.getLogger(__name__)\n",
    "logger.setLevel(logging.DEBUG)\n",
    "formatter = logging.Formatter('%(levelname)s:%(name)s:%(message)s')\n",
    "file_handler = logging.FileHandler('/home/ec2-user/sandbox1.log')\n",
    "file_handler.setFormatter(formatter)\n",
    "\n",
    "logger.addHandler(file_handler)\n",
    "'''\n",
    "\n",
    "def recordHigh():\n",
    "    \n",
    "    results = sandbox2.sandbox2()\n",
    "    result1 = results[0]\n",
    "    recYearNum = len(result1)\n",
    "        \n",
    "    if recYearNum > 1 and recYearNum < 4:\n",
    "        recHigh = (result1[0][1])\n",
    "        recHigh = int(recHigh)\n",
    "        i = 0 \n",
    "        years = []\n",
    "        while i < recYearNum:\n",
    "            years.append(str(result1[i][4]))\n",
    "            i+= 1\n",
    "        \n",
    "        years.reverse()            \n",
    "    \n",
    "        if recYearNum == 2:\n",
    "            ax = (years[recYearNum - 2])\n",
    "            ax = float(ax)\n",
    "            ax = int(ax);print(ax)\n",
    "            bx = (years[recYearNum - 1])\n",
    "            bx = float(bx)\n",
    "            bx = int(bx);print(bx)\n",
    "            yearx = (f'{ax} and {bx}')\n",
    "            highPhrase = (f'The record high for today is {recHigh} set in {yearx}')\n",
    "        elif recYearNum == 3:\n",
    "            ax = years[recYearNum - 3]\n",
    "            bx = years[recYearNum - 2]\n",
    "            cx = years[recYearNum - 1 ]\n",
    "            yearx = (f'{ax},{bx} and {cx}')\n",
    "            highPhrase = (f'The record high for today is {recHigh} set in {yearx}')\n",
    "        elif recYearNum == 4:\n",
    "            ax = years[recYearNum - 4]\n",
    "            bx = years[recYearNum - 3]\n",
    "            cx = years[recYearNum - 2 ]\n",
    "            dx =  years[recYearNum - 1 ]\n",
    "            yearx = (f'{ax},{bx}, {cx} and {dx}')\n",
    "            highPhrase = (f'The record high for today is {recHigh} set in {yearx}')\n",
    "        return(recHigh, yearx, highPhrase)\n",
    "                \n",
    "    if recYearNum == 1:\n",
    "        recHigh1 = (result1[0])\n",
    "        recHigh = int(recHigh1[1])\n",
    "        year1x = (result1[0])\n",
    "        yearx = int(year1x[4])\n",
    "        highPhrase = (f'The record high for today is {recHigh} set in {yearx}')\n",
    "        \n",
    "    return(recHigh, yearx, highPhrase)         "
   ]
  },
  {
   "cell_type": "code",
   "execution_count": 49,
   "id": "14b1fc44",
   "metadata": {
    "scrolled": true
   },
   "outputs": [
    {
     "data": {
      "text/plain": [
       "(76, 1991, 'The record high for today is 76 set in 1991')"
      ]
     },
     "execution_count": 49,
     "metadata": {},
     "output_type": "execute_result"
    }
   ],
   "source": [
    "recordHigh()"
   ]
  },
  {
   "cell_type": "code",
   "execution_count": 50,
   "id": "fcf2d4b9",
   "metadata": {},
   "outputs": [],
   "source": [
    "import sandbox2\n",
    "import sqlGet\n",
    "import logging\n",
    "\n",
    "logger = logging.getLogger(__name__)\n",
    "logger.setLevel(logging.DEBUG)\n",
    "\n",
    "'''\n",
    "formatter = logging.Formatter('%(levelname)s:%(name)s:%(message)s')\n",
    "file_handler = logging.FileHandler('/home/ec2-user/sandbox1.log')\n",
    "file_handler.setFormatter(formatter)\n",
    "logger.addHandler(file_handler)\n",
    "'''\n",
    "\n",
    "def recordLow():\n",
    "    \n",
    "    results = sandbox2.sandbox2()\n",
    "    result2 = results[1]\n",
    "        \n",
    "    recYearNum = len(result2)        \n",
    "    \n",
    "    if recYearNum == 1:\n",
    "        recLow = (result2[0][1])\n",
    "        yearx =  (result2[0][4])\n",
    "        lowPhrase = (f'The record low for today is {recLow} set in {yearx}')   \n",
    "        \n",
    "        return(recLow, yearx, lowPhrase)        \n",
    "    \n",
    "    if recYearNum > 1 and recYearNum < 4:\n",
    "        recLow = (result2[0][1])\n",
    "        i = 0 \n",
    "        years = []\n",
    "        while i < recYearNum:\n",
    "            years.append(str(result2[i][4]))\n",
    "            i+= 1\n",
    "        \n",
    "        years.reverse()\n",
    "    \n",
    "    if recYearNum == 2:\n",
    "        recLow = (result2[0][1])\n",
    "        logger.info(recLow)\n",
    "        ax = years[recYearNum - 2]\n",
    "        bx = years[recYearNum - 1]\n",
    "        yearx = (f'{ax} and {bx}')\n",
    "        lowPhrase = (f'The record low for today is {recLow} set in {yearx}')\n",
    "        \n",
    "        return(recLow, yearx, lowPhrase)   \n",
    "            \n",
    "    if recYearNum == 3:\n",
    "        recLow = (result2[0][1])\n",
    "        ax = years[recYearNum - 3]\n",
    "        bx = years[recYearNum - 2]\n",
    "        cx = years[recYearNum - 1 ]\n",
    "        yearx = (f'{ax}, {bx} and {cx}')\n",
    "        lowPhrase = (f'The record low for today is {recLow} set in {yearx}')\n",
    "        \n",
    "        return(recLow, yearx, lowPhrase)   \n",
    "            \n",
    "    if recYearNum == 4:\n",
    "        recLow = (result2[0][1])\n",
    "        ax = years[recYearNum - 4]\n",
    "        bx = years[recYearNum - 3]\n",
    "        cx = years[recYearNum - 2 ]\n",
    "        dx =  years[recYearNum - 1 ]\n",
    "        yearx = (f'{ax}, {bx}, {cx} and {dx}')\n",
    "        lowPhrase = (f'The record low for today is {recLow} set in {yearx}')\n",
    "        \n",
    "        return(recLow, yearx, lowPhrase)            \n",
    "    "
   ]
  },
  {
   "cell_type": "code",
   "execution_count": 51,
   "id": "ff9c92df",
   "metadata": {},
   "outputs": [
    {
     "data": {
      "text/plain": [
       "(20, 1989, 'The record low for today is 20 set in 1989')"
      ]
     },
     "execution_count": 51,
     "metadata": {},
     "output_type": "execute_result"
    }
   ],
   "source": [
    "recordLow()"
   ]
  },
  {
   "cell_type": "code",
   "execution_count": 53,
   "id": "166dad04",
   "metadata": {},
   "outputs": [],
   "source": [
    "import sandbox2\n",
    "import sqlGet\n",
    "import logging \n",
    "\n",
    "'''\n",
    "logger = logging.getLogger(__name__)\n",
    "logger.setLevel(logging.DEBUG)\n",
    "formatter = logging.Formatter('%(levelname)s:%(name)s:%(message)s')\n",
    "file_handler = logging.FileHandler('/home/ec2-user/sandbox1.log')\n",
    "file_handler.setFormatter(formatter)\n",
    "logger.addHandler(file_handler)\n",
    "'''\n",
    "\n",
    "def recordRain():\n",
    "    \n",
    "    results = sandbox2.sandbox2()\n",
    "    result3 = results[2]       \n",
    "    \n",
    "    recYearNum = len(result3)\n",
    "    recRain = (result3[0][1])\n",
    "    print(recYearNum)\n",
    "                    \n",
    "    if recYearNum > 1 and recYearNum < 4:\n",
    "        recRain = (result3[0][1])\n",
    "        i = 0 \n",
    "        years = []\n",
    "        while i < recYearNum:\n",
    "            years.append(str(result3[i][4]))\n",
    "            i+= 1\n",
    "        \n",
    "        years.reverse()\n",
    "    \n",
    "    if recYearNum == 2:\n",
    "        recRain = (result3[0][1])\n",
    "        ax = years[recYearNum - 2]\n",
    "        bx = years[recYearNum - 1]\n",
    "        yearx = (f'{ax} and {bx}')\n",
    "        rainPhrase = (f'The record rainfall for today is {(\"%.2f\" % recRain)} inches set in {yearx}')\n",
    "        logging.debug(f'Rain Phrase is: {rainPhrase}')\n",
    "        \n",
    "        return(recRain, yearx, rainPhrase)   \n",
    "        \n",
    "    if recYearNum == 3:\n",
    "        recRain = (result3[0][1])\n",
    "        ax = years[recYearNum - 3]\n",
    "        bx = years[recYearNum - 2]\n",
    "        cx = years[recYearNum - 1 ]\n",
    "        yearx = (f'{ax},{bx} and {cx}')\n",
    "        rainPhrase = (f'The record rainfall for today is {(\"%.2f\" % recRain)} inches set in {yearx}')\n",
    "        logging.debug(f'Rain Phrase is: {rainPhrase}')\n",
    "        \n",
    "        return(recRain, yearx, rainPhrase)   \n",
    "        \n",
    "    if recYearNum == 4:\n",
    "        recRain = (result3[0][1])\n",
    "        ax = years[recYearNum - 4]\n",
    "        bx = years[recYearNum - 3]\n",
    "        cx = years[recYearNum - 2 ]\n",
    "        dx =  years[recYearNum - 1 ]\n",
    "        yearx = (f'{ax},{bx}, {cx} and {dx}')\n",
    "        rainPhrase = (f'The record rainfall for today is {(\"%.2f\" % recRain)} inches set in {yearx}')\n",
    "        logging.debug(f'Rain Phrase is: {rainPhrase}')\n",
    "        \n",
    "        return(recRain, yearx, rainPhrase)      \n",
    "\n",
    "        \n",
    "    if recYearNum == 1:\n",
    "        recRain = (result3[0][1])\n",
    "        yearx = (result3[0][4])\n",
    "        print(yearx)\n",
    "        rainPhrase = (f'The record rainfall for today is {(\"%.2f\" % recRain)} inches set in {yearx}')\n",
    "        logging.debug(f'Rain Phrase is: {rainPhrase}')\n",
    "        \n",
    "        return(recRain, yearx, rainPhrase)   "
   ]
  },
  {
   "cell_type": "code",
   "execution_count": 54,
   "id": "fc0c2459",
   "metadata": {},
   "outputs": [
    {
     "name": "stdout",
     "output_type": "stream",
     "text": [
      "1\n",
      "2005\n"
     ]
    },
    {
     "data": {
      "text/plain": [
       "(0.64, 2005, 'The record rainfall for today is 0.64 inches set in 2005')"
      ]
     },
     "execution_count": 54,
     "metadata": {},
     "output_type": "execute_result"
    }
   ],
   "source": [
    "recordRain()"
   ]
  },
  {
   "cell_type": "code",
   "execution_count": null,
   "id": "d0ee3ebe",
   "metadata": {},
   "outputs": [],
   "source": []
  },
  {
   "cell_type": "code",
   "execution_count": null,
   "id": "09ec706c",
   "metadata": {},
   "outputs": [],
   "source": []
  }
 ],
 "metadata": {
  "kernelspec": {
   "display_name": "Python 3 (ipykernel)",
   "language": "python",
   "name": "python3"
  },
  "language_info": {
   "codemirror_mode": {
    "name": "ipython",
    "version": 3
   },
   "file_extension": ".py",
   "mimetype": "text/x-python",
   "name": "python",
   "nbconvert_exporter": "python",
   "pygments_lexer": "ipython3",
   "version": "3.10.9"
  }
 },
 "nbformat": 4,
 "nbformat_minor": 5
}
