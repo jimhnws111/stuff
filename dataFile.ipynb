{
 "cells": [
  {
   "cell_type": "code",
   "execution_count": 5,
   "metadata": {},
   "outputs": [],
   "source": [
    "import datetime\n",
    "from datetime import datetime\n",
    "\n",
    "def dataFile_mac():\n",
    "    now = datetime.now()\n",
    "    date = now.strftime(\"%d\") \n",
    "    myMonth = now.strftime(\"%B\")\n",
    "    myMonthNum = now.strftime(\"%m\")\n",
    "    myYear = now.strftime(\"%Y\")\n",
    "    addTo = f'_{myYear}{myMonthNum}{date}'\n",
    "\n",
    "    path_name = '/Users/jameshayes/'\n",
    "    file_name = f'Tempest{addTo}.csv'\n",
    "    full_file = (f'{path_name}{file_name}')\n",
    "    \n",
    "    return(full_file)\n",
    "    \n",
    "def dataFile_ec2():\n",
    "    now = datetime.now()\n",
    "    date = now.strftime(\"%d\") \n",
    "    myMonth = now.strftime(\"%B\")\n",
    "    myMonthNum = now.strftime(\"%m\")\n",
    "    myYear = now.strftime(\"%Y\")\n",
    "    addTo = f'_{myYear}{myMonthNum}{date}'\n",
    "\n",
    "    path_name = '/home/ec2-user/'\n",
    "    file_name = f'Davis{addTo}.csv'\n",
    "    full_file = (f'{path_name}{file_name}')\n",
    "    \n",
    "    return(full_file)\n",
    "\n",
    "def dataFile_wxflow():\n",
    "    now = datetime.now()\n",
    "    date = now.strftime(\"%d\") \n",
    "    myMonth = now.strftime(\"%B\")\n",
    "    myMonthNum = now.strftime(\"%m\")\n",
    "    myYear = now.strftime(\"%Y\")\n",
    "    addTo = f'_{myYear}{myMonthNum}{date}'\n",
    "\n",
    "    path_name = '/home/ec2-user/'\n",
    "    file_name = f'Tempest{addTo}.csv'\n",
    "    full_file = (f'{path_name}{file_name}')\n",
    "    \n",
    "    return(full_file)"
   ]
  },
  {
   "cell_type": "code",
   "execution_count": 6,
   "metadata": {},
   "outputs": [
    {
     "data": {
      "text/plain": [
       "'/home/ec2-user/Tempest_20230309.csv'"
      ]
     },
     "execution_count": 6,
     "metadata": {},
     "output_type": "execute_result"
    }
   ],
   "source": [
    "dataFile_wxflow()"
   ]
  },
  {
   "cell_type": "code",
   "execution_count": null,
   "metadata": {},
   "outputs": [],
   "source": []
  }
 ],
 "metadata": {
  "kernelspec": {
   "display_name": "Python 3 (ipykernel)",
   "language": "python",
   "name": "python3"
  },
  "language_info": {
   "codemirror_mode": {
    "name": "ipython",
    "version": 3
   },
   "file_extension": ".py",
   "mimetype": "text/x-python",
   "name": "python",
   "nbconvert_exporter": "python",
   "pygments_lexer": "ipython3",
   "version": "3.9.13"
  }
 },
 "nbformat": 4,
 "nbformat_minor": 4
}
