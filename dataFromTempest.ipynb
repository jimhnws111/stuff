{
 "cells": [
  {
   "cell_type": "code",
   "execution_count": 5,
   "id": "72d93ca6",
   "metadata": {},
   "outputs": [
    {
     "name": "stdout",
     "output_type": "stream",
     "text": [
      "This script started at: 2024-03-21 20:52:45.227946\n",
      "1711012965 1711068765\n",
      "This is the path:  /Users/jameshayes/\n"
     ]
    }
   ],
   "source": [
    "import datetime\n",
    "from datetime import datetime\n",
    "import dataFile\n",
    "import getNameNumbers\n",
    "import requests\n",
    "import getData\n",
    "\n",
    "#\n",
    "# Get the start and end times, depending on product\n",
    "#\n",
    "\n",
    "now = datetime.now()\n",
    "x = now.strftime(\"%Y-%m-%d\")\n",
    "print(\"This script started at:\", now)\n",
    "\n",
    "t1 = ' 20:00'\n",
    "t2 = ' 21:00'\n",
    "time1 = x + t1\n",
    "time2 = x + t2\n",
    "val1 = datetime.strptime(time1, \"%Y-%m-%d %H:%M\")\n",
    "val2 = datetime.strptime(time2, \"%Y-%m-%d %H:%M\")\n",
    "\n",
    "if val1 < now < val2:\n",
    "    end = int(datetime.timestamp(now))\n",
    "    start = (end - 55800)\n",
    "    start = str(start)\n",
    "    end = str(end)    \n",
    "        \n",
    "else:\n",
    "    startEnd = getData.getData()\n",
    "    start, end = startEnd[0], startEnd[1]   \n",
    "    \n",
    "print(start, end)    \n",
    "\n",
    "def dataFromTempest():\n",
    "    \n",
    "    \"\"\"Create information to retrieve info from the Tempest API\"\"\"\n",
    "\n",
    "    token = '877f6425-04a5-4f33-86e7-7123b7ef53d9'\n",
    "    protocol = 'https://'\n",
    "    urlSiteDevice = 'swd.weatherflow.com/swd/rest/observations/device/'\n",
    "    urlSiteStation = 'swd.weatherflow.com/swd/rest/observations/station/'\n",
    "    deviceID = '246921'\n",
    "    stationID = '95775'\n",
    "    preToken = '&token='\n",
    "    preStart = '?time_start='\n",
    "    preEnd = '&time_end='\n",
    "    start_time = start\n",
    "    end_time = end\n",
    "    dayOffset = '&day_offset=1'\n",
    "    format1 = '&format=csv'\n",
    "\n",
    "    #\n",
    "    # Put it together\n",
    "    # \n",
    "\n",
    "    goGetDeviceSummary = (f'{protocol}{urlSiteDevice}{deviceID}{preStart}{start_time}{preEnd}{end_time}{format1}{preToken}{token}')\n",
    "    r =  requests.get(goGetDeviceSummary)\n",
    "\n",
    "    #path = '/home/ec2-user/'\n",
    "    path = '/Users/jameshayes/'\n",
    "    file_name = 'tempest_temp.csv'\n",
    "    full_file = f'{path}{file_name}'\n",
    "\n",
    "    with open(full_file,'w') as fd:\n",
    "         fd.write(r.text)         \n",
    "            \n",
    "dataFromTempest()            "
   ]
  },
  {
   "cell_type": "code",
   "execution_count": null,
   "id": "7ee3c392",
   "metadata": {},
   "outputs": [],
   "source": []
  }
 ],
 "metadata": {
  "kernelspec": {
   "display_name": "Python 3 (ipykernel)",
   "language": "python",
   "name": "python3"
  },
  "language_info": {
   "codemirror_mode": {
    "name": "ipython",
    "version": 3
   },
   "file_extension": ".py",
   "mimetype": "text/x-python",
   "name": "python",
   "nbconvert_exporter": "python",
   "pygments_lexer": "ipython3",
   "version": "3.10.9"
  }
 },
 "nbformat": 4,
 "nbformat_minor": 5
}
