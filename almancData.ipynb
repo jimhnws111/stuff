{
 "cells": [
  {
   "cell_type": "code",
   "execution_count": 17,
   "id": "c742bee1",
   "metadata": {
    "scrolled": true
   },
   "outputs": [],
   "source": [
    "import csv\n",
    "import sandbox1\n",
    "import sandbox2\n",
    "import daysAndDatesNew\n",
    "\n",
    "#file_path = '/var/www/html/000/climoDavisTest.txt'\n",
    "file_path = '/Users/jameshayes/Sites/climoDavisText.txt'\n",
    "\n",
    "def almanacData():\n",
    "\n",
    "    nmlData = sandbox2.sandbox2()\n",
    "    nmlHi = nmlData[3]\n",
    "    nmlLo = nmlData[4]\n",
    "\n",
    "    highData = sandbox1.recordHigh()\n",
    "    lowData = sandbox1.recordLow()\n",
    "    rainData = sandbox1.recordRain()\n",
    "    \n",
    "    bsd = daysAndDatesNew.daysAndDatesNew()\n",
    "    month, month_num, date, year, yesterday, nextDay = bsd[0], bsd[1], bsd[2], bsd[3], bsd[4], bsd[5]\n",
    "\n",
    "    highPhrase = highData[2]\n",
    "    lowPhrase = lowData[2]\n",
    "    rainPhrase = rainData[2]\n",
    "\n",
    "    with open(f'{file_path}','w') as outfile1: \n",
    "        print(f'Daily almanac for {month} {yesterday}, {year}', file = outfile1)\n",
    "        print('\\n', file = outfile1)\n",
    "        print(f'The high yesterday was {maxT} degrees', file = outfile1)\n",
    "        print(f'The low yesterday was {minT} degrees', file = outfile1)\n",
    "        print(f'The average temperature was {avgTemp} degrees', file = outfile1)\n",
    "        print(f'The rainfall yesterday was {(\"%.2f\" % rain)} inches', file = outfile1)\n",
    "        if hdd == 0:\n",
    "            print('')\n",
    "        else:\n",
    "            print(f'There were {hdd} heating degree days', file = outfile1)\n",
    "        if cdd == 0:\n",
    "            print('')\n",
    "        else:\n",
    "            print(f'There were {cdd} cooling degree days', file = outfile1)                      \n",
    "    \n",
    "        print('\\n', file = outfile1)\n",
    "    \n",
    "    if date == 1:\n",
    "        print(f'Normal and Record information for {nextMonth} {nextDay}, {year}', file = outfile1)\n",
    "        print('\\n', file = outfile1)\n",
    "        print(f'The normal high for today is {nmlHi} degrees', file = outfile1)\n",
    "        print(f'The normal low for today is {nmlLo} degrees' , file = outfile1)\n",
    "        print('\\n', file = outfile1)\n",
    "        print(highPhrase, file = outfile1)\n",
    "        print(lowPhrase, file = outfile1)\n",
    "        print(rainPhrase, file = outfile1)  \n",
    "        \n",
    "    else:\n",
    "        print(f'Normal and Record information for {month} {date}, {year}', file = outfile1)\n",
    "        print('\\n', file = outfile1)\n",
    "        print(f'The normal high for today is {nmlHi} degrees', file = outfile1)\n",
    "        print(f'The normal low for today is {nmlLo} degrees' , file = outfile1)\n",
    "        print('\\n', file = outfile1)\n",
    "        print(highPhrase, file = outfile1)\n",
    "        print(lowPhrase, file = outfile1)\n",
    "        print(rainPhrase, file = outfile1)  "
   ]
  },
  {
   "cell_type": "code",
   "execution_count": 18,
   "id": "50adc22c",
   "metadata": {},
   "outputs": [
    {
     "name": "stderr",
     "output_type": "stream",
     "text": [
      "INFO:sandbox1:21\n"
     ]
    },
    {
     "name": "stdout",
     "output_type": "stream",
     "text": [
      "1\n",
      "2007\n",
      "('March', '03', '16', '2024')\n"
     ]
    },
    {
     "ename": "NameError",
     "evalue": "name 'maxT' is not defined",
     "output_type": "error",
     "traceback": [
      "\u001b[0;31m---------------------------------------------------------------------------\u001b[0m",
      "\u001b[0;31mNameError\u001b[0m                                 Traceback (most recent call last)",
      "Cell \u001b[0;32mIn[18], line 1\u001b[0m\n\u001b[0;32m----> 1\u001b[0m \u001b[43malmanacData\u001b[49m\u001b[43m(\u001b[49m\u001b[43m)\u001b[49m\n",
      "Cell \u001b[0;32mIn[17], line 29\u001b[0m, in \u001b[0;36malmanacData\u001b[0;34m()\u001b[0m\n\u001b[1;32m     27\u001b[0m \u001b[38;5;28mprint\u001b[39m(\u001b[38;5;124mf\u001b[39m\u001b[38;5;124m'\u001b[39m\u001b[38;5;124mDaily almanac for \u001b[39m\u001b[38;5;132;01m{\u001b[39;00mmonth\u001b[38;5;132;01m}\u001b[39;00m\u001b[38;5;124m \u001b[39m\u001b[38;5;132;01m{\u001b[39;00myesterday\u001b[38;5;132;01m}\u001b[39;00m\u001b[38;5;124m, \u001b[39m\u001b[38;5;132;01m{\u001b[39;00myear\u001b[38;5;132;01m}\u001b[39;00m\u001b[38;5;124m'\u001b[39m, file \u001b[38;5;241m=\u001b[39m outfile1)\n\u001b[1;32m     28\u001b[0m \u001b[38;5;28mprint\u001b[39m(\u001b[38;5;124m'\u001b[39m\u001b[38;5;130;01m\\n\u001b[39;00m\u001b[38;5;124m'\u001b[39m, file \u001b[38;5;241m=\u001b[39m outfile1)\n\u001b[0;32m---> 29\u001b[0m \u001b[38;5;28mprint\u001b[39m(\u001b[38;5;124mf\u001b[39m\u001b[38;5;124m'\u001b[39m\u001b[38;5;124mThe high yesterday was \u001b[39m\u001b[38;5;132;01m{\u001b[39;00mmaxT\u001b[38;5;132;01m}\u001b[39;00m\u001b[38;5;124m degrees\u001b[39m\u001b[38;5;124m'\u001b[39m, file \u001b[38;5;241m=\u001b[39m outfile1)\n\u001b[1;32m     30\u001b[0m \u001b[38;5;28mprint\u001b[39m(\u001b[38;5;124mf\u001b[39m\u001b[38;5;124m'\u001b[39m\u001b[38;5;124mThe low yesterday was \u001b[39m\u001b[38;5;132;01m{\u001b[39;00mminT\u001b[38;5;132;01m}\u001b[39;00m\u001b[38;5;124m degrees\u001b[39m\u001b[38;5;124m'\u001b[39m, file \u001b[38;5;241m=\u001b[39m outfile1)\n\u001b[1;32m     31\u001b[0m \u001b[38;5;28mprint\u001b[39m(\u001b[38;5;124mf\u001b[39m\u001b[38;5;124m'\u001b[39m\u001b[38;5;124mThe average temperature was \u001b[39m\u001b[38;5;132;01m{\u001b[39;00mavgTemp\u001b[38;5;132;01m}\u001b[39;00m\u001b[38;5;124m degrees\u001b[39m\u001b[38;5;124m'\u001b[39m, file \u001b[38;5;241m=\u001b[39m outfile1)\n",
      "\u001b[0;31mNameError\u001b[0m: name 'maxT' is not defined"
     ]
    }
   ],
   "source": [
    "almanacData()"
   ]
  },
  {
   "cell_type": "code",
   "execution_count": null,
   "id": "6a6aa03d",
   "metadata": {},
   "outputs": [],
   "source": []
  }
 ],
 "metadata": {
  "kernelspec": {
   "display_name": "Python 3 (ipykernel)",
   "language": "python",
   "name": "python3"
  },
  "language_info": {
   "codemirror_mode": {
    "name": "ipython",
    "version": 3
   },
   "file_extension": ".py",
   "mimetype": "text/x-python",
   "name": "python",
   "nbconvert_exporter": "python",
   "pygments_lexer": "ipython3",
   "version": "3.10.9"
  }
 },
 "nbformat": 4,
 "nbformat_minor": 5
}
