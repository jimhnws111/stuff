{
 "cells": [
  {
   "cell_type": "code",
   "execution_count": null,
   "metadata": {},
   "outputs": [],
   "source": [
    "import re\n",
    "\n",
    "def getWFOs(str1):\n",
    "\n",
    "    WFOwfo = re.search('ATTN...WFO.*', str1, re.M)\n",
    "    if WFOwfo:\n",
    "       #print WFOwfo.group(0)\n",
    "       WFOwfo1 = WFOwfo.group(0)\n",
    "                     \n",
    "    WFOs = WFOwfo1[13:]\n",
    "    #print WFOs\n",
    "    MetWFO = WFOs[:-3]\n",
    "    #print MetWFO\n",
    "    FinalWFO = re.sub('\\...',' ', MetWFO)\n",
    "    print(\"The final WFO list is \", FinalWFO)\n",
    "    \n",
    "    return(FinalWFO)"
   ]
  }
 ],
 "metadata": {
  "kernelspec": {
   "display_name": "Python 3 (ipykernel)",
   "language": "python",
   "name": "python3"
  },
  "language_info": {
   "codemirror_mode": {
    "name": "ipython",
    "version": 3
   },
   "file_extension": ".py",
   "mimetype": "text/x-python",
   "name": "python",
   "nbconvert_exporter": "python",
   "pygments_lexer": "ipython3",
   "version": "3.8.5"
  }
 },
 "nbformat": 4,
 "nbformat_minor": 4
}
