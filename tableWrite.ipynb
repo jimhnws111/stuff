{
 "cells": [
  {
   "cell_type": "code",
   "execution_count": null,
   "id": "ece2ca21",
   "metadata": {},
   "outputs": [],
   "source": [
    "import daysAndDatesNew\n",
    "\n",
    "def tableWrite(df2):\n",
    "    \n",
    "    \"\"\"Write the Pandas DataFrame info to a mySQL table\"\"\"\n",
    "  \n",
    "    #db_user = os.environ.get('dbUser')\n",
    "    #db_password = os.environ.get('dbPass')\n",
    "\n",
    "    db_user = 'chuckwx'\n",
    "    db_password = 'jfr716!!00'\n",
    "\n",
    "    database_username = 'chuckwx'\n",
    "    database_password = 'jfr716!!00'\n",
    "    database_ip       = '3.135.162.69'\n",
    "    database_name     = 'davisf6'\n",
    "    database_connection = sqlalchemy.create_engine('mysql+mysqlconnector://{0}:{1}@{2}/{3}'.\n",
    "                                                   format(database_username, database_password, \n",
    "                                                          database_ip, database_name), connect_args={'connect_timeout': 30})\n",
    "    df2.to_sql(con=database_connection, name='davisV3', if_exists='append', index = False)"
   ]
  }
 ],
 "metadata": {
  "kernelspec": {
   "display_name": "Python 3 (ipykernel)",
   "language": "python",
   "name": "python3"
  },
  "language_info": {
   "codemirror_mode": {
    "name": "ipython",
    "version": 3
   },
   "file_extension": ".py",
   "mimetype": "text/x-python",
   "name": "python",
   "nbconvert_exporter": "python",
   "pygments_lexer": "ipython3",
   "version": "3.10.9"
  }
 },
 "nbformat": 4,
 "nbformat_minor": 5
}
