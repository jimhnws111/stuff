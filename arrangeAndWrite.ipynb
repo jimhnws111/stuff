{
 "cells": [
  {
   "cell_type": "code",
   "execution_count": 8,
   "id": "bb7764c3",
   "metadata": {},
   "outputs": [],
   "source": [
    "import daysAndDatesNew\n",
    "from createF6 import createF6\n",
    "import getAndStore\n",
    "import pandas as pd\n",
    "\n",
    "def arrangeAndWrite():     \n",
    "    \n",
    "    \"\"\"Rearrange the dataframe to make a bit more sense and add a couple of elements\"\"\"\n",
    "    \n",
    "    dayInfo = daysAndDatesNew.daysAndDatesNew()\n",
    "    month, month_num, date, year, yesterday = dayInfo[0], dayInfo[1], dayInfo[2], dayInfo[3], dayInfo[4]\n",
    "    yesterday = int(dayInfo[4])\n",
    "    f6data = createF6(df)\n",
    "    maxT, minT, dewMaxT, dewMinT, rain, avgTemp, hdd, cdd = f6data[0], f6data[1], f6data[2], f6data[3], f6data[4], f6data[5], f6data[6], f6data[7] \n",
    " \n",
    "    df2 = pd.DataFrame(columns = ['Year', 'Month', 'Date', 'High', 'Low', 'Average', 'HDD', 'CDD', 'Rainfall', 'Max_Dew_Point'])\n",
    "    newRow = pd.DataFrame({'Year': year, 'Month': month_num, 'Date': yesterday, 'High': maxT, 'Low': minT, 'Average': avgTemp, 'HDD': hdd, 'CDD': cdd, 'Rainfall' : rain, 'Max_Dew_Point': dewMaxT }, index = [yesterday])\n",
    "    df2 = pd.concat([newRow, df2]).reset_index(drop = True)    \n",
    "               \n",
    "    return(df2)"
   ]
  },
  {
   "cell_type": "code",
   "execution_count": null,
   "id": "e01670b9",
   "metadata": {},
   "outputs": [],
   "source": []
  }
 ],
 "metadata": {
  "kernelspec": {
   "display_name": "Python 3 (ipykernel)",
   "language": "python",
   "name": "python3"
  },
  "language_info": {
   "codemirror_mode": {
    "name": "ipython",
    "version": 3
   },
   "file_extension": ".py",
   "mimetype": "text/x-python",
   "name": "python",
   "nbconvert_exporter": "python",
   "pygments_lexer": "ipython3",
   "version": "3.10.9"
  }
 },
 "nbformat": 4,
 "nbformat_minor": 5
}
