{
 "cells": [
  {
   "cell_type": "code",
   "execution_count": 155,
   "metadata": {},
   "outputs": [],
   "source": [
    "import csv\n",
    "import openpyxl\n",
    "import re\n",
    "import types\n",
    "import time\n",
    "import datetime\n",
    "import sys\n",
    "#from types import NoneType\n",
    "from datetime import date\n",
    "from datetime import timezone\n",
    "from datetime import timedelta\n",
    "from leapYear import leapYear\n",
    "from getFloodType import getFloodType\n",
    "from getLatLon import getLatLon\n",
    "from getWFOs import getWFOs"
   ]
  },
  {
   "cell_type": "code",
   "execution_count": 156,
   "metadata": {},
   "outputs": [
    {
     "name": "stdout",
     "output_type": "stream",
     "text": [
      "MPD number?: 1094\n",
      "1094\n",
      "/Users/jameshayes/2022_mpd_1094.txt\n"
     ]
    }
   ],
   "source": [
    "##########################\n",
    "# Read in a file\n",
    "##########################\n",
    "while True:\n",
    "    try:\n",
    "        file_load = int(input(\"MPD number?: \"))\n",
    "        break\n",
    "    except ValueError as e:\n",
    "        print(\"Not a valid MPD number\")\n",
    "        \n",
    "print(file_load)        \n",
    "\n",
    "#\n",
    "# Construct a file name from user input\n",
    "#\n",
    "\n",
    "path_to_file = '/Users/jameshayes/'\n",
    "today = date.today()\n",
    "yy = today.strftime(\"%Y\")\n",
    "\n",
    "file_name = f'{path_to_file}{yy}_mpd_{file_load}.txt'\n",
    "print(file_name)"
   ]
  },
  {
   "cell_type": "code",
   "execution_count": 157,
   "metadata": {},
   "outputs": [
    {
     "name": "stdout",
     "output_type": "stream",
     "text": [
      "Mesoscale Precipitation Discussion 1094\n",
      "NWS Weather Prediction Center College Park MD\n",
      "910 PM EDT Sat Oct 15 2022\n",
      "\n",
      "Areas affected...Southeast CA...Central/Southern AZ\n",
      "\n",
      "Concerning...Heavy rainfall...Flash flooding likely\n",
      "\n",
      "Valid 160110Z - 160710Z\n",
      "\n",
      "SUMMARY...Showers and thunderstorms will continue across much of\n",
      "southeast CA, and expand in coverage across central and southern\n",
      "AZ going into the evening hours. Areas of flash flooding are\n",
      "likely given heavy rainfall rates, and some of it may be locally\n",
      "significant.\n",
      "\n",
      "DISCUSSION...The latest GOES-E IR satellite imagery shows\n",
      "cold-topped convection continuing over much of southeast CA, with\n",
      "a notable expansion of this activity seen over central and\n",
      "southern AZ over the last 1 to 2 hours as strong forcing arrives\n",
      "in association with an upper-level low advancing gradually east\n",
      "across the northern Baja Peninsula.\n",
      "\n",
      "Robust left-exit region upper jet dynamics associated with a 90 to\n",
      "100+ kt 250 mb jet-streak is seen traversing central and southern\n",
      "AZ, and this coupled with a moderately unstable boundary layer\n",
      "characterized by MLCAPE values of 1000 to 1500 j/kg should favor\n",
      "additional expansion of showers and thunderstorms going into the\n",
      "evening hours. PWs are locally as much as 2+ standard deviations\n",
      "above normal for this time of the year, with the latest CIRA-ALPW\n",
      "data sets showing elevated moisture profiles in the 850/500 mb\n",
      "layer. This coupled with the level of instability in place should\n",
      "favor convection capable of heavy rainfall rates that may reach as\n",
      "high as 1 inch in 20 to 30 minutes with the stronger cells, and\n",
      "1.5 to 2 inches in an hour with the more persistent activity.\n",
      "\n",
      "There are concerns for areas of repeating/training cell activity\n",
      "as convergent low to mid-level southeast flow around the northeast\n",
      "flank of the upper-level low sets up and allows convection to\n",
      "develop and generally rotate over the same area. This will yield\n",
      "at least locally some rather heavy rainfall totals. In fact, the\n",
      "18Z HREF guidance suggests as much as 2 to 3+ inches of rain going\n",
      "through 06Z across areas of central and southern AZ, and this will\n",
      "include the southern facing slopes of the Mogollon Rim.\n",
      "\n",
      "Given the enhanced sub-hourly rainfall rates and expected storm\n",
      "totals going through the remainder of the evening, areas of flash\n",
      "flooding are likely. This will especially be the case for the area\n",
      "dry washes and any burn scar locations which may be prone to\n",
      "potentially significant flash flooding given the enhanced rainfall\n",
      "rates and localized training of convective cells.\n",
      "\n",
      "Orrison\n",
      "\n",
      "ATTN...WFO...FGZ...PSR...SGX...TWC...VEF...\n",
      "\n",
      "ATTN...RFC...CBRFC...CNRFC...NWC...\n",
      "\n",
      "LAT...LON   35381237 34761050 33900983 32940987 31951011\n",
      "            31621076 31621167 32381297 32891455 32861633\n",
      "            33211733 33931747 34421696 34741612 35221467\n"
     ]
    }
   ],
   "source": [
    "#read in the MPD\n",
    "with open (file_name) as f:\n",
    "    bx2 = f.readlines()\n",
    "    str1 =''.join(bx2)\n",
    "    print(str1)"
   ]
  },
  {
   "cell_type": "code",
   "execution_count": 158,
   "metadata": {},
   "outputs": [
    {
     "name": "stdout",
     "output_type": "stream",
     "text": [
      "Valid 160110Z - 160710Z\n"
     ]
    }
   ],
   "source": [
    "#############################################\n",
    "# Get the valid times of the MPD\n",
    "#############################################\n",
    "ValidTime = re.search('Valid.*', str1)\n",
    "if ValidTime:\n",
    "    print(ValidTime.group(0))\n",
    "    ValidValid = ValidTime.group(0)\n",
    "        \n",
    "ValidSplice = ValidValid[6:]\n",
    "ValidStart = ValidSplice[2:6]\n",
    "ValidEnd = ValidSplice[12:16]\n",
    "ValidDay = ValidSplice[0:2]\n",
    "ValidDay =int(ValidDay)"
   ]
  },
  {
   "cell_type": "code",
   "execution_count": 148,
   "metadata": {},
   "outputs": [],
   "source": [
    "#########################################\n",
    "# Set up the discussion number and date\n",
    "#########################################\n",
    "import pytz\n",
    "import datetime\n",
    "\n",
    "#\n",
    "# Parsing needed time and dat elements\n",
    "#\n",
    "\n",
    "meso1 = bx2[0]\n",
    "meso2 = meso1[-5:]\n",
    "date1 = bx2[2]\n",
    "timeSpace = date1[-30:]\n",
    "timeSpace = timeSpace.strip()\n",
    "year = date1[-5:]\n",
    "year1 = str(year[:4])\n",
    "month = date1[15:19]\n",
    "month = month.strip()\n",
    "day1 = date1[19:22]\n",
    "day1 = int((day1.strip()))\n",
    "tod = date1[4:7]\n",
    "tod = tod.strip()\n",
    "\n",
    "#\n",
    "# Set up a fix for times that are not four digits\n",
    "#\n",
    "\n",
    "timeFix = int(date1[:4])\n",
    "if timeFix < 1000:\n",
    "    timeFix = str(timeFix)\n",
    "    timeFix = (\"0\" + timeFix)\n",
    "    hh = int(timeFix[:2])\n",
    "    mm = int(timeFix[2:4])\n",
    "                \n",
    "if tod == 'PM' and hh != 12:\n",
    "    hh = hh + 12\n",
    "elif tod == 'AM' and hh == 12:\n",
    "    hh = 0\n",
    "\n",
    "    \n",
    "#\n",
    "# Convert issuance time to UTC\n",
    "#\n",
    "\n",
    "dt_str = (f'{year1},{month},{day1},{hh},{mm}')\n",
    "dt_obj = datetime.datetime.strptime(dt_str,'%Y,%b,%d,%H,%M')\n",
    "dt_utc = str(dt_obj.astimezone(pytz.UTC))\n",
    "dt_utc_month = (dt_str[5:8])\n",
    "\n",
    "year_UTC = int(dt_utc[:4])\n",
    "month_UTC = (dt_utc[5:7])\n",
    "month_number_UTC = int(dt_utc[5:7])\n",
    "day_UTC = int(dt_utc[8:11])\n",
    "hour_UTC = int(dt_utc[11:13])\n",
    "minute_UTC = int(dt_utc[14:16])\n",
    "monthDay = (f'{dt_utc_month} {day_UTC}').strip()\n",
    "\n",
    "#\n",
    "# Set up datestring to convert to timestamp\n",
    "#\n",
    "\n",
    "startHour = ValidStart[0:2]\n",
    "startMinute = ValidStart[2:4]\n",
    "stopHour = ValidEnd[0:2]\n",
    "stopMinute = ValidEnd[2:4]"
   ]
  },
  {
   "cell_type": "code",
   "execution_count": 159,
   "metadata": {},
   "outputs": [
    {
     "name": "stdout",
     "output_type": "stream",
     "text": [
      "likely\n",
      "The flood type is likely\n"
     ]
    }
   ],
   "source": [
    "floodtype = getFloodType(str1)"
   ]
  },
  {
   "cell_type": "code",
   "execution_count": 124,
   "metadata": {},
   "outputs": [
    {
     "name": "stdout",
     "output_type": "stream",
     "text": [
      "possible\n",
      "The flood type is possible\n"
     ]
    }
   ],
   "source": [
    "#############################################\n",
    "# Get the flood type (possible, likely, none)\n",
    "#############################################\n",
    "#\n",
    "#x11 = re.search('Concerning.*', str1)\n",
    "#if x11:\n",
    "#        x12 = x11.group(0)\n",
    "#        pat = re.compile('possible|likely')\n",
    "#        x13 = re.search(pat, x12)\n",
    "#        if x13 is None:\n",
    "#           floodtype = \"none\"\n",
    "#           print('The flood type is', floodtype)\n",
    "#        \n",
    "#        if x13:\n",
    "#           print(x13.group(0))\n",
    "#           flood = x13.group(0)\n",
    "#           floodtype = flood\n",
    "#           print('The flood type is', floodtype)"
   ]
  },
  {
   "cell_type": "code",
   "execution_count": 160,
   "metadata": {},
   "outputs": [
    {
     "name": "stdout",
     "output_type": "stream",
     "text": [
      "LAT...LON   35381237 34761050 33900983 32940987 31951011\n",
      "            31621076 31621167 32381297 32891455 32861633\n",
      "            33211733 33931747 34421696 34741612 35221467\n"
     ]
    }
   ],
   "source": [
    "LatLon1 = getLatLon(str1)"
   ]
  },
  {
   "cell_type": "code",
   "execution_count": 125,
   "metadata": {},
   "outputs": [
    {
     "name": "stdout",
     "output_type": "stream",
     "text": [
      "LAT...LON   31990083 31869913 30549868 27829901 27520015\n",
      "            29390114 29250311 29340390 29690457 30340490\n",
      "            31200457 31700320\n"
     ]
    }
   ],
   "source": [
    "#############################################\n",
    "# Get the Lat/Lon info\n",
    "#############################################\n",
    "\n",
    "#LatLon = re.search('LAT...LON.*', str1, re.M|re.S)\n",
    "#if LatLon:\n",
    "#   print(LatLon.group(0))\n",
    "#   LatLon1 = LatLon.group(0) "
   ]
  },
  {
   "cell_type": "code",
   "execution_count": 170,
   "metadata": {},
   "outputs": [
    {
     "name": "stdout",
     "output_type": "stream",
     "text": [
      "The final WFO list is  FGZ PSR SGX TWC VEF\n"
     ]
    }
   ],
   "source": [
    "FinalWFO = getWFOs(str1)"
   ]
  },
  {
   "cell_type": "code",
   "execution_count": 169,
   "metadata": {},
   "outputs": [],
   "source": [
    "##############################################\n",
    "# Get the WFOs affected        \n",
    "##############################################\n",
    "\n",
    "#WFOwfo = re.search('ATTN...WFO.*', str1, re.M)\n",
    "#if WFOwfo:\n",
    "#   #print WFOwfo.group(0)\n",
    "#   WFOwfo1 = WFOwfo.group(0)\n",
    "                     \n",
    "#WFOs = WFOwfo1[13:]\n",
    "#print WFOs\n",
    "#MetWFO = WFOs[:-3]\n",
    "#print MetWFO\n",
    "#FinalWFO = re.sub('\\...',' ', MetWFO)\n",
    "#print(\"The final WFO list is \", FinalWFO)"
   ]
  },
  {
   "cell_type": "code",
   "execution_count": 162,
   "metadata": {},
   "outputs": [],
   "source": [
    "##############################################\n",
    "# Extract and process the Lat/Lon information\n",
    "##############################################\n",
    "\n",
    "LatLon2 = LatLon1[10:]\n",
    "interim = LatLon2.strip('\\n')\n",
    "interim2 = re.split(r'\\s{1,}', interim)\n",
    "\n",
    "latlat = [None] * len(interim2)\n",
    "lonlon = [None] * len(interim2)\n",
    "\n",
    "latlatX = [None] * len(interim2)\n",
    "lonlonX = [None] * len(interim2)\n",
    "lonlonFinal = [None] * len(interim2)\n",
    "\n",
    "lat = [len(interim2)]\n",
    "lon = [len(interim2)]  \n",
    "\n",
    "i =  1\n",
    "while i < len(interim2):\n",
    "    latlat[i] = interim2[i][:4]\n",
    "    lonlon[i] = interim2[i][4:]\n",
    "    latlatX[i] = (float(latlat[i])/100)\n",
    "    lonlonX[i] = (float(lonlon[i])/100)\n",
    "    if lonlonX[i] < 30:\n",
    "       lonlonFinal[i] = ((lonlonX[i] + 100)*-1)\n",
    "    else:\n",
    "       lonlonFinal[i] = ((lonlonX[i])*-1)\n",
    "    \n",
    "       print(i, latlatX[i], lonlonFinal[i])       \n",
    "    i = i + 1"
   ]
  },
  {
   "cell_type": "code",
   "execution_count": 164,
   "metadata": {},
   "outputs": [
    {
     "name": "stdout",
     "output_type": "stream",
     "text": [
      "False\n",
      "The stop hour is 1 and the start hour is 7\n",
      "10/16/2022 1:10\n",
      "10/16/2022 7:10\n"
     ]
    }
   ],
   "source": [
    "#\n",
    "# Is this a leap year?\n",
    "#\n",
    "\n",
    "leap_year = leapYear(year_UTC)\n",
    "print(leap_year)\n",
    "\n",
    "#\n",
    "# Determining the number of days in the month\n",
    "# \n",
    "\n",
    "if month_number_UTC in (1, 3, 5, 7, 8, 10, 12):\n",
    "    month_length = 31\n",
    "elif month_number_UTC == 2:\n",
    "    if leap_year:\n",
    "        month_length = 29\n",
    "    else:\n",
    "        month_length = 28\n",
    "else:\n",
    "    month_length = 30\n",
    "   \n",
    "#\n",
    "# Calculating beginning and end of the MPD\n",
    "#\n",
    "\n",
    "stopHour = int(stopHour) \n",
    "startHour = int(startHour)\n",
    "print(f'The stop hour is {startHour} and the start hour is {stopHour}')\n",
    "\n",
    "if stopHour < startHour:\n",
    "    day_UTC += 1    \n",
    "\n",
    "if day_UTC == month_length and startHour < 3:  \n",
    "    day_UTC = 1 \n",
    "            \n",
    "if day_UTC == 1:\n",
    "    if month_number == 12:\n",
    "        month_number = 1\n",
    "        year_UTC += 1\n",
    "    else:\n",
    "        month_number += 1\n",
    "  \n",
    "\n",
    "#\n",
    "# Create the date string to compute the datestamp\n",
    "#\n",
    "\n",
    "dateStringStart = (f'{month_number_UTC}/{day_UTC}/{year_UTC} {startHour}:{startMinute}');print(dateStringStart)\n",
    "dateStringEnd = (f'{month_number_UTC}/{day_UTC}/{year_UTC} {stopHour}:{stopMinute}');print(dateStringEnd)"
   ]
  },
  {
   "cell_type": "code",
   "execution_count": 165,
   "metadata": {},
   "outputs": [
    {
     "name": "stdout",
     "output_type": "stream",
     "text": [
      "10/16/2022 1:10\n",
      "1665897000.0\n",
      "1665918600.0\n",
      "360.0\n"
     ]
    }
   ],
   "source": [
    "#\n",
    "# setup the time stamps\n",
    "#\n",
    "\n",
    "import time\n",
    "import datetime\n",
    "from datetime import datetime\n",
    "\n",
    "print(dateStringStart)\n",
    "objStart = time.strptime(dateStringStart, \"%m/%d/%Y %H:%M\")\n",
    "objStop = time.strptime(dateStringEnd,\"%m/%d/%Y %H:%M\")\n",
    "\n",
    "\n",
    "tStampStart = time.mktime(objStart);print(tStampStart)\n",
    "tStampStop = time.mktime(objStop);print(tStampStop)\n",
    "\n",
    "diffTime = ((tStampStop - tStampStart)/60);print(diffTime)\n",
    "diffTime = int(diffTime)"
   ]
  },
  {
   "cell_type": "code",
   "execution_count": 171,
   "metadata": {},
   "outputs": [
    {
     "name": "stdout",
     "output_type": "stream",
     "text": [
      "FGZ PSR SGX TWC VEF\n",
      "1094\n",
      "1095\n",
      "/Users/jameshayes/MPD2022.xlsx\n",
      "<openpyxl.workbook.workbook.Workbook object at 0x7fc1701bdd90>\n",
      "Writing out the header to the Excel file...\n",
      "Writing the MPD info to the file...\n"
     ]
    }
   ],
   "source": [
    "######x###########################################\n",
    "# Write the other information to an Excel file\n",
    "##################################################\n",
    "print(FinalWFO)\n",
    "\n",
    "from openpyxl import load_workbook\n",
    "qb22 = int(file_load)\n",
    "print(qb22)\n",
    "qb33 = qb22 + 1\n",
    "print(qb33)\n",
    "\n",
    "\n",
    "file_path_xls = f'{path_to_file}MPD{yy}.xlsx'\n",
    "print(file_path_xls)\n",
    "\n",
    "\n",
    "wb = load_workbook(file_path_xls)\n",
    "print(wb)\n",
    "sheet = wb.active\n",
    "\n",
    "# write out the header\n",
    "\n",
    "print(\"Writing out the header to the Excel file...\")\n",
    "\n",
    "a1 = sheet['A1']\n",
    "a1.value = \"MPD#\"\n",
    "b1 = sheet['B1']\n",
    "b1.value = \"Date\"\n",
    "c1 = sheet['C1']\n",
    "c1.value = \"Cat\"\n",
    "d1 = sheet['D1']\n",
    "d1.value = \"Start\"\n",
    "e1 = sheet['E1']\n",
    "e1.value = \"Stop\"\n",
    "f1 = sheet['F1']\n",
    "f1.value = \"Time\"\n",
    "g1 = sheet['G1']\n",
    "g1.value = \"Area\"\n",
    "h1 = sheet['H1']\n",
    "h1.value = \"WFO\"\n",
    "\n",
    "# Write the data to the correct locations\n",
    "\n",
    "print\n",
    "print(\"Writing the MPD info to the file...\")\n",
    "\n",
    "# First the MPD#\n",
    "aNext = sheet.cell(row = qb33, column = 1)\n",
    "aNext.value = qb22\n",
    "\n",
    "#Next the date\n",
    "bNext = sheet.cell(row = qb33, column = 2)\n",
    "bNext.value = monthDay\n",
    "\n",
    "#Next the category of flooding\n",
    "cNext = sheet.cell(row = qb33, column = 3)\n",
    "cNext.value = floodtype\n",
    "\n",
    "# Start time of the MPD\n",
    "dNext = sheet.cell(row = qb33, column = 4)\n",
    "dNext.value = ValidStart\n",
    "\n",
    "# End of the MPD\n",
    "eNext = sheet.cell(row = qb33, column = 5)\n",
    "eNext.value = ValidEnd\n",
    "\n",
    "# Get the time length of the MPD (under construction)\n",
    "fNext = sheet.cell(row = qb33, column = 6)\n",
    "fNext.value = diffTime\n",
    "\n",
    "# Get the Area (under construction)\n",
    "#gNext sheet.cell(row = qb33, column = 7)\n",
    "#gNext.value = Area\n",
    "\n",
    "# WFOs in the MPD\n",
    "hNext = sheet.cell(row = qb33, column = 8)\n",
    "hNext.value = FinalWFO\n",
    "\n",
    "\n",
    "wb.save(file_path_xls)"
   ]
  },
  {
   "cell_type": "code",
   "execution_count": null,
   "metadata": {},
   "outputs": [],
   "source": []
  },
  {
   "cell_type": "code",
   "execution_count": null,
   "metadata": {},
   "outputs": [],
   "source": []
  }
 ],
 "metadata": {
  "kernelspec": {
   "display_name": "Python 3 (ipykernel)",
   "language": "python",
   "name": "python3"
  },
  "language_info": {
   "codemirror_mode": {
    "name": "ipython",
    "version": 3
   },
   "file_extension": ".py",
   "mimetype": "text/x-python",
   "name": "python",
   "nbconvert_exporter": "python",
   "pygments_lexer": "ipython3",
   "version": "3.8.5"
  }
 },
 "nbformat": 4,
 "nbformat_minor": 4
}
