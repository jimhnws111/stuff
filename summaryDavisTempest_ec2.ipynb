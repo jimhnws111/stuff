{
 "cells": [
  {
   "cell_type": "code",
   "execution_count": null,
   "id": "9f9cc178",
   "metadata": {},
   "outputs": [],
   "source": [
    "import pandas as pd\n",
    "\n",
    "df1 = pd.read_csv('/home/ec2-user/HiLoRain.csv', names = ['High','Low','Rainfall', 'Hourly Rate', 'Fake Rain','Tstorm?','Time'], index_col = False)\n",
    "df1['Platform'] = 'Davis'\n",
    "df2 = pd.read_csv('/home/ec2-user/HiLoRain_tempest.csv', names = ['High','Low','Rainfall','Hourly Rate', 'Fake Rain','Tstorm?','Time'], index_col = False)\n",
    "df2['Platform'] = 'Tempest'\n",
    "pd.set_option('display.precision', 2)\n",
    "pd.set_option('display.colheader_justify', 'center')\n",
    "df3 = pd.concat([df1,df2])\n",
    "df3.to_html('/var/www/html/000/together.html', index = False)  "
   ]
  }
 ],
 "metadata": {
  "kernelspec": {
   "display_name": "Python 3 (ipykernel)",
   "language": "python",
   "name": "python3"
  },
  "language_info": {
   "codemirror_mode": {
    "name": "ipython",
    "version": 3
   },
   "file_extension": ".py",
   "mimetype": "text/x-python",
   "name": "python",
   "nbconvert_exporter": "python",
   "pygments_lexer": "ipython3",
   "version": "3.10.9"
  }
 },
 "nbformat": 4,
 "nbformat_minor": 5
}
