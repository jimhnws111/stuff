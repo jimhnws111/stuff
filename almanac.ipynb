{
 "cells": [
  {
   "cell_type": "code",
   "execution_count": 4,
   "id": "3bbf0fe3",
   "metadata": {},
   "outputs": [
    {
     "name": "stdout",
     "output_type": "stream",
     "text": [
      "('March', '03', '19', '2024')\n"
     ]
    },
    {
     "ename": "NameError",
     "evalue": "name 'df' is not defined",
     "output_type": "error",
     "traceback": [
      "\u001b[0;31m---------------------------------------------------------------------------\u001b[0m",
      "\u001b[0;31mNameError\u001b[0m                                 Traceback (most recent call last)",
      "Cell \u001b[0;32mIn[4], line 19\u001b[0m\n\u001b[1;32m     16\u001b[0m yesterday \u001b[38;5;241m=\u001b[39m \u001b[38;5;28mint\u001b[39m(dayInfo[\u001b[38;5;241m4\u001b[39m])\n\u001b[1;32m     17\u001b[0m nextDay \u001b[38;5;241m=\u001b[39m \u001b[38;5;28mint\u001b[39m(dayInfo[\u001b[38;5;241m5\u001b[39m])\n\u001b[0;32m---> 19\u001b[0m sdf \u001b[38;5;241m=\u001b[39m createF6(\u001b[43mdf\u001b[49m)\n\u001b[1;32m     20\u001b[0m maxT, minT, dewMaxT, throttle, rainfall, avgTemp, hdd, cdd \u001b[38;5;241m=\u001b[39m sdf[\u001b[38;5;241m0\u001b[39m], sdf[\u001b[38;5;241m1\u001b[39m], sdf[\u001b[38;5;241m2\u001b[39m], sdf[\u001b[38;5;241m3\u001b[39m], sdf[\u001b[38;5;241m4\u001b[39m], sdf[\u001b[38;5;241m5\u001b[39m], sdf[\u001b[38;5;241m6\u001b[39m], sdf[\u001b[38;5;241m7\u001b[39m]\n\u001b[1;32m     22\u001b[0m nmlData \u001b[38;5;241m=\u001b[39m sandbox2\u001b[38;5;241m.\u001b[39msandbox2()\n",
      "\u001b[0;31mNameError\u001b[0m: name 'df' is not defined"
     ]
    }
   ],
   "source": [
    "import pymysql as dbapi\n",
    "import sys\n",
    "import csv\n",
    "import sandbox1\n",
    "import sandbox2\n",
    "#from daysAndDatesNew import daysAndDatesNew\n",
    "import daysAndDatesNew\n",
    "from createF6 import createF6\n",
    "\n",
    "#\n",
    "# Import data for use in the alamanc\n",
    "#\n",
    "\n",
    "dayInfo = daysAndDatesNew.daysAndDatesNew()\n",
    "month, month_num, date, year = dayInfo[0], dayInfo[1], dayInfo[2], dayInfo[3]\n",
    "yesterday = int(dayInfo[4])\n",
    "nextDay = int(dayInfo[5])\n",
    "\n",
    "sdf = createF6(df)\n",
    "maxT, minT, dewMaxT, throttle, rainfall, avgTemp, hdd, cdd = sdf[0], sdf[1], sdf[2], sdf[3], sdf[4], sdf[5], sdf[6], sdf[7]\n",
    "\n",
    "nmlData = sandbox2.sandbox2()\n",
    "nmlHi = nmlData[3]\n",
    "nmlLo = nmlData[4]\n",
    "\n",
    "highData = sandbox1.recordHigh()\n",
    "lowData = sandbox1.recordLow()\n",
    "rainData = sandbox1.recordRain()\n",
    "\n",
    "highPhrase = highData[2]\n",
    "lowPhrase = lowData[2]\n",
    "rainPhrase = rainData[2]\n",
    "\n",
    "filePath = '/var/www/html/000/climoDavisTest111.txt'\n",
    "#filePath = '/Users/jameshayes/Sites/climoDavisText111.txt'\n",
    "\n",
    "def almanac():\n",
    "    \n",
    "    \"\"\"Set and and write the daily almanac\"\"\"\n",
    "\n",
    "    with open(f'{filePath}','w') as outfile1: \n",
    "        print(f'Daily almanac for {month} {yesterday}, {year}', file = outfile1)\n",
    "        print('\\n', file = outfile1)\n",
    "        print(f'The high yesterday was {maxT} degrees', file = outfile1)\n",
    "        print(f'The low yesterday was {minT} degrees', file = outfile1)\n",
    "        print(f'The average temperature was {avgTemp} degrees', file = outfile1)\n",
    "        print(f'The rainfall yesterday was {(\"%.2f\" % rainfall)} inches', file = outfile1)\n",
    "        if hdd == 0:\n",
    "            print('')\n",
    "        else:\n",
    "            print(f'There were {hdd} heating degree days', file = outfile1)\n",
    "        if cdd == 0:\n",
    "            print('')\n",
    "        else:\n",
    "            print(f'There were {cdd} cooling degree days', file = outfile1)                      \n",
    "    \n",
    "        print('\\n', file = outfile1)\n",
    "    \n",
    "        if date == 1:\n",
    "            print(f'Normal and Record information for {nextMonth} {nextDay}, {year}', file = outfile1)\n",
    "            print('\\n', file = outfile1)\n",
    "            print(f'The normal high for today is {nmlHi} degrees', file = outfile1)\n",
    "            print(f'The normal low for today is {nmlLo} degrees' , file = outfile1)\n",
    "            print('\\n', file = outfile1)\n",
    "            print(highPhrase, file = outfile1)\n",
    "            print(lowPhrase, file = outfile1)\n",
    "            print(rainPhrase, file = outfile1)  \n",
    "        \n",
    "        else:\n",
    "            print(f'Normal and Record information for {month} {date}, {year}', file = outfile1)\n",
    "            print('\\n', file = outfile1)\n",
    "            print(f'The normal high for today is {nmlHi} degrees', file = outfile1)\n",
    "            print(f'The normal low for today is {nmlLo} degrees' , file = outfile1)\n",
    "            print('\\n', file = outfile1)\n",
    "            print(highPhrase, file = outfile1)\n",
    "            print(lowPhrase, file = outfile1)\n",
    "            print(rainPhrase, file = outfile1)                   \n",
    "            \n",
    "almanac()            "
   ]
  },
  {
   "cell_type": "code",
   "execution_count": null,
   "id": "19a076fc",
   "metadata": {},
   "outputs": [],
   "source": []
  }
 ],
 "metadata": {
  "kernelspec": {
   "display_name": "Python 3 (ipykernel)",
   "language": "python",
   "name": "python3"
  },
  "language_info": {
   "codemirror_mode": {
    "name": "ipython",
    "version": 3
   },
   "file_extension": ".py",
   "mimetype": "text/x-python",
   "name": "python",
   "nbconvert_exporter": "python",
   "pygments_lexer": "ipython3",
   "version": "3.10.9"
  }
 },
 "nbformat": 4,
 "nbformat_minor": 5
}
