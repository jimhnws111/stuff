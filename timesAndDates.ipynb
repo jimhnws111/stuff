{
 "cells": [
  {
   "cell_type": "code",
   "execution_count": null,
   "id": "8a3741a2",
   "metadata": {},
   "outputs": [],
   "source": [
    "import getDays\n",
    "from datetime import datetime, timedelta\n",
    "import calcTimeNow\n",
    "import daysAndDatesNew\n",
    "import checkDST\n",
    "from dataFromDavis import dataFromDavis\n",
    "from getAndStore import getAndStore\n",
    "import numpy as np\n",
    "import pandas as pd\n",
    "from pandas import DataFrame, Series\n",
    "from dateutil.tz import tzutc, tzlocal\n",
    "import pytz\n",
    "\n",
    "def timesAndDates():\n",
    "    \n",
    "    \"\"\"Calculate the time and date for end of day calculations\n",
    "    First determine whether we are in DST or not\"\"\"\n",
    "\n",
    "    # Check DST setting\n",
    "    isDST = checkDST.checkDST()\n",
    "    print(isDST)\n",
    "\n",
    "    if isDST == 1:\n",
    "        now = datetime.now()\n",
    "        end = int(datetime.timestamp(now))\n",
    "        start = (end - 55800)\n",
    "        start = str(start)\n",
    "        end = str(end)\n",
    "        \n",
    "    else:\n",
    "        now = datetime.now()\n",
    "        end = int(datetime.timestamp(now))\n",
    "        start = (end - 59400)\n",
    "        start = str(start)\n",
    "        end = str(end)    \n",
    "\n",
    "    dayInfo = daysAndDatesNew.daysAndDatesNew()\n",
    "    month, month_num, date, year = dayInfo[0], dayInfo[1], dayInfo[2], dayInfo[3]\n",
    "    yesterday = int(dayInfo[4])\n",
    "    nextDay = int(dayInfo[5])\n",
    "    month_num = int(month_num)\n",
    "    date = int(date)\n",
    "        \n",
    "    return(start, end, month, month_num, date, year, yesterday, nextDay)  \n",
    "\n",
    "timesAndDates()\n",
    "dataFromDavis()\n",
    "getAndStore()"
   ]
  }
 ],
 "metadata": {
  "kernelspec": {
   "display_name": "Python 3 (ipykernel)",
   "language": "python",
   "name": "python3"
  },
  "language_info": {
   "codemirror_mode": {
    "name": "ipython",
    "version": 3
   },
   "file_extension": ".py",
   "mimetype": "text/x-python",
   "name": "python",
   "nbconvert_exporter": "python",
   "pygments_lexer": "ipython3",
   "version": "3.10.9"
  }
 },
 "nbformat": 4,
 "nbformat_minor": 5
}
