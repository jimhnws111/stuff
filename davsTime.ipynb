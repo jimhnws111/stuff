{
 "cells": [
  {
   "cell_type": "code",
   "execution_count": 83,
   "id": "8bf7cc7c",
   "metadata": {},
   "outputs": [
    {
     "name": "stdout",
     "output_type": "stream",
     "text": [
      "This script started at: 2024-03-21 19:42:31.865285\n",
      "1710978151 1711064551\n"
     ]
    }
   ],
   "source": [
    "import time\n",
    "from datetime import datetime\n",
    "import getData\n",
    "import checkDST\n",
    "\n",
    "#\n",
    "# Calculate the current time\n",
    "# and convert to datetime\n",
    "#\n",
    "\n",
    "now = datetime.now()\n",
    "x = now.strftime(\"%Y-%m-%d\")\n",
    "print(\"This script started at:\", now)\n",
    "\n",
    "t1 = ' 20:00'\n",
    "t2 = ' 21:00'\n",
    "time1 = x + t1\n",
    "time2 = x + t2\n",
    "val1 = datetime.strptime(time1, \"%Y-%m-%d %H:%M\")\n",
    "val2 = datetime.strptime(time2, \"%Y-%m-%d %H:%M\")\n",
    "\n",
    "if val1 < now < val2:\n",
    "    end = int(datetime.timestamp(now))\n",
    "    start = (end - 55800)\n",
    "    start = str(start)\n",
    "    end = str(end)    \n",
    "        \n",
    "else:\n",
    "    startEnd = getData.getData()\n",
    "    start, end = startEnd[0], startEnd[1]   \n",
    "    \n",
    "print(start, end)    "
   ]
  },
  {
   "cell_type": "code",
   "execution_count": null,
   "id": "64e2e696",
   "metadata": {},
   "outputs": [],
   "source": []
  },
  {
   "cell_type": "code",
   "execution_count": null,
   "id": "6dda03ea",
   "metadata": {},
   "outputs": [],
   "source": []
  }
 ],
 "metadata": {
  "kernelspec": {
   "display_name": "Python 3 (ipykernel)",
   "language": "python",
   "name": "python3"
  },
  "language_info": {
   "codemirror_mode": {
    "name": "ipython",
    "version": 3
   },
   "file_extension": ".py",
   "mimetype": "text/x-python",
   "name": "python",
   "nbconvert_exporter": "python",
   "pygments_lexer": "ipython3",
   "version": "3.10.9"
  }
 },
 "nbformat": 4,
 "nbformat_minor": 5
}
