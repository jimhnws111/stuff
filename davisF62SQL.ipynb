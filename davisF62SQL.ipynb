{
 "cells": [
  {
   "cell_type": "code",
   "execution_count": 4,
   "id": "13ffbc2d",
   "metadata": {},
   "outputs": [
    {
     "name": "stdout",
     "output_type": "stream",
     "text": [
      "[(28, '2023', '10', '31', 54, 48, 51, 14, 0, 0.0, '44')]\n"
     ]
    }
   ],
   "source": [
    "import pandas as pd\n",
    "import datetime\n",
    "from datetime import datetime\n",
    "import sqlalchemy\n",
    "import mysql.connector\n",
    "import sqlite3\n",
    "import os\n",
    "\n",
    "#\n",
    "# creating connection to mySQL\n",
    "#\n",
    "\n",
    "#\n",
    "# use environmental variables for the SQL query\n",
    "#\n",
    "\n",
    "db_user = os.environ.get('dbUser')\n",
    "db_password = os.environ.get('dbPass')\n",
    "\n",
    "mydb = mysql.connector.connect(\n",
    "  host=\"3.135.162.69\",\n",
    "  user=db_user,\n",
    "  password=db_password    \n",
    ")\n",
    "\n",
    "mycursor = mydb.cursor()\n",
    "\n",
    "#\n",
    "# Pop out the most recent Davis F6 entry\n",
    "#\n",
    "\n",
    "mycursor.execute(\"use davisf6;\")\n",
    "pop1 = (\"select * from davisUpdate order by id DESC LIMIT 1;\")\n",
    "mycursor.execute(pop1)\n",
    "result = mycursor.fetchall()\n",
    "print(result)"
   ]
  },
  {
   "cell_type": "code",
   "execution_count": 22,
   "id": "7bc90ed8",
   "metadata": {},
   "outputs": [
    {
     "name": "stdout",
     "output_type": "stream",
     "text": [
      "   Rain  HiTemp  LowTemp  Year Month Day  timeGroup\n",
      "0   0.0      54       48  2023    10  31 2023-10-31\n"
     ]
    }
   ],
   "source": [
    "import pandas as pd\n",
    "\n",
    "#\n",
    "# Read in info form the mySQL table and create a pandas dataFrame\n",
    "#\n",
    "\n",
    "colNames = (['index', 'Year', 'Month', 'Date', 'High', 'Low', 'Average', 'HDD', 'CDD', 'Rainfall', 'Max_Dew_Point']) \n",
    "df = pd.DataFrame(result, columns = colNames)\n",
    "df['Day'] = df['Date']\n",
    "df = df.drop(['index'], axis = 1)\n",
    "\n",
    "x = pd.to_datetime(df[['Year', 'Month', 'Day']])\n",
    "df['timeGroup'] = x\n",
    "df = df.drop(df.columns[[5,6,7,9,10]], axis = 1)\n",
    "df = df.reindex(columns=['Rainfall', 'High', 'Low', 'Year', 'Month', 'Date', 'timeGroup'])\n",
    "df.rename(columns = {'Rainfall':'Rain', 'High':'HiTemp', 'Low':'LowTemp', 'Date':'Day'}, inplace = True)"
   ]
  },
  {
   "cell_type": "code",
   "execution_count": 26,
   "id": "11db6d7a",
   "metadata": {},
   "outputs": [
    {
     "name": "stdout",
     "output_type": "stream",
     "text": [
      "0.0 54 48 2023 10 31 2023-10-31\n"
     ]
    }
   ],
   "source": [
    "import pandas as pd\n",
    "\n",
    "#\n",
    "# Set up DataFrame info to be written to the trw table\n",
    "#\n",
    "\n",
    "rain = float(df['Rain'])\n",
    "hiTemp = int(df['HiTemp'])\n",
    "lowTemp = int(df['LowTemp'])\n",
    "year = int(df['Year'])\n",
    "month = int(df['Month'])\n",
    "day = int(df['Day'])\n",
    "\n",
    "timeGroup = (df['timeGroup']).astype('string')\n",
    "timeGroup = repr(timeGroup)\n",
    "timeGroup = timeGroup.split(' ')\n",
    "timeGroup = timeGroup[4]\n",
    "timeGroup = timeGroup.split('\\n')\n",
    "timeGroup = timeGroup[0]\n",
    "\n",
    "print(rain, hiTemp, lowTemp, year, month, day, timeGroup)"
   ]
  },
  {
   "cell_type": "code",
   "execution_count": 27,
   "id": "5d61b1b7",
   "metadata": {},
   "outputs": [
    {
     "name": "stdout",
     "output_type": "stream",
     "text": [
      "(0.0, 54, 48, 2023, 10, 31, '2023-10-31')\n"
     ]
    }
   ],
   "source": [
    "import sqlalchemy\n",
    "import mysql.connector\n",
    "import sqlite3\n",
    "import pandas as pd\n",
    "\n",
    "#\n",
    "# Write the values from the DataFrame to the trw table\n",
    "#\n",
    "\n",
    "\n",
    "sql = (\"INSERT INTO trw\"\n",
    "      \"(Rain, HiTemp, LowTemp, Year, Month, Day, timeGroup) \"\n",
    "       \"VALUES (%s, %s, %s, %s, %s, %s, %s)\")\n",
    "\n",
    "strVals = rain, hiTemp, lowTemp, year, month, day, timeGroup\n",
    "print(strVals)\n",
    "\n",
    "mycursor.execute(\"use trweather;\")\n",
    "mycursor.execute(sql, strVals)\n",
    "mydb.commit()"
   ]
  },
  {
   "cell_type": "code",
   "execution_count": null,
   "id": "3bce748e",
   "metadata": {},
   "outputs": [],
   "source": []
  }
 ],
 "metadata": {
  "kernelspec": {
   "display_name": "Python 3 (ipykernel)",
   "language": "python",
   "name": "python3"
  },
  "language_info": {
   "codemirror_mode": {
    "name": "ipython",
    "version": 3
   },
   "file_extension": ".py",
   "mimetype": "text/x-python",
   "name": "python",
   "nbconvert_exporter": "python",
   "pygments_lexer": "ipython3",
   "version": "3.10.9"
  }
 },
 "nbformat": 4,
 "nbformat_minor": 5
}
