{
 "cells": [
  {
   "cell_type": "code",
   "execution_count": 3,
   "id": "7f375cb4",
   "metadata": {},
   "outputs": [],
   "source": [
    "month_days = [0,31,28,31,30,31,30,31,31,30,31,30,31]"
   ]
  },
  {
   "cell_type": "code",
   "execution_count": 4,
   "id": "b16ef938",
   "metadata": {},
   "outputs": [],
   "source": [
    "def is_leap(year):\n",
    "    return year%4 == 0 and (year%100 !=0 or year%400 == 0)"
   ]
  },
  {
   "cell_type": "code",
   "execution_count": 5,
   "id": "dba89bae",
   "metadata": {},
   "outputs": [],
   "source": [
    "def days_in_month(year,month):\n",
    "    if not 1 <= month <= 12:\n",
    "        return 'Invalid month'\n",
    "    \n",
    "    if month == 2 and is_leap(year):\n",
    "        return 29\n",
    "    \n",
    "    return month_days[month]"
   ]
  },
  {
   "cell_type": "code",
   "execution_count": 6,
   "id": "5cdddfe2",
   "metadata": {},
   "outputs": [
    {
     "data": {
      "text/plain": [
       "30"
      ]
     },
     "execution_count": 6,
     "metadata": {},
     "output_type": "execute_result"
    }
   ],
   "source": [
    "days_in_month(2023,6)"
   ]
  },
  {
   "cell_type": "code",
   "execution_count": null,
   "id": "337c064c",
   "metadata": {},
   "outputs": [],
   "source": []
  }
 ],
 "metadata": {
  "kernelspec": {
   "display_name": "Python 3 (ipykernel)",
   "language": "python",
   "name": "python3"
  },
  "language_info": {
   "codemirror_mode": {
    "name": "ipython",
    "version": 3
   },
   "file_extension": ".py",
   "mimetype": "text/x-python",
   "name": "python",
   "nbconvert_exporter": "python",
   "pygments_lexer": "ipython3",
   "version": "3.10.9"
  }
 },
 "nbformat": 4,
 "nbformat_minor": 5
}
