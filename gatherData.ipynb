{
 "cells": [
  {
   "cell_type": "code",
   "execution_count": 34,
   "id": "606e2e08",
   "metadata": {
    "scrolled": true
   },
   "outputs": [
    {
     "name": "stdout",
     "output_type": "stream",
     "text": [
      "('March', '03', '16', '2024')\n",
      "chuckwx jfr716!!00\n"
     ]
    }
   ],
   "source": [
    "import pymysql as dbapi\n",
    "import os\n",
    "import getData1\n",
    "import daysAndDatesNew\n",
    "import sys\n",
    "\n",
    "#\n",
    "# Get some needed data first\n",
    "#\n",
    "\n",
    "bsd = daysAndDatesNew.daysAndDatesNew()\n",
    "month, month_num, date, year = bsd[0], bsd[1], bsd[2], bsd[3]\n",
    "db_user = 'chuckwx'\n",
    "db_password = 'jfr716!!00'\n",
    "print(db_user, db_password)\n",
    "\n",
    "def gatherData():\n",
    "\n",
    "    QUERY = \"\"\"SELECT * FROM avgHiLo \n",
    "               WHERE Month = %s \n",
    "               AND Day = %s\"\"\" % (month_num, date)\n",
    "\n",
    "\n",
    "    db = dbapi.connect(host='3.135.162.69',user=db_user,passwd=db_password, database = 'trweather')\n",
    "\n",
    "    cur = db.cursor()\n",
    "    cur.execute(QUERY)\n",
    "    result = cur.fetchall()\n",
    "\n",
    "    dataset = result[0]\n",
    "    nmlHi = int(dataset[3])\n",
    "    nmlLo = int(dataset[4])\n",
    "\n",
    "    #\n",
    "    # Get the record high for the date\n",
    "    #\n",
    "\n",
    "    QUERY1 = \"\"\"SELECT * FROM recHigh \n",
    "               WHERE Month = %s \n",
    "               AND Day = %s\"\"\" % (month_num, date)\n",
    "\n",
    "\n",
    "    db = dbapi.connect(host='3.135.162.69',user=db_user,passwd=db_password, database = 'trweather')\n",
    "\n",
    "    cur = db.cursor()\n",
    "    cur.execute(QUERY1)\n",
    "    result1 = cur.fetchall()\n",
    "    recordHigh = result1[0]\n",
    "    recHigh = int(recordHigh[1])\n",
    "    recHighYear = int(recordHigh[4])\n",
    "\n",
    "    #\n",
    "    # Get the record low for the date\n",
    "    #\n",
    "\n",
    "    QUERY2 = \"\"\"SELECT * FROM recLow \n",
    "               WHERE Month = %s \n",
    "               AND Day = %s\"\"\" % (month_num, date)\n",
    "\n",
    "\n",
    "    db = dbapi.connect(host='3.135.162.69',user=db_user,passwd=db_password, database = 'trweather')\n",
    "\n",
    "    cur = db.cursor()\n",
    "    cur.execute(QUERY2)\n",
    "    result2 = cur.fetchall()\n",
    "    recYearNum =  len(result2)\n",
    "    recordLow = result2[0]\n",
    "    recLow = int(recordLow[1])\n",
    "    recLowYear = int(recordLow[4])\n",
    "\n",
    "    #\n",
    "    # Get the record rainfall for the date\n",
    "    #\n",
    "\n",
    "    QUERY3 = \"\"\"SELECT * FROM recRain \n",
    "               WHERE Month = %s \n",
    "               AND Day = %s\"\"\" % (month_num, date)\n",
    "\n",
    "\n",
    "    db = dbapi.connect(host='3.135.162.69',user=db_user,passwd=db_password, database = 'trweather')\n",
    "\n",
    "    cur = db.cursor()\n",
    "    cur.execute(QUERY3)\n",
    "    result3 = cur.fetchall()\n",
    "\n",
    "    recordRain = result3[0]\n",
    "    recRain = recordRain[1]\n",
    "    recRainYear = int(recordRain[4])"
   ]
  },
  {
   "cell_type": "code",
   "execution_count": 35,
   "id": "0e016b77",
   "metadata": {},
   "outputs": [],
   "source": [
    "gatherData()"
   ]
  },
  {
   "cell_type": "code",
   "execution_count": null,
   "id": "ed5dfedf",
   "metadata": {},
   "outputs": [],
   "source": []
  }
 ],
 "metadata": {
  "kernelspec": {
   "display_name": "Python 3 (ipykernel)",
   "language": "python",
   "name": "python3"
  },
  "language_info": {
   "codemirror_mode": {
    "name": "ipython",
    "version": 3
   },
   "file_extension": ".py",
   "mimetype": "text/x-python",
   "name": "python",
   "nbconvert_exporter": "python",
   "pygments_lexer": "ipython3",
   "version": "3.10.9"
  }
 },
 "nbformat": 4,
 "nbformat_minor": 5
}
