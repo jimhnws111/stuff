{
 "cells": [
  {
   "cell_type": "code",
   "execution_count": null,
   "id": "7276f91b",
   "metadata": {},
   "outputs": [],
   "source": [
    "import pandas as pd\n",
    "import dataFile\n",
    "import datetime\n",
    "from datetime import datetime\n",
    "from dateutil.tz import tzutc, tzlocal\n",
    "import pytz\n",
    "\n",
    "#\n",
    "# Read in the CSV file for processing in pandas\n",
    "#\n",
    "\n",
    "full_file = '/home/ec2-user/latestTempest1m.csv'\n",
    "\n",
    "df = pd.read_csv(full_file, index_col=False)\n",
    "\n",
    "pd.set_option('display.max_rows', 1440)\n",
    "pd.set_option('display.max_columns', 35)\n",
    "pd.set_option('display.width', 1500)\n",
    "pd.set_option('display.colheader_justify', 'center')\n",
    "pd.set_option('display.precision', 2)\n",
    "\n",
    "max_temp  = (df.sort_values(by='temperature', ascending=False))\n",
    "max_T = max_temp.iloc[:1]\n",
    "maxT = max_T['temperature'].values[0]\n",
    "maxT = round((maxT*1.8) + 32)\n",
    "\n",
    "min_temp  = (df.sort_values(by='temperature', ascending=True))\n",
    "min_T = min_temp.iloc[:1]\n",
    "minT = min_T['temperature'].values[0]\n",
    "minT = round((minT*1.8) + 32)\n",
    "\n",
    "tot_rain = df['precip'].sum()\n",
    "totR = round((tot_rain*0.03937), 2)\n",
    "nc_Rain = df['local_daily_precip_final'].iloc[-1]\n",
    "ncR = round((nc_Rain*0.03937), 2)\n",
    "\n",
    "storm = (df['strike_distance'].iloc[-1])\n",
    "if storm > 0 and storm < 8:\n",
    "    status = \"Yes\"\n",
    "else:\n",
    "    status = \"No\"\n",
    "\n",
    "timezone = pytz.timezone(\"America/New_York\")\n",
    "recentT = (df['timestamp'].iloc[-1])\n",
    "dt_object = datetime.fromtimestamp(recentT)\n",
    "localT = dt_object.astimezone(timezone)\n",
    "lastTime = localT.strftime('%I:%M %p')\n",
    "    \n",
    "latestRain = df.tail(60)\n",
    "hourlyRate = latestRain['precip'].sum()\n",
    "print(\"%.2f\" % hourlyRate)"
   ]
  }
 ],
 "metadata": {
  "kernelspec": {
   "display_name": "Python 3 (ipykernel)",
   "language": "python",
   "name": "python3"
  },
  "language_info": {
   "codemirror_mode": {
    "name": "ipython",
    "version": 3
   },
   "file_extension": ".py",
   "mimetype": "text/x-python",
   "name": "python",
   "nbconvert_exporter": "python",
   "pygments_lexer": "ipython3",
   "version": "3.10.9"
  }
 },
 "nbformat": 4,
 "nbformat_minor": 5
}
