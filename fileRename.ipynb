{
 "cells": [
  {
   "cell_type": "code",
   "execution_count": 8,
   "id": "75eecd2f",
   "metadata": {},
   "outputs": [
    {
     "name": "stdout",
     "output_type": "stream",
     "text": [
      "[]\n"
     ]
    }
   ],
   "source": [
    "import os\n",
    "import glob\n",
    "\n",
    "files = glob.glob('*temps_????.png')\n",
    "\n",
    "count = 0\n",
    "for x in files:\n",
    "    prefix = x[0:3]\n",
    "    suffix = x[-4:]\n",
    "    year = x[-8:-4]\n",
    "    newNameTemps = f'{prefix}{year}Temps{suffix}'\n",
    "    os.rename(x, newNameTemps)\n",
    "    \n",
    "\n",
    "#for x in os.listdir():\n",
    "#    if x.endswith(\".png\"):\n",
    "#        # Prints only text file present in My Folder\n",
    "#        print(x)\n",
    "\n"
   ]
  },
  {
   "cell_type": "code",
   "execution_count": null,
   "id": "ad32159d",
   "metadata": {},
   "outputs": [],
   "source": []
  }
 ],
 "metadata": {
  "kernelspec": {
   "display_name": "Python 3 (ipykernel)",
   "language": "python",
   "name": "python3"
  },
  "language_info": {
   "codemirror_mode": {
    "name": "ipython",
    "version": 3
   },
   "file_extension": ".py",
   "mimetype": "text/x-python",
   "name": "python",
   "nbconvert_exporter": "python",
   "pygments_lexer": "ipython3",
   "version": "3.10.9"
  }
 },
 "nbformat": 4,
 "nbformat_minor": 5
}
