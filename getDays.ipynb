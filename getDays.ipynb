{
 "cells": [
  {
   "cell_type": "code",
   "execution_count": 1,
   "id": "c94840f9",
   "metadata": {},
   "outputs": [],
   "source": [
    "from datetime import datetime, timedelta\n",
    "\n",
    "def getToday():\n",
    "\n",
    "    presentDay = datetime.now() \n",
    "    month_num = presentDay.strftime(\"%m\")\n",
    "    month = presentDay.strftime(\"%B\")\n",
    "    date = presentDay.strftime(\"%-d\")\n",
    "    year = presentDay.strftime(\"%Y\")\n",
    "    return(month, month_num, date, year)\n",
    "\n",
    "def getYesterday():\n",
    "\n",
    "    presentDay = datetime.now() \n",
    "    yesterDay = presentDay - timedelta(1)\n",
    "    yesMonth_num = yesterDay.strftime(\"%m\")\n",
    "    yesMonth = yesterDay.strftime(\"%B\")\n",
    "    yesDate = yesterDay.strftime(\"%-d\")\n",
    "    yesYear = yesterDay.strftime(\"%Y\")\n",
    "    return(yesMonth, yesMonth_num, yesDate, yesYear)\n",
    "\n",
    "def getTomorrow():    \n",
    "    \n",
    "    presentDay = datetime.now() \n",
    "    nextDay = presentDay + timedelta(1)\n",
    "    nextMonth_num = nextDay.strftime(\"%m\")\n",
    "    nextMonth = nextDay.strftime(\"%B\")\n",
    "    nextDate = nextDay.strftime(\"%-d\")\n",
    "    nextYear = nextDay.strftime(\"%Y\")\n",
    "    return(nextMonth,nextMonth_num, nextDate, nextYear)"
   ]
  }
 ],
 "metadata": {
  "kernelspec": {
   "display_name": "Python 3 (ipykernel)",
   "language": "python",
   "name": "python3"
  },
  "language_info": {
   "codemirror_mode": {
    "name": "ipython",
    "version": 3
   },
   "file_extension": ".py",
   "mimetype": "text/x-python",
   "name": "python",
   "nbconvert_exporter": "python",
   "pygments_lexer": "ipython3",
   "version": "3.10.9"
  }
 },
 "nbformat": 4,
 "nbformat_minor": 5
}
