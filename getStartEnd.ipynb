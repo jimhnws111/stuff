{
 "cells": [
  {
   "cell_type": "code",
   "execution_count": null,
   "id": "7b2879b1",
   "metadata": {},
   "outputs": [],
   "source": [
    "import time\n",
    "from datetime import datetime\n",
    "import requests\n",
    "import json\n",
    "import dataFile\n",
    "import getData\n",
    "import checkDST\n",
    "\n",
    "def getStartEnd():\n",
    "\n",
    "    \"\"\"Get the start and end times, depending on product\"\"\"\n",
    "\n",
    "    now = datetime.now()\n",
    "    x = now.strftime(\"%Y-%m-%d\")\n",
    "    print(\"FUCK!\", now)\n",
    "    print(\"This is the time of x: \", x)\n",
    "\n",
    "    t1 = ' 20:00'\n",
    "    t2 = ' 21:00'\n",
    "    time1 = x + t1\n",
    "    time2 = x + t2\n",
    "    print(\"These are the time values\", time1, time2)\n",
    "    val1 = datetime.strptime(time1, \"%Y-%m-%d %H:%M\")\n",
    "    val2 = datetime.strptime(time2, \"%Y-%m-%d %H:%M\")\n",
    "    print(val1, val2)\n",
    "\n",
    "    if val1 < now < val2:\n",
    "        end = int(datetime.timestamp(now))\n",
    "        start = (end - 59400)\n",
    "        start = str(start)\n",
    "        end = str(end) \n",
    "        print(\"Chose this one\")\n",
    "\n",
    "    else:\n",
    "        startEnd = getData.getData()\n",
    "        start, end = startEnd[0], startEnd[1] \n",
    "        start = str(start)\n",
    "        end = str(end) \n",
    "        print(\"Nope. Chose this one instead\")  \n",
    "    \n",
    "    return(start, end)"
   ]
  }
 ],
 "metadata": {
  "kernelspec": {
   "display_name": "Python 3 (ipykernel)",
   "language": "python",
   "name": "python3"
  },
  "language_info": {
   "codemirror_mode": {
    "name": "ipython",
    "version": 3
   },
   "file_extension": ".py",
   "mimetype": "text/x-python",
   "name": "python",
   "nbconvert_exporter": "python",
   "pygments_lexer": "ipython3",
   "version": "3.10.9"
  }
 },
 "nbformat": 4,
 "nbformat_minor": 5
}
